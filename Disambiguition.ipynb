{
 "cells": [
  {
   "cell_type": "markdown",
   "metadata": {},
   "source": [
    "__PyScopus__: An example for author disambiguity"
   ]
  },
  {
   "cell_type": "markdown",
   "metadata": {},
   "source": [
    "Sometimes Scopus would mix up people with similar names. I recently come up with a not that difficult method to clean author publication profiles, which needs some manual work."
   ]
  },
  {
   "cell_type": "markdown",
   "metadata": {},
   "source": [
    "If you can think of a better way, please do let me know!"
   ]
  },
  {
   "cell_type": "markdown",
   "metadata": {},
   "source": [
    "---"
   ]
  },
  {
   "cell_type": "code",
   "execution_count": 3,
   "metadata": {
    "ExecuteTime": {
     "end_time": "2018-09-29T23:05:41.339154Z",
     "start_time": "2018-09-29T23:05:41.327270Z"
    }
   },
   "outputs": [
    {
     "data": {
      "text/plain": [
       "'1.0.0a1'"
      ]
     },
     "execution_count": 3,
     "metadata": {},
     "output_type": "execute_result"
    }
   ],
   "source": [
    "import pyscopus\n",
    "pyscopus.__version__"
   ]
  },
  {
   "cell_type": "code",
   "execution_count": 6,
   "metadata": {
    "ExecuteTime": {
     "end_time": "2018-09-29T23:06:22.674563Z",
     "start_time": "2018-09-29T23:06:22.669911Z"
    }
   },
   "outputs": [],
   "source": [
    "from pyscopus import Scopus\n",
    "key = 'YOUR_OWN_APIKEY'\n",
    "scopus = Scopus(key)"
   ]
  },
  {
   "cell_type": "code",
   "execution_count": 9,
   "metadata": {
    "ExecuteTime": {
     "end_time": "2018-09-29T23:12:58.418891Z",
     "start_time": "2018-09-29T23:12:58.177531Z"
    }
   },
   "outputs": [],
   "source": [
    "import utils"
   ]
  },
  {
   "cell_type": "markdown",
   "metadata": {},
   "source": [
    "---"
   ]
  },
  {
   "cell_type": "markdown",
   "metadata": {},
   "source": [
    "When I was collecting data for my own research, I found that [Dr. Vivek K. Singh](http://web.media.mit.edu/~singhv/) has a very [noisy profile in Scopus](https://www.scopus.com/authid/detail.uri?authorId=7404651152). Let's use this as an example."
   ]
  },
  {
   "cell_type": "markdown",
   "metadata": {},
   "source": [
    "The basic idea is to match author-affiliation pair:\n",
    "- For all the paper found in the _mixed profile_\n",
    "    - Find the focal author (in this case, Dr. Singh)\n",
    "    - Look at his/her affiliation\n",
    "        - Keep this paper if the affiliation is indeed where he/she is\n",
    "        - If not, discard the paper"
   ]
  },
  {
   "cell_type": "markdown",
   "metadata": {},
   "source": [
    "For Dr. Singh, I manually obtained his affiliation ids by searching through [Scopus affiliation search](https://www.scopus.com/search/form.uri?display=affiliationLookup). Upon obtaining that, create a dictionary containing _name (first/last)_, _affiliation name_, and _a list of affiliation ids_. Author and affiliation names would be used to search for this author. The list of affiliation ids would be used for cleaning papers: "
   ]
  },
  {
   "cell_type": "markdown",
   "metadata": {},
   "source": [
    "- UC Irvine `60007278`\n",
    "- MIT `60022195`\n",
    "- Rutgers `60030623`"
   ]
  },
  {
   "cell_type": "code",
   "execution_count": 23,
   "metadata": {
    "ExecuteTime": {
     "end_time": "2018-09-29T23:37:05.687705Z",
     "start_time": "2018-09-29T23:37:05.679334Z"
    }
   },
   "outputs": [
    {
     "data": {
      "text/plain": [
       "{'authfirst': 'Vivek',\n",
       " 'authlastname': 'Singh',\n",
       " 'affiliation': 'Rutgers',\n",
       " 'affil_id_list': ['60030623', '60022195', '60007278']}"
      ]
     },
     "execution_count": 23,
     "metadata": {},
     "output_type": "execute_result"
    }
   ],
   "source": [
    "d = {'authfirst': 'Vivek', 'authlastname': 'Singh', 'affiliation': 'Rutgers',\n",
    "     'affil_id_list': ['60030623', '60022195', '60007278']\n",
    "    }\n",
    "d"
   ]
  },
  {
   "cell_type": "code",
   "execution_count": 24,
   "metadata": {
    "ExecuteTime": {
     "end_time": "2018-09-29T23:37:06.563075Z",
     "start_time": "2018-09-29T23:37:06.032502Z"
    }
   },
   "outputs": [
    {
     "data": {
      "text/html": [
       "<div>\n",
       "<style scoped>\n",
       "    .dataframe tbody tr th:only-of-type {\n",
       "        vertical-align: middle;\n",
       "    }\n",
       "\n",
       "    .dataframe tbody tr th {\n",
       "        vertical-align: top;\n",
       "    }\n",
       "\n",
       "    .dataframe thead th {\n",
       "        text-align: right;\n",
       "    }\n",
       "</style>\n",
       "<table border=\"1\" class=\"dataframe\">\n",
       "  <thead>\n",
       "    <tr style=\"text-align: right;\">\n",
       "      <th></th>\n",
       "      <th>author_id</th>\n",
       "      <th>name</th>\n",
       "      <th>document_count</th>\n",
       "      <th>affiliation</th>\n",
       "      <th>affiliation_id</th>\n",
       "    </tr>\n",
       "  </thead>\n",
       "  <tbody>\n",
       "    <tr>\n",
       "      <th>0</th>\n",
       "      <td>7404651152</td>\n",
       "      <td>Vivek Kumar N. Singh</td>\n",
       "      <td>490</td>\n",
       "      <td>Banaras Hindu University</td>\n",
       "      <td>60008721</td>\n",
       "    </tr>\n",
       "  </tbody>\n",
       "</table>\n",
       "</div>"
      ],
      "text/plain": [
       "    author_id                  name  document_count               affiliation  \\\n",
       "0  7404651152  Vivek Kumar N. Singh             490  Banaras Hindu University   \n",
       "\n",
       "  affiliation_id  \n",
       "0       60008721  "
      ]
     },
     "execution_count": 24,
     "metadata": {},
     "output_type": "execute_result"
    }
   ],
   "source": [
    "query = \"AUTHLASTNAME({}) and AUTHFIRST({}) and AFFIL({})\".format(d['authlastname'], d['authfirst'], d['affiliation'])\n",
    "author_search_df = scopus.search_author(query)\n",
    "author_search_df"
   ]
  },
  {
   "cell_type": "markdown",
   "metadata": {},
   "source": [
    "Sometimes we would obtain a list of author profiles for each author. In this case, we only have one and it is clear that the author profile is highly noisy.\n",
    "\n",
    "In the following step, I would use the helper functions in `utils` to screen each paper by this `author_id`"
   ]
  },
  {
   "cell_type": "code",
   "execution_count": 25,
   "metadata": {
    "ExecuteTime": {
     "end_time": "2018-09-29T23:37:08.324757Z",
     "start_time": "2018-09-29T23:37:08.318885Z"
    }
   },
   "outputs": [
    {
     "data": {
      "text/plain": [
       "('7404651152', ['60030623', '60022195', '60007278'])"
      ]
     },
     "execution_count": 25,
     "metadata": {},
     "output_type": "execute_result"
    }
   ],
   "source": [
    "author_id = '7404651152'\n",
    "author_id, d['affil_id_list']"
   ]
  },
  {
   "cell_type": "markdown",
   "metadata": {},
   "source": [
    "The filtering process may take a while, depending on how many documents are mixd up."
   ]
  },
  {
   "cell_type": "code",
   "execution_count": 26,
   "metadata": {
    "ExecuteTime": {
     "end_time": "2018-09-29T23:47:29.793512Z",
     "start_time": "2018-09-29T23:37:14.022788Z"
    }
   },
   "outputs": [
    {
     "data": {
      "text/plain": [
       "(134, 134, 0)"
      ]
     },
     "execution_count": 26,
     "metadata": {},
     "output_type": "execute_result"
    }
   ],
   "source": [
    "filterd_pub_df = utils.check_pub_validity(scopus, author_id, d['affil_id_list'], apikey)\n",
    "filterd_pub_df.shape[0], filterd_pub_df.scopus_id.unique().size, filterd_pub_df.scopus_id.isnull().sum()"
   ]
  },
  {
   "cell_type": "markdown",
   "metadata": {},
   "source": [
    "Obviously, the number of papers is highly reduced. We can now check a random subset to see if the filtered papers make sense for this author."
   ]
  },
  {
   "cell_type": "code",
   "execution_count": 28,
   "metadata": {
    "ExecuteTime": {
     "end_time": "2018-09-29T23:47:39.672486Z",
     "start_time": "2018-09-29T23:47:39.646719Z"
    }
   },
   "outputs": [
    {
     "data": {
      "text/html": [
       "<div>\n",
       "<style scoped>\n",
       "    .dataframe tbody tr th:only-of-type {\n",
       "        vertical-align: middle;\n",
       "    }\n",
       "\n",
       "    .dataframe tbody tr th {\n",
       "        vertical-align: top;\n",
       "    }\n",
       "\n",
       "    .dataframe thead th {\n",
       "        text-align: right;\n",
       "    }\n",
       "</style>\n",
       "<table border=\"1\" class=\"dataframe\">\n",
       "  <thead>\n",
       "    <tr style=\"text-align: right;\">\n",
       "      <th></th>\n",
       "      <th>title</th>\n",
       "      <th>publication_name</th>\n",
       "    </tr>\n",
       "  </thead>\n",
       "  <tbody>\n",
       "    <tr>\n",
       "      <th>117</th>\n",
       "      <td>Effects of high-energy irradiation on silicon ...</td>\n",
       "      <td>Optics InfoBase Conference Papers</td>\n",
       "    </tr>\n",
       "    <tr>\n",
       "      <th>34</th>\n",
       "      <td>\"They basically like destroyed the school one ...</td>\n",
       "      <td>Proceedings of the ACM Conference on Computer ...</td>\n",
       "    </tr>\n",
       "    <tr>\n",
       "      <th>58</th>\n",
       "      <td>Situation recognition from multimodal data</td>\n",
       "      <td>MM 2016 - Proceedings of the 2016 ACM Multimed...</td>\n",
       "    </tr>\n",
       "    <tr>\n",
       "      <th>70</th>\n",
       "      <td>On-chip mid-infrared gas detection using chalc...</td>\n",
       "      <td>Applied Physics Letters</td>\n",
       "    </tr>\n",
       "    <tr>\n",
       "      <th>212</th>\n",
       "      <td>Mid-infrared As&lt;inf&gt;2&lt;/inf&gt;Se&lt;inf&gt;3&lt;/inf&gt; chal...</td>\n",
       "      <td>IEEE International Conference on Group IV Phot...</td>\n",
       "    </tr>\n",
       "    <tr>\n",
       "      <th>88</th>\n",
       "      <td>Geo-intelligence and visualization through big...</td>\n",
       "      <td>Geo-Intelligence and Visualization through Big...</td>\n",
       "    </tr>\n",
       "    <tr>\n",
       "      <th>120</th>\n",
       "      <td>Effects of high-energy irradiation on silicon ...</td>\n",
       "      <td>Optics InfoBase Conference Papers</td>\n",
       "    </tr>\n",
       "    <tr>\n",
       "      <th>206</th>\n",
       "      <td>Low loss mid-infrared silicon waveguides by us...</td>\n",
       "      <td>Frontiers in Optics, FIO 2012</td>\n",
       "    </tr>\n",
       "    <tr>\n",
       "      <th>151</th>\n",
       "      <td>Predicting spending behavior using socio-mobil...</td>\n",
       "      <td>Proceedings - SocialCom/PASSAT/BigData/EconCom...</td>\n",
       "    </tr>\n",
       "    <tr>\n",
       "      <th>154</th>\n",
       "      <td>Generation of two-cycle pulses and octave-span...</td>\n",
       "      <td>Optics Letters</td>\n",
       "    </tr>\n",
       "    <tr>\n",
       "      <th>73</th>\n",
       "      <td>Predicting privacy attitudes using phone metadata</td>\n",
       "      <td>Lecture Notes in Computer Science (including s...</td>\n",
       "    </tr>\n",
       "    <tr>\n",
       "      <th>259</th>\n",
       "      <td>Novel designs for on-chip mid-infrared detecto...</td>\n",
       "      <td>Optics InfoBase Conference Papers</td>\n",
       "    </tr>\n",
       "    <tr>\n",
       "      <th>204</th>\n",
       "      <td>Engineering spectral variation of FSR by tailo...</td>\n",
       "      <td>Integrated Photonics Research, Silicon and Nan...</td>\n",
       "    </tr>\n",
       "    <tr>\n",
       "      <th>29</th>\n",
       "      <td>Toward harmonizing self-reported and logged so...</td>\n",
       "      <td>Conference on Human Factors in Computing Syste...</td>\n",
       "    </tr>\n",
       "    <tr>\n",
       "      <th>316</th>\n",
       "      <td>Adversary aware surveillance systems</td>\n",
       "      <td>IEEE Transactions on Information Forensics and...</td>\n",
       "    </tr>\n",
       "    <tr>\n",
       "      <th>194</th>\n",
       "      <td>Situation recognition: An evolving problem for...</td>\n",
       "      <td>MM 2012 - Proceedings of the 20th ACM Internat...</td>\n",
       "    </tr>\n",
       "    <tr>\n",
       "      <th>209</th>\n",
       "      <td>Trimming of athermal silicon resonators</td>\n",
       "      <td>Integrated Photonics Research, Silicon and Nan...</td>\n",
       "    </tr>\n",
       "    <tr>\n",
       "      <th>116</th>\n",
       "      <td>Nonreciprocal racetrack resonator based on vac...</td>\n",
       "      <td>Optics Express</td>\n",
       "    </tr>\n",
       "    <tr>\n",
       "      <th>105</th>\n",
       "      <td>Assessing personality using demographic inform...</td>\n",
       "      <td>ACM International Conference Proceeding Series</td>\n",
       "    </tr>\n",
       "    <tr>\n",
       "      <th>265</th>\n",
       "      <td>Visible light trimming of coupled ring-resonat...</td>\n",
       "      <td>2011 Conference on Lasers and Electro-Optics E...</td>\n",
       "    </tr>\n",
       "  </tbody>\n",
       "</table>\n",
       "</div>"
      ],
      "text/plain": [
       "                                                 title  \\\n",
       "117  Effects of high-energy irradiation on silicon ...   \n",
       "34   \"They basically like destroyed the school one ...   \n",
       "58          Situation recognition from multimodal data   \n",
       "70   On-chip mid-infrared gas detection using chalc...   \n",
       "212  Mid-infrared As<inf>2</inf>Se<inf>3</inf> chal...   \n",
       "88   Geo-intelligence and visualization through big...   \n",
       "120  Effects of high-energy irradiation on silicon ...   \n",
       "206  Low loss mid-infrared silicon waveguides by us...   \n",
       "151  Predicting spending behavior using socio-mobil...   \n",
       "154  Generation of two-cycle pulses and octave-span...   \n",
       "73   Predicting privacy attitudes using phone metadata   \n",
       "259  Novel designs for on-chip mid-infrared detecto...   \n",
       "204  Engineering spectral variation of FSR by tailo...   \n",
       "29   Toward harmonizing self-reported and logged so...   \n",
       "316               Adversary aware surveillance systems   \n",
       "194  Situation recognition: An evolving problem for...   \n",
       "209            Trimming of athermal silicon resonators   \n",
       "116  Nonreciprocal racetrack resonator based on vac...   \n",
       "105  Assessing personality using demographic inform...   \n",
       "265  Visible light trimming of coupled ring-resonat...   \n",
       "\n",
       "                                      publication_name  \n",
       "117                  Optics InfoBase Conference Papers  \n",
       "34   Proceedings of the ACM Conference on Computer ...  \n",
       "58   MM 2016 - Proceedings of the 2016 ACM Multimed...  \n",
       "70                             Applied Physics Letters  \n",
       "212  IEEE International Conference on Group IV Phot...  \n",
       "88   Geo-Intelligence and Visualization through Big...  \n",
       "120                  Optics InfoBase Conference Papers  \n",
       "206                      Frontiers in Optics, FIO 2012  \n",
       "151  Proceedings - SocialCom/PASSAT/BigData/EconCom...  \n",
       "154                                     Optics Letters  \n",
       "73   Lecture Notes in Computer Science (including s...  \n",
       "259                  Optics InfoBase Conference Papers  \n",
       "204  Integrated Photonics Research, Silicon and Nan...  \n",
       "29   Conference on Human Factors in Computing Syste...  \n",
       "316  IEEE Transactions on Information Forensics and...  \n",
       "194  MM 2012 - Proceedings of the 20th ACM Internat...  \n",
       "209  Integrated Photonics Research, Silicon and Nan...  \n",
       "116                                     Optics Express  \n",
       "105     ACM International Conference Proceeding Series  \n",
       "265  2011 Conference on Lasers and Electro-Optics E...  "
      ]
     },
     "execution_count": 28,
     "metadata": {},
     "output_type": "execute_result"
    }
   ],
   "source": [
    "filterd_pub_df.iloc[utils.pd.np.random.randint(0, high=134, size=20)][['title', 'publication_name']]"
   ]
  },
  {
   "cell_type": "markdown",
   "metadata": {},
   "source": [
    "However, there may still be noise in it (e.g., papers published in optics/photonics venues). We can manually exclude those as well:"
   ]
  },
  {
   "cell_type": "code",
   "execution_count": 44,
   "metadata": {
    "ExecuteTime": {
     "end_time": "2018-09-29T23:52:32.854203Z",
     "start_time": "2018-09-29T23:52:32.791735Z"
    }
   },
   "outputs": [
    {
     "data": {
      "text/plain": [
       "(59, 16)"
      ]
     },
     "execution_count": 44,
     "metadata": {},
     "output_type": "execute_result"
    }
   ],
   "source": [
    "filterd_pub_df = filterd_pub_df.query(\"not publication_name.str.lower().str.contains('optic')\")\n",
    "filterd_pub_df = filterd_pub_df.query(\"not publication_name.str.lower().str.contains('photonic')\")\n",
    "filterd_pub_df = filterd_pub_df.query(\"not publication_name.str.lower().str.contains('nano')\")\n",
    "filterd_pub_df = filterd_pub_df.query(\"not publication_name.str.lower().str.contains('quantum')\")\n",
    "filterd_pub_df = filterd_pub_df.query(\"not publication_name.str.lower().str.contains('sensor')\")\n",
    "filterd_pub_df = filterd_pub_df.query(\"not publication_name.str.lower().str.contains('cleo')\")\n",
    "filterd_pub_df = filterd_pub_df.query(\"not publication_name.str.lower().str.contains('materials')\")\n",
    "filterd_pub_df = filterd_pub_df.query(\"not publication_name.str.lower().str.contains('physics')\")\n",
    "filterd_pub_df = filterd_pub_df.query(\"not publication_name.str.lower().str.contains('chip')\")\n",
    "filterd_pub_df.shape"
   ]
  },
  {
   "cell_type": "markdown",
   "metadata": {},
   "source": [
    "And let's check again"
   ]
  },
  {
   "cell_type": "code",
   "execution_count": 46,
   "metadata": {
    "ExecuteTime": {
     "end_time": "2018-09-29T23:52:58.494744Z",
     "start_time": "2018-09-29T23:52:58.480176Z"
    }
   },
   "outputs": [
    {
     "data": {
      "text/html": [
       "<div>\n",
       "<style scoped>\n",
       "    .dataframe tbody tr th:only-of-type {\n",
       "        vertical-align: middle;\n",
       "    }\n",
       "\n",
       "    .dataframe tbody tr th {\n",
       "        vertical-align: top;\n",
       "    }\n",
       "\n",
       "    .dataframe thead th {\n",
       "        text-align: right;\n",
       "    }\n",
       "</style>\n",
       "<table border=\"1\" class=\"dataframe\">\n",
       "  <thead>\n",
       "    <tr style=\"text-align: right;\">\n",
       "      <th></th>\n",
       "      <th>title</th>\n",
       "      <th>publication_name</th>\n",
       "    </tr>\n",
       "  </thead>\n",
       "  <tbody>\n",
       "    <tr>\n",
       "      <th>94</th>\n",
       "      <td>Physical-Cyber-Social Computing: Looking Back,...</td>\n",
       "      <td>IEEE Internet Computing</td>\n",
       "    </tr>\n",
       "    <tr>\n",
       "      <th>58</th>\n",
       "      <td>Situation recognition from multimodal data</td>\n",
       "      <td>MM 2016 - Proceedings of the 2016 ACM Multimed...</td>\n",
       "    </tr>\n",
       "    <tr>\n",
       "      <th>151</th>\n",
       "      <td>Predicting spending behavior using socio-mobil...</td>\n",
       "      <td>Proceedings - SocialCom/PASSAT/BigData/EconCom...</td>\n",
       "    </tr>\n",
       "    <tr>\n",
       "      <th>28</th>\n",
       "      <td>Toward multimodal cyberbullying detection</td>\n",
       "      <td>Conference on Human Factors in Computing Syste...</td>\n",
       "    </tr>\n",
       "    <tr>\n",
       "      <th>61</th>\n",
       "      <td>If it looks like a spammer and behaves like a ...</td>\n",
       "      <td>International Journal of Information Security</td>\n",
       "    </tr>\n",
       "    <tr>\n",
       "      <th>134</th>\n",
       "      <td>Cyber bullying detection using social and text...</td>\n",
       "      <td>SAM 2014 - Proceedings of the 3rd Internationa...</td>\n",
       "    </tr>\n",
       "    <tr>\n",
       "      <th>45</th>\n",
       "      <td>From sensors to sense-making: Opportunities an...</td>\n",
       "      <td>Proceedings of the Association for Information...</td>\n",
       "    </tr>\n",
       "    <tr>\n",
       "      <th>45</th>\n",
       "      <td>From sensors to sense-making: Opportunities an...</td>\n",
       "      <td>Proceedings of the Association for Information...</td>\n",
       "    </tr>\n",
       "    <tr>\n",
       "      <th>297</th>\n",
       "      <td>Structural analysis of the emerging event-web</td>\n",
       "      <td>Proceedings of the 19th International Conferen...</td>\n",
       "    </tr>\n",
       "    <tr>\n",
       "      <th>40</th>\n",
       "      <td>Using cognitive dissonance theory to understan...</td>\n",
       "      <td>Proceedings of the Association for Information...</td>\n",
       "    </tr>\n",
       "    <tr>\n",
       "      <th>88</th>\n",
       "      <td>Geo-intelligence and visualization through big...</td>\n",
       "      <td>Geo-Intelligence and Visualization through Big...</td>\n",
       "    </tr>\n",
       "    <tr>\n",
       "      <th>87</th>\n",
       "      <td>Preface</td>\n",
       "      <td>Geo-Intelligence and Visualization through Big...</td>\n",
       "    </tr>\n",
       "    <tr>\n",
       "      <th>34</th>\n",
       "      <td>\"They basically like destroyed the school one ...</td>\n",
       "      <td>Proceedings of the ACM Conference on Computer ...</td>\n",
       "    </tr>\n",
       "    <tr>\n",
       "      <th>152</th>\n",
       "      <td>EventShop: Recognizing situations in web data ...</td>\n",
       "      <td>WWW 2013 Companion - Proceedings of the 22nd I...</td>\n",
       "    </tr>\n",
       "    <tr>\n",
       "      <th>73</th>\n",
       "      <td>Predicting privacy attitudes using phone metadata</td>\n",
       "      <td>Lecture Notes in Computer Science (including s...</td>\n",
       "    </tr>\n",
       "    <tr>\n",
       "      <th>30</th>\n",
       "      <td>Introduction to the special issue on advances ...</td>\n",
       "      <td>ACM Transactions on Internet Technology</td>\n",
       "    </tr>\n",
       "    <tr>\n",
       "      <th>74</th>\n",
       "      <td>Situation recognition using eventShop</td>\n",
       "      <td>Situation Recognition Using EventShop</td>\n",
       "    </tr>\n",
       "    <tr>\n",
       "      <th>301</th>\n",
       "      <td>From microblogs to social images: Event analyt...</td>\n",
       "      <td>MIR 2010 - Proceedings of the 2010 ACM SIGMM I...</td>\n",
       "    </tr>\n",
       "    <tr>\n",
       "      <th>29</th>\n",
       "      <td>Toward harmonizing self-reported and logged so...</td>\n",
       "      <td>Conference on Human Factors in Computing Syste...</td>\n",
       "    </tr>\n",
       "    <tr>\n",
       "      <th>94</th>\n",
       "      <td>Physical-Cyber-Social Computing: Looking Back,...</td>\n",
       "      <td>IEEE Internet Computing</td>\n",
       "    </tr>\n",
       "  </tbody>\n",
       "</table>\n",
       "</div>"
      ],
      "text/plain": [
       "                                                 title  \\\n",
       "94   Physical-Cyber-Social Computing: Looking Back,...   \n",
       "58          Situation recognition from multimodal data   \n",
       "151  Predicting spending behavior using socio-mobil...   \n",
       "28           Toward multimodal cyberbullying detection   \n",
       "61   If it looks like a spammer and behaves like a ...   \n",
       "134  Cyber bullying detection using social and text...   \n",
       "45   From sensors to sense-making: Opportunities an...   \n",
       "45   From sensors to sense-making: Opportunities an...   \n",
       "297      Structural analysis of the emerging event-web   \n",
       "40   Using cognitive dissonance theory to understan...   \n",
       "88   Geo-intelligence and visualization through big...   \n",
       "87                                             Preface   \n",
       "34   \"They basically like destroyed the school one ...   \n",
       "152  EventShop: Recognizing situations in web data ...   \n",
       "73   Predicting privacy attitudes using phone metadata   \n",
       "30   Introduction to the special issue on advances ...   \n",
       "74               Situation recognition using eventShop   \n",
       "301  From microblogs to social images: Event analyt...   \n",
       "29   Toward harmonizing self-reported and logged so...   \n",
       "94   Physical-Cyber-Social Computing: Looking Back,...   \n",
       "\n",
       "                                      publication_name  \n",
       "94                             IEEE Internet Computing  \n",
       "58   MM 2016 - Proceedings of the 2016 ACM Multimed...  \n",
       "151  Proceedings - SocialCom/PASSAT/BigData/EconCom...  \n",
       "28   Conference on Human Factors in Computing Syste...  \n",
       "61       International Journal of Information Security  \n",
       "134  SAM 2014 - Proceedings of the 3rd Internationa...  \n",
       "45   Proceedings of the Association for Information...  \n",
       "45   Proceedings of the Association for Information...  \n",
       "297  Proceedings of the 19th International Conferen...  \n",
       "40   Proceedings of the Association for Information...  \n",
       "88   Geo-Intelligence and Visualization through Big...  \n",
       "87   Geo-Intelligence and Visualization through Big...  \n",
       "34   Proceedings of the ACM Conference on Computer ...  \n",
       "152  WWW 2013 Companion - Proceedings of the 22nd I...  \n",
       "73   Lecture Notes in Computer Science (including s...  \n",
       "30             ACM Transactions on Internet Technology  \n",
       "74               Situation Recognition Using EventShop  \n",
       "301  MIR 2010 - Proceedings of the 2010 ACM SIGMM I...  \n",
       "29   Conference on Human Factors in Computing Syste...  \n",
       "94                             IEEE Internet Computing  "
      ]
     },
     "execution_count": 46,
     "metadata": {},
     "output_type": "execute_result"
    }
   ],
   "source": [
    "filterd_pub_df.iloc[utils.pd.np.random.randint(0, high=59, size=20)][['title', 'publication_name']]"
   ]
  },
  {
   "cell_type": "markdown",
   "metadata": {},
   "source": [
    "Now it is much better and we can use this cleaned paper list for this focal author."
   ]
  }
 ],
 "metadata": {
  "kernelspec": {
   "display_name": "Python 3",
   "language": "python",
   "name": "python3"
  },
  "language_info": {
   "codemirror_mode": {
    "name": "ipython",
    "version": 3
   },
   "file_extension": ".py",
   "mimetype": "text/x-python",
   "name": "python",
   "nbconvert_exporter": "python",
   "pygments_lexer": "ipython3",
   "version": "3.7.0"
  },
  "toc": {
   "base_numbering": 1,
   "nav_menu": {},
   "number_sections": true,
   "sideBar": true,
   "skip_h1_title": true,
   "title_cell": "Table of Contents",
   "title_sidebar": "Contents",
   "toc_cell": false,
   "toc_position": {
    "height": "calc(100% - 180px)",
    "left": "10px",
    "top": "150px",
    "width": "335px"
   },
   "toc_section_display": true,
   "toc_window_display": true
  }
 },
 "nbformat": 4,
 "nbformat_minor": 2
}
