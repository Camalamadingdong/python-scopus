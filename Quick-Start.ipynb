{
 "cells": [
  {
   "cell_type": "markdown",
   "metadata": {},
   "source": [
    "__PyScopus__: Quick Start"
   ]
  },
  {
   "cell_type": "markdown",
   "metadata": {},
   "source": [
    "__PyScopus__ is a Python wrapper of [Elsevier Scopus API](https://dev.elsevier.com/). More details of this Python package can be found [here](http://zhiyzuo.github.io/python-scopus/)."
   ]
  },
  {
   "cell_type": "markdown",
   "metadata": {},
   "source": [
    "<hr>"
   ]
  },
  {
   "cell_type": "markdown",
   "metadata": {},
   "source": [
    "Import `Scopus` class and initialize with your own __API Key__"
   ]
  },
  {
   "cell_type": "code",
   "execution_count": 1,
   "metadata": {
    "ExecuteTime": {
     "end_time": "2017-12-29T02:51:37.621961Z",
     "start_time": "2017-12-29T02:51:35.762512Z"
    }
   },
   "outputs": [
    {
     "data": {
      "text/plain": [
       "'0.9.0'"
      ]
     },
     "execution_count": 1,
     "metadata": {},
     "output_type": "execute_result"
    }
   ],
   "source": [
    "import pyscopus\n",
    "pyscopus.__version__"
   ]
  },
  {
   "cell_type": "code",
   "execution_count": 2,
   "metadata": {
    "ExecuteTime": {
     "end_time": "2017-12-29T02:51:37.625317Z",
     "start_time": "2017-12-29T02:51:37.623410Z"
    },
    "init_cell": true
   },
   "outputs": [],
   "source": [
    "from pyscopus import Scopus"
   ]
  },
  {
   "cell_type": "code",
   "execution_count": 3,
   "metadata": {
    "ExecuteTime": {
     "end_time": "2017-12-29T02:43:02.543562Z",
     "start_time": "2017-12-29T02:43:02.541572Z"
    },
    "init_cell": true
   },
   "outputs": [],
   "source": [
    "key = 'xxxxxxxxxxxxxxxxxxxxxxxxx'"
   ]
  },
  {
   "cell_type": "code",
   "execution_count": 4,
   "metadata": {
    "ExecuteTime": {
     "end_time": "2017-12-29T02:51:37.723026Z",
     "start_time": "2017-12-29T02:51:37.675394Z"
    },
    "init_cell": true
   },
   "outputs": [],
   "source": [
    "scopus = Scopus(key)"
   ]
  },
  {
   "cell_type": "markdown",
   "metadata": {},
   "source": [
    "<hr>"
   ]
  },
  {
   "cell_type": "markdown",
   "metadata": {},
   "source": [
    "### General Search"
   ]
  },
  {
   "cell_type": "code",
   "execution_count": 5,
   "metadata": {
    "ExecuteTime": {
     "end_time": "2017-12-29T02:51:40.648856Z",
     "start_time": "2017-12-29T02:51:38.877277Z"
    }
   },
   "outputs": [
    {
     "name": "stdout",
     "output_type": "stream",
     "text": [
      "http://api.elsevier.com/content/search/scopus?apikey=2b169dd4b50a8f4d4462b160d8e7c0c8&query=KEY%28interdisciplinary+collaboration%29&start=0&httpAccept=application%2Fjson\n",
      "http://api.elsevier.com/content/search/scopus?apikey=2b169dd4b50a8f4d4462b160d8e7c0c8&query=KEY%28interdisciplinary+collaboration%29&start=25&httpAccept=application%2Fjson\n"
     ]
    }
   ],
   "source": [
    "search_df = scopus.search(\"KEY(interdisciplinary collaboration)\", count=30)"
   ]
  },
  {
   "cell_type": "code",
   "execution_count": 6,
   "metadata": {
    "ExecuteTime": {
     "end_time": "2017-12-29T02:51:40.716748Z",
     "start_time": "2017-12-29T02:51:40.650258Z"
    },
    "scrolled": true
   },
   "outputs": [
    {
     "name": "stdout",
     "output_type": "stream",
     "text": [
      "                                          affiliation       aggregation_type  \\\n",
      "0   [{'name': 'Beijing Normal University', 'city':...                Journal   \n",
      "1   [{'name': 'University of Nebraska at Omaha', '...                Journal   \n",
      "2   [{'name': 'Philadelphia University', 'city': '...                Journal   \n",
      "3   [{'name': 'Technische Universitat Wien', 'city...                Journal   \n",
      "4   [{'name': 'University of California, San Franc...                Journal   \n",
      "5   [{'name': 'Monash University', 'city': 'Melbou...                Journal   \n",
      "6   [{'name': 'Virginia Polytechnic Institute and ...            Book Series   \n",
      "7   [{'name': 'University of Wisconsin School of M...                Journal   \n",
      "8   [{'name': 'Swinburne University of Technology'...                Journal   \n",
      "9   [{'name': 'University of Missouri School of Me...                Journal   \n",
      "10  [{'name': 'Douglas Mental Health University In...                Journal   \n",
      "11  [{'name': 'Brigham and Women's Hospital', 'cit...                Journal   \n",
      "12  [{'name': 'Universite Nice Sophia Antipolis', ...                Journal   \n",
      "13  [{'name': 'University of South Carolina', 'cit...                Journal   \n",
      "14  [{'name': 'University of Florida', 'city': 'Ga...                Journal   \n",
      "15  [{'name': 'Medizinische Hochschule Hannover (M...                Journal   \n",
      "16  [{'name': 'Children and Screens: Institute of ...                Journal   \n",
      "17  [{'name': 'National Institute on Aging', 'city...                Journal   \n",
      "18  [{'name': 'Maimonides Medical Center', 'city':...                Journal   \n",
      "19  [{'name': 'Universitatea Politehnica din Timis...                Journal   \n",
      "20  [{'name': 'Universita degli Studi di Milano', ...                Journal   \n",
      "21  [{'name': 'Baylor College of Medicine', 'city'...                Journal   \n",
      "22  [{'name': 'Leibniz-Zentrum fur Agrarlandschaft...                Journal   \n",
      "23  [{'name': 'University of Iceland', 'city': 'Re...  Conference Proceeding   \n",
      "24  [{'name': 'UT Medical Branch at Galveston', 'c...                Journal   \n",
      "25  [{'name': 'University of Utah', 'city': 'Salt ...  Conference Proceeding   \n",
      "26  [{'name': 'DePaul University', 'city': 'Chicag...  Conference Proceeding   \n",
      "27  [{'name': 'Fachhochschule Munster - Abteilung ...  Conference Proceeding   \n",
      "28  [{'name': 'Universitatsklinikum Jena und Mediz...                Journal   \n",
      "29  [{'name': 'Hokkaido University', 'city': 'Sapp...                Journal   \n",
      "\n",
      "    citation_count  cover_date                                 doi     eissn  \\\n",
      "0                0  2018-05-01     10.1016/j.scitotenv.2017.11.326  18791026   \n",
      "1                0  2018-02-01           10.1016/j.pcl.2017.08.027  15578240   \n",
      "2                0  2018-02-01           10.1016/j.pcl.2017.08.020  15578240   \n",
      "3                0  2018-02-01        10.1016/j.respol.2017.09.010      None   \n",
      "4                0  2018-02-01          10.1016/j.iccn.2017.07.001      None   \n",
      "5                0  2018-01-02       10.1080/13561820.2017.1381077  14699567   \n",
      "6                0  2018-01-01        10.1007/978-3-319-60937-9_27      None   \n",
      "7                1  2018-01-01          10.1016/j.acra.2017.05.020  18784046   \n",
      "8                0  2017-12-02       10.1080/09544828.2017.1395395  14661837   \n",
      "9                0  2017-12-01            10.1177/1049909117693577  19382715   \n",
      "10               1  2017-12-01           10.1007/s11126-017-9500-4  15736709   \n",
      "11               0  2017-12-01        10.1016/j.anclin.2017.07.005  22103538   \n",
      "12               0  2017-12-01           10.1007/s12520-014-0185-4  18669565   \n",
      "13               0  2017-12-01        10.1016/j.soscij.2017.07.009      None   \n",
      "14               0  2017-11-01             10.1111/1556-4029.13470  15564029   \n",
      "15               0  2017-11-01               10.1055/s-0043-119290  14393824   \n",
      "16               0  2017-11-01             10.1542/peds.2016-1758B  10984275   \n",
      "17               0  2017-11-01                   10.1111/jgs.15052  15325415   \n",
      "18               0  2017-11-01              10.1542/peds.2017-1427  10984275   \n",
      "19               0  2017-11-01  10.1061/(ASCE)SU.1943-5428.0000218      None   \n",
      "20               0  2017-11-01        10.1016/j.compag.2017.09.030      None   \n",
      "21               0  2017-11-01              10.1542/peds.2017-0505  10984275   \n",
      "22               0  2017-10-26                   10.3390/su9111926  20711050   \n",
      "23               0  2017-10-23             10.1145/3141865.3142467      None   \n",
      "24               0  2017-10-18        10.1021/acschemneuro.7b00316  19487193   \n",
      "25               0  2017-10-15             10.1145/3130859.3131333      None   \n",
      "26               0  2017-10-15             10.1145/3116595.3116600      None   \n",
      "27               0  2017-10-13          10.1109/ITHET.2017.8067820      None   \n",
      "28               0  2017-10-12           10.1007/s00063-017-0362-1  21936226   \n",
      "29               0  2017-10-11                10.2147/JMDH.S144526  11782390   \n",
      "\n",
      "             isbn      issn page_range  \\\n",
      "0            None  00489697    493-501   \n",
      "1            None  00313955    143-155   \n",
      "2            None  00313955      47-57   \n",
      "3            None  00487333      35-48   \n",
      "4            None  09643397      18-23   \n",
      "5            None  13561820      63-68   \n",
      "6   9783319609362  21945357    352-367   \n",
      "7            None  10766332       9-17   \n",
      "8            None  09544828    765-798   \n",
      "9            None  10499091    901-906   \n",
      "10           None  00332720    827-838   \n",
      "11           None  19322275    601-610   \n",
      "12           None  18669557  1603-1612   \n",
      "13           None  03623319    458-467   \n",
      "14           None  00221198  1647-1654   \n",
      "15           None  03008630    316-321   \n",
      "16           None  00314005    S51-S56   \n",
      "17           None  00028614  2441-2445   \n",
      "18           None  00314005       None   \n",
      "19           None  07339453       None   \n",
      "20           None  01681699    424-428   \n",
      "21           None  00314005       None   \n",
      "22           None      None       None   \n",
      "23  9781450355179      None      46-47   \n",
      "24           None      None  2100-2101   \n",
      "25  9781450351119      None    405-412   \n",
      "26  9781450348980      None    291-303   \n",
      "27  9781538639689      None       None   \n",
      "28           None  21936218        1-5   \n",
      "29           None      None    399-407   \n",
      "\n",
      "                                     publication_name    scopus_id  \\\n",
      "0                    Science of the Total Environment  85036647140   \n",
      "1                  Pediatric Clinics of North America  85035032871   \n",
      "2                  Pediatric Clinics of North America  85035066203   \n",
      "3                                     Research Policy  85033491209   \n",
      "4                 Intensive and Critical Care Nursing  85028624027   \n",
      "5                   Journal of Interprofessional Care  85031933779   \n",
      "6       Advances in Intelligent Systems and Computing  85025807393   \n",
      "7                                  Academic Radiology  85028323720   \n",
      "8                       Journal of Engineering Design  85033437283   \n",
      "9   American Journal of Hospice and Palliative Med...  85032888667   \n",
      "10                              Psychiatric Quarterly  85013059761   \n",
      "11                             Anesthesiology Clinics  85034242478   \n",
      "12        Archaeological and Anthropological Sciences  85036562680   \n",
      "13                             Social Science Journal  85028332507   \n",
      "14                       Journal of Forensic Sciences  85018991781   \n",
      "15                                Klinische Padiatrie  85031940447   \n",
      "16                                         Pediatrics  85034023085   \n",
      "17         Journal of the American Geriatrics Society  85034054567   \n",
      "18                                         Pediatrics  85034103814   \n",
      "19                   Journal of Surveying Engineering  85018978233   \n",
      "20           Computers and Electronics in Agriculture  85030118345   \n",
      "21                                         Pediatrics  85034101645   \n",
      "22                       Sustainability (Switzerland)  85032380806   \n",
      "23  SEPS 2017 - Proceedings of the 4th ACM SIGPLAN...  85037139471   \n",
      "24                          ACS Chemical Neuroscience  85031688464   \n",
      "25  CHI PLAY 2017 Extended Abstracts - Extended Ab...  85034759003   \n",
      "26  CHI PLAY 2017 - Proceedings of the Annual Symp...  85034641024   \n",
      "27  2017 16th International Conference on Informat...  85037077063   \n",
      "28  Medizinische Klinik - Intensivmedizin und Notf...  85031726522   \n",
      "29            Journal of Multidisciplinary Healthcare  85034808036   \n",
      "\n",
      "   subtype_description                                              title  \\\n",
      "0               Review  Climate change and dengue fever transmission i...   \n",
      "1               Review  Interprofessional Collaborative Practice in Ea...   \n",
      "2               Review  Supporting Children with Autism and Their Fami...   \n",
      "3              Article  Gaining insight into interdisciplinary researc...   \n",
      "4              Article  Impact of surgical intensive care unit interdi...   \n",
      "5              Article  Translation and psychometric evaluation of the...   \n",
      "6     Conference Paper  A virtual learning system in environmental mon...   \n",
      "7               Review  Promoting Collaborations Between Radiologists ...   \n",
      "8              Article  Implementing shared function modelling in prac...   \n",
      "9              Article  A Qualitative Analysis of Information Sharing ...   \n",
      "10             Article  Profiles of mental health care professionals b...   \n",
      "11              Review        Use of Anesthesiology Services in Radiology   \n",
      "12             Article  Together in the field: interdisciplinary work ...   \n",
      "13             Article  Team science: A qualitative study of benefits,...   \n",
      "14             Article  Skeletal Indicators of Shark Feeding on Human ...   \n",
      "15    Conference Paper  SICKODevelopment of a Multi-Disciplinary Train...   \n",
      "16              Review                                       Introduction   \n",
      "17             Article  Aging Research: Collaborations Forge a Promisi...   \n",
      "18             Article  Social determinants of health and hospital rea...   \n",
      "19             Article  Road-structure monitoring with modern geodetic...   \n",
      "20             Article  Application note: Labelling, a methodology to ...   \n",
      "21              Review                  Bringing back the term \"intersex\"   \n",
      "22             Article  The adoption and implementation of transdiscip...   \n",
      "23    Conference Paper  Facilitating collaboration in high-performance...   \n",
      "24             Article  Why I'm Not a Cognitive Psychologist... or a B...   \n",
      "25    Conference Paper  Design box case study: Facilitating interdisci...   \n",
      "26    Conference Paper  Leveraging design patterns to support designer...   \n",
      "27    Conference Paper  Peer review as a quality management tool embed...   \n",
      "28    Article in Press                          Burnout—a call for action   \n",
      "29             Article  Establishing community-based integrated care f...   \n",
      "\n",
      "     volume  \n",
      "0   622-623  \n",
      "1        65  \n",
      "2        65  \n",
      "3        47  \n",
      "4        44  \n",
      "5        32  \n",
      "6       627  \n",
      "7        25  \n",
      "8        28  \n",
      "9        34  \n",
      "10       88  \n",
      "11       35  \n",
      "12        9  \n",
      "13       54  \n",
      "14       62  \n",
      "15      229  \n",
      "16      140  \n",
      "17       65  \n",
      "18      140  \n",
      "19      143  \n",
      "20      142  \n",
      "21      140  \n",
      "22        9  \n",
      "23     None  \n",
      "24        8  \n",
      "25     None  \n",
      "26     None  \n",
      "27     None  \n",
      "28     None  \n",
      "29       10  \n"
     ]
    }
   ],
   "source": [
    "print(search_df)"
   ]
  },
  {
   "cell_type": "markdown",
   "metadata": {},
   "source": [
    "<hr>"
   ]
  },
  {
   "cell_type": "markdown",
   "metadata": {},
   "source": [
    "#### Search for a specific author"
   ]
  },
  {
   "cell_type": "code",
   "execution_count": 7,
   "metadata": {
    "ExecuteTime": {
     "end_time": "2017-12-29T02:51:52.581637Z",
     "start_time": "2017-12-29T02:51:52.378811Z"
    }
   },
   "outputs": [
    {
     "name": "stdout",
     "output_type": "stream",
     "text": [
      "http://api.elsevier.com/content/search/author?apikey=2b169dd4b50a8f4d4462b160d8e7c0c8&query=AUTHLASTNAME%28Zhao%29+and+AUTHFIRST%28Kang%29+and+AFFIL%28Iowa%29&start=0&httpAccept=application%2Fjson\n"
     ]
    }
   ],
   "source": [
    "author_result_df = scopus.search_author(\"AUTHLASTNAME(Zhao) and AUTHFIRST(Kang) and AFFIL(Iowa)\")"
   ]
  },
  {
   "cell_type": "code",
   "execution_count": 8,
   "metadata": {
    "ExecuteTime": {
     "end_time": "2017-12-29T02:51:52.587591Z",
     "start_time": "2017-12-29T02:51:52.582892Z"
    }
   },
   "outputs": [
    {
     "name": "stdout",
     "output_type": "stream",
     "text": [
      "          affiliation affiliation_id    author_id  document_count       name\n",
      "0  University of Iowa       60024324  36635367700              39  Kang Zhao\n",
      "1  University of Iowa       60024324  57077574400               1  Kang Zhao\n"
     ]
    }
   ],
   "source": [
    "print(author_result_df)"
   ]
  },
  {
   "cell_type": "markdown",
   "metadata": {},
   "source": [
    "Then we can retrieve more detailed info about the author we are looking for using his/her __author_id__:"
   ]
  },
  {
   "cell_type": "code",
   "execution_count": 9,
   "metadata": {
    "ExecuteTime": {
     "end_time": "2017-12-29T02:51:53.612945Z",
     "start_time": "2017-12-29T02:51:53.237000Z"
    }
   },
   "outputs": [],
   "source": [
    "kang_info_dict = scopus.retrieve_author('36635367700')"
   ]
  },
  {
   "cell_type": "code",
   "execution_count": 10,
   "metadata": {
    "ExecuteTime": {
     "end_time": "2017-12-29T02:51:53.616983Z",
     "start_time": "2017-12-29T02:51:53.614259Z"
    },
    "scrolled": true
   },
   "outputs": [
    {
     "data": {
      "text/plain": [
       "dict_keys(['author-id', 'eid', 'document-count', 'cited-by-count', 'citation-count', 'name', 'last', 'first', 'indexed-name', 'publication-range', 'affiliation-current', 'journal-history', 'affiliation-history'])"
      ]
     },
     "execution_count": 10,
     "metadata": {},
     "output_type": "execute_result"
    }
   ],
   "source": [
    "kang_info_dict.keys()"
   ]
  },
  {
   "cell_type": "code",
   "execution_count": 11,
   "metadata": {
    "ExecuteTime": {
     "end_time": "2017-12-29T02:51:53.999027Z",
     "start_time": "2017-12-29T02:51:53.992452Z"
    }
   },
   "outputs": [
    {
     "name": "stdout",
     "output_type": "stream",
     "text": [
      "          id                                               name parent-id  \\\n",
      "0   60024324                                 University of Iowa      None   \n",
      "1  104227060  University of Iowa, Department of Management S...  60024324   \n",
      "2  104227074     University of Iowa, Tippie College of Business  60024324   \n",
      "3  109230131  University of Iowa, Interdisciplinary Graduate...  60024324   \n",
      "4  105050101  Pennsylvania State University, College of Info...  60001439   \n",
      "5   60001439                      Pennsylvania State University      None   \n",
      "\n",
      "                                         parent-name                    url  \\\n",
      "0                                               None  http://www.uiowa.edu/   \n",
      "1  {'@source': 'internal-ani', '$': 'University o...  http://www.uiowa.edu/   \n",
      "2  {'@source': 'internal-ani', '$': 'University o...  http://www.uiowa.edu/   \n",
      "3  {'@source': 'internal-ani', '$': 'University o...  http://www.uiowa.edu/   \n",
      "4  {'@source': 'internal-ani', '$': 'Pennsylvania...    http://www.psu.edu/   \n",
      "5                                               None    http://www.psu.edu/   \n",
      "\n",
      "                                 address  \n",
      "0      usa, Iowa City, IA, United States  \n",
      "1      usa, Iowa City, IA, United States  \n",
      "2      usa, Iowa City, IA, United States  \n",
      "3      usa, Iowa City, IA, United States  \n",
      "4  usa, State College, PA, United States  \n",
      "5  usa, State College, PA, United States  \n"
     ]
    }
   ],
   "source": [
    "print(kang_info_dict['affiliation-history'])"
   ]
  },
  {
   "cell_type": "markdown",
   "metadata": {},
   "source": [
    "Search for his publications explicitly"
   ]
  },
  {
   "cell_type": "code",
   "execution_count": 12,
   "metadata": {
    "ExecuteTime": {
     "end_time": "2017-12-29T02:52:00.422301Z",
     "start_time": "2017-12-29T02:51:59.246912Z"
    }
   },
   "outputs": [
    {
     "name": "stdout",
     "output_type": "stream",
     "text": [
      "http://api.elsevier.com/content/search/scopus?apikey=2b169dd4b50a8f4d4462b160d8e7c0c8&query=au-id%2836635367700%29&start=0&httpAccept=application%2Fjson\n",
      "http://api.elsevier.com/content/search/scopus?apikey=2b169dd4b50a8f4d4462b160d8e7c0c8&query=au-id%2836635367700%29&start=25&httpAccept=application%2Fjson\n"
     ]
    }
   ],
   "source": [
    "kang_pub_df = scopus.search_author_publication('36635367700')"
   ]
  },
  {
   "cell_type": "code",
   "execution_count": 13,
   "metadata": {
    "ExecuteTime": {
     "end_time": "2017-12-29T02:52:02.398631Z",
     "start_time": "2017-12-29T02:52:02.382763Z"
    },
    "scrolled": true
   },
   "outputs": [
    {
     "data": {
      "text/html": [
       "<div>\n",
       "<style scoped>\n",
       "    .dataframe tbody tr th:only-of-type {\n",
       "        vertical-align: middle;\n",
       "    }\n",
       "\n",
       "    .dataframe tbody tr th {\n",
       "        vertical-align: top;\n",
       "    }\n",
       "\n",
       "    .dataframe thead th {\n",
       "        text-align: right;\n",
       "    }\n",
       "</style>\n",
       "<table border=\"1\" class=\"dataframe\">\n",
       "  <thead>\n",
       "    <tr style=\"text-align: right;\">\n",
       "      <th></th>\n",
       "      <th>title</th>\n",
       "      <th>cover_date</th>\n",
       "      <th>publication_name</th>\n",
       "    </tr>\n",
       "  </thead>\n",
       "  <tbody>\n",
       "    <tr>\n",
       "      <th>0</th>\n",
       "      <td>Building global bridges: Coordination bodies f...</td>\n",
       "      <td>2008-01-01</td>\n",
       "      <td>Proceedings of ISCRAM 2008 - 5th International...</td>\n",
       "    </tr>\n",
       "    <tr>\n",
       "      <th>1</th>\n",
       "      <td>CyberLab: An online virtual laboratory toolkit...</td>\n",
       "      <td>2008-09-22</td>\n",
       "      <td>Proceedings - The 8th IEEE International Confe...</td>\n",
       "    </tr>\n",
       "    <tr>\n",
       "      <th>2</th>\n",
       "      <td>Effect of topology on the robustness of supply...</td>\n",
       "      <td>2009-01-01</td>\n",
       "      <td>19th Workshop on Information Technologies and ...</td>\n",
       "    </tr>\n",
       "    <tr>\n",
       "      <th>3</th>\n",
       "      <td>A formal model for emerging coalitions under n...</td>\n",
       "      <td>2009-03-22</td>\n",
       "      <td>Spring Simulation Multiconference 2009 - Co-lo...</td>\n",
       "    </tr>\n",
       "    <tr>\n",
       "      <th>4</th>\n",
       "      <td>Sectoral coordination in humanitarian informat...</td>\n",
       "      <td>2010-01-01</td>\n",
       "      <td>ISCRAM 2010 - 7th International Conference on ...</td>\n",
       "    </tr>\n",
       "    <tr>\n",
       "      <th>5</th>\n",
       "      <td>Assessing humanitarian inter-organizational ne...</td>\n",
       "      <td>2010-01-01</td>\n",
       "      <td>ISCRAM 2010 - 7th International Conference on ...</td>\n",
       "    </tr>\n",
       "    <tr>\n",
       "      <th>6</th>\n",
       "      <td>Who blogs what: Understanding behavior, impact...</td>\n",
       "      <td>2010-01-01</td>\n",
       "      <td>Proceedings of 20th Annual Workshop on Informa...</td>\n",
       "    </tr>\n",
       "    <tr>\n",
       "      <th>7</th>\n",
       "      <td>From communication to collaboration: Simulatin...</td>\n",
       "      <td>2010-11-29</td>\n",
       "      <td>Proceedings - SocialCom 2010: 2nd IEEE Interna...</td>\n",
       "    </tr>\n",
       "    <tr>\n",
       "      <th>8</th>\n",
       "      <td>Crossing borders, organizations, levels and te...</td>\n",
       "      <td>2010-12-01</td>\n",
       "      <td>16th Americas Conference on Information System...</td>\n",
       "    </tr>\n",
       "    <tr>\n",
       "      <th>9</th>\n",
       "      <td>Assortativity patterns in multi-dimensional in...</td>\n",
       "      <td>2010-12-24</td>\n",
       "      <td>Lecture Notes in Computer Science (including s...</td>\n",
       "    </tr>\n",
       "    <tr>\n",
       "      <th>10</th>\n",
       "      <td>Identifying leaders in an online cancer surviv...</td>\n",
       "      <td>2011-01-01</td>\n",
       "      <td>Proceedings - 21st Workshop on Information Tec...</td>\n",
       "    </tr>\n",
       "    <tr>\n",
       "      <th>11</th>\n",
       "      <td>Analyzing the Resilience of Complex Supply Net...</td>\n",
       "      <td>2011-01-17</td>\n",
       "      <td>IEEE Systems Journal</td>\n",
       "    </tr>\n",
       "    <tr>\n",
       "      <th>12</th>\n",
       "      <td>Achieving high robustness in supply distributi...</td>\n",
       "      <td>2011-05-01</td>\n",
       "      <td>IEEE Transactions on Engineering Management</td>\n",
       "    </tr>\n",
       "    <tr>\n",
       "      <th>13</th>\n",
       "      <td>Get online support, feel better-sentiment anal...</td>\n",
       "      <td>2011-12-01</td>\n",
       "      <td>Proceedings - 2011 IEEE International Conferen...</td>\n",
       "    </tr>\n",
       "    <tr>\n",
       "      <th>14</th>\n",
       "      <td>Simulating inter-organizational collaboration ...</td>\n",
       "      <td>2012-01-01</td>\n",
       "      <td>SIMULATION</td>\n",
       "    </tr>\n",
       "    <tr>\n",
       "      <th>15</th>\n",
       "      <td>Exploring barriers to coordination between hum...</td>\n",
       "      <td>2013-02-28</td>\n",
       "      <td>Information Systems and Modern Society: Social...</td>\n",
       "    </tr>\n",
       "    <tr>\n",
       "      <th>16</th>\n",
       "      <td>Recommendation in reciprocal and bipartite soc...</td>\n",
       "      <td>2013-03-14</td>\n",
       "      <td>Lecture Notes in Computer Science (including s...</td>\n",
       "    </tr>\n",
       "    <tr>\n",
       "      <th>17</th>\n",
       "      <td>Who blogs what: Understanding the publishing b...</td>\n",
       "      <td>2013-11-01</td>\n",
       "      <td>World Wide Web</td>\n",
       "    </tr>\n",
       "    <tr>\n",
       "      <th>18</th>\n",
       "      <td>Understanding topics and sentiment in an onlin...</td>\n",
       "      <td>2013-12-01</td>\n",
       "      <td>Journal of the National Cancer Institute - Mon...</td>\n",
       "    </tr>\n",
       "    <tr>\n",
       "      <th>19</th>\n",
       "      <td>Making sense of a healthcare forum - Smart key...</td>\n",
       "      <td>2013-12-01</td>\n",
       "      <td>International Conference on Information System...</td>\n",
       "    </tr>\n",
       "    <tr>\n",
       "      <th>20</th>\n",
       "      <td>Social support and user engagement in online h...</td>\n",
       "      <td>2014-01-01</td>\n",
       "      <td>Lecture Notes in Computer Science (including s...</td>\n",
       "    </tr>\n",
       "    <tr>\n",
       "      <th>21</th>\n",
       "      <td>User recommendations in reciprocal and biparti...</td>\n",
       "      <td>2014-01-01</td>\n",
       "      <td>IEEE Intelligent Systems</td>\n",
       "    </tr>\n",
       "    <tr>\n",
       "      <th>22</th>\n",
       "      <td>Social support and user engagement in online h...</td>\n",
       "      <td>2014-01-01</td>\n",
       "      <td>Proceedings - Pacific Asia Conference on Infor...</td>\n",
       "    </tr>\n",
       "    <tr>\n",
       "      <th>23</th>\n",
       "      <td>Finding influential users of online health com...</td>\n",
       "      <td>2014-01-01</td>\n",
       "      <td>Journal of the American Medical Informatics As...</td>\n",
       "    </tr>\n",
       "    <tr>\n",
       "      <th>24</th>\n",
       "      <td>The structure and dynamics of a multi-relation...</td>\n",
       "      <td>2015-01-01</td>\n",
       "      <td>25th Annual Workshop on Information Technologi...</td>\n",
       "    </tr>\n",
       "    <tr>\n",
       "      <th>25</th>\n",
       "      <td>Early prediction of movie success-what, who, a...</td>\n",
       "      <td>2015-01-01</td>\n",
       "      <td>Lecture Notes in Computer Science (including s...</td>\n",
       "    </tr>\n",
       "    <tr>\n",
       "      <th>26</th>\n",
       "      <td>The diffusion of user roles via social network...</td>\n",
       "      <td>2015-01-01</td>\n",
       "      <td>25th Annual Workshop on Information Technologi...</td>\n",
       "    </tr>\n",
       "    <tr>\n",
       "      <th>27</th>\n",
       "      <td>The evolution of user roles in online health c...</td>\n",
       "      <td>2015-01-01</td>\n",
       "      <td>Pacific Asia Conference on Information Systems...</td>\n",
       "    </tr>\n",
       "    <tr>\n",
       "      <th>28</th>\n",
       "      <td>System Informatics: From Methodology to Applic...</td>\n",
       "      <td>2015-11-01</td>\n",
       "      <td>IEEE Intelligent Systems</td>\n",
       "    </tr>\n",
       "    <tr>\n",
       "      <th>29</th>\n",
       "      <td>Leader identification in an online health comm...</td>\n",
       "      <td>2015-11-01</td>\n",
       "      <td>Information Systems and e-Business Management</td>\n",
       "    </tr>\n",
       "    <tr>\n",
       "      <th>30</th>\n",
       "      <td>The evolution and diffusion of user roles in o...</td>\n",
       "      <td>2015-12-08</td>\n",
       "      <td>Proceedings - 2015 IEEE International Conferen...</td>\n",
       "    </tr>\n",
       "    <tr>\n",
       "      <th>31</th>\n",
       "      <td>Investigating regional prejudice in China thro...</td>\n",
       "      <td>2016-01-01</td>\n",
       "      <td>Lecture Notes in Computer Science (including s...</td>\n",
       "    </tr>\n",
       "    <tr>\n",
       "      <th>32</th>\n",
       "      <td>Early Predictions of Movie Success: The Who, W...</td>\n",
       "      <td>2016-07-02</td>\n",
       "      <td>Journal of Management Information Systems</td>\n",
       "    </tr>\n",
       "    <tr>\n",
       "      <th>33</th>\n",
       "      <td>A multirelational social network analysis of a...</td>\n",
       "      <td>2016-08-01</td>\n",
       "      <td>Journal of Medical Internet Research</td>\n",
       "    </tr>\n",
       "    <tr>\n",
       "      <th>34</th>\n",
       "      <td>Analyzing and predicting user participations i...</td>\n",
       "      <td>2017-04-01</td>\n",
       "      <td>Journal of Medical Internet Research</td>\n",
       "    </tr>\n",
       "    <tr>\n",
       "      <th>35</th>\n",
       "      <td>The state and evolution of U.S. iSchools: From...</td>\n",
       "      <td>2017-05-01</td>\n",
       "      <td>Journal of the Association for Information Sci...</td>\n",
       "    </tr>\n",
       "    <tr>\n",
       "      <th>36</th>\n",
       "      <td>A prospective examination of online social net...</td>\n",
       "      <td>2017-08-01</td>\n",
       "      <td>PLoS ONE</td>\n",
       "    </tr>\n",
       "    <tr>\n",
       "      <th>37</th>\n",
       "      <td>A descriptive study of the prevalence and typo...</td>\n",
       "      <td>2017-09-01</td>\n",
       "      <td>Journal of Studies on Alcohol and Drugs</td>\n",
       "    </tr>\n",
       "    <tr>\n",
       "      <th>38</th>\n",
       "      <td>The failure to increase social support: it jus...</td>\n",
       "      <td>2017-12-01</td>\n",
       "      <td>Translational Behavioral Medicine</td>\n",
       "    </tr>\n",
       "  </tbody>\n",
       "</table>\n",
       "</div>"
      ],
      "text/plain": [
       "                                                title  cover_date  \\\n",
       "0   Building global bridges: Coordination bodies f...  2008-01-01   \n",
       "1   CyberLab: An online virtual laboratory toolkit...  2008-09-22   \n",
       "2   Effect of topology on the robustness of supply...  2009-01-01   \n",
       "3   A formal model for emerging coalitions under n...  2009-03-22   \n",
       "4   Sectoral coordination in humanitarian informat...  2010-01-01   \n",
       "5   Assessing humanitarian inter-organizational ne...  2010-01-01   \n",
       "6   Who blogs what: Understanding behavior, impact...  2010-01-01   \n",
       "7   From communication to collaboration: Simulatin...  2010-11-29   \n",
       "8   Crossing borders, organizations, levels and te...  2010-12-01   \n",
       "9   Assortativity patterns in multi-dimensional in...  2010-12-24   \n",
       "10  Identifying leaders in an online cancer surviv...  2011-01-01   \n",
       "11  Analyzing the Resilience of Complex Supply Net...  2011-01-17   \n",
       "12  Achieving high robustness in supply distributi...  2011-05-01   \n",
       "13  Get online support, feel better-sentiment anal...  2011-12-01   \n",
       "14  Simulating inter-organizational collaboration ...  2012-01-01   \n",
       "15  Exploring barriers to coordination between hum...  2013-02-28   \n",
       "16  Recommendation in reciprocal and bipartite soc...  2013-03-14   \n",
       "17  Who blogs what: Understanding the publishing b...  2013-11-01   \n",
       "18  Understanding topics and sentiment in an onlin...  2013-12-01   \n",
       "19  Making sense of a healthcare forum - Smart key...  2013-12-01   \n",
       "20  Social support and user engagement in online h...  2014-01-01   \n",
       "21  User recommendations in reciprocal and biparti...  2014-01-01   \n",
       "22  Social support and user engagement in online h...  2014-01-01   \n",
       "23  Finding influential users of online health com...  2014-01-01   \n",
       "24  The structure and dynamics of a multi-relation...  2015-01-01   \n",
       "25  Early prediction of movie success-what, who, a...  2015-01-01   \n",
       "26  The diffusion of user roles via social network...  2015-01-01   \n",
       "27  The evolution of user roles in online health c...  2015-01-01   \n",
       "28  System Informatics: From Methodology to Applic...  2015-11-01   \n",
       "29  Leader identification in an online health comm...  2015-11-01   \n",
       "30  The evolution and diffusion of user roles in o...  2015-12-08   \n",
       "31  Investigating regional prejudice in China thro...  2016-01-01   \n",
       "32  Early Predictions of Movie Success: The Who, W...  2016-07-02   \n",
       "33  A multirelational social network analysis of a...  2016-08-01   \n",
       "34  Analyzing and predicting user participations i...  2017-04-01   \n",
       "35  The state and evolution of U.S. iSchools: From...  2017-05-01   \n",
       "36  A prospective examination of online social net...  2017-08-01   \n",
       "37  A descriptive study of the prevalence and typo...  2017-09-01   \n",
       "38  The failure to increase social support: it jus...  2017-12-01   \n",
       "\n",
       "                                     publication_name  \n",
       "0   Proceedings of ISCRAM 2008 - 5th International...  \n",
       "1   Proceedings - The 8th IEEE International Confe...  \n",
       "2   19th Workshop on Information Technologies and ...  \n",
       "3   Spring Simulation Multiconference 2009 - Co-lo...  \n",
       "4   ISCRAM 2010 - 7th International Conference on ...  \n",
       "5   ISCRAM 2010 - 7th International Conference on ...  \n",
       "6   Proceedings of 20th Annual Workshop on Informa...  \n",
       "7   Proceedings - SocialCom 2010: 2nd IEEE Interna...  \n",
       "8   16th Americas Conference on Information System...  \n",
       "9   Lecture Notes in Computer Science (including s...  \n",
       "10  Proceedings - 21st Workshop on Information Tec...  \n",
       "11                               IEEE Systems Journal  \n",
       "12        IEEE Transactions on Engineering Management  \n",
       "13  Proceedings - 2011 IEEE International Conferen...  \n",
       "14                                         SIMULATION  \n",
       "15  Information Systems and Modern Society: Social...  \n",
       "16  Lecture Notes in Computer Science (including s...  \n",
       "17                                     World Wide Web  \n",
       "18  Journal of the National Cancer Institute - Mon...  \n",
       "19  International Conference on Information System...  \n",
       "20  Lecture Notes in Computer Science (including s...  \n",
       "21                           IEEE Intelligent Systems  \n",
       "22  Proceedings - Pacific Asia Conference on Infor...  \n",
       "23  Journal of the American Medical Informatics As...  \n",
       "24  25th Annual Workshop on Information Technologi...  \n",
       "25  Lecture Notes in Computer Science (including s...  \n",
       "26  25th Annual Workshop on Information Technologi...  \n",
       "27  Pacific Asia Conference on Information Systems...  \n",
       "28                           IEEE Intelligent Systems  \n",
       "29      Information Systems and e-Business Management  \n",
       "30  Proceedings - 2015 IEEE International Conferen...  \n",
       "31  Lecture Notes in Computer Science (including s...  \n",
       "32          Journal of Management Information Systems  \n",
       "33               Journal of Medical Internet Research  \n",
       "34               Journal of Medical Internet Research  \n",
       "35  Journal of the Association for Information Sci...  \n",
       "36                                           PLoS ONE  \n",
       "37            Journal of Studies on Alcohol and Drugs  \n",
       "38                  Translational Behavioral Medicine  "
      ]
     },
     "execution_count": 13,
     "metadata": {},
     "output_type": "execute_result"
    }
   ],
   "source": [
    "kang_pub_df[['title', 'cover_date', 'publication_name']].sort_values('cover_date').reset_index(drop=True)"
   ]
  },
  {
   "cell_type": "markdown",
   "metadata": {},
   "source": [
    "### Abstract retrieval"
   ]
  },
  {
   "cell_type": "code",
   "execution_count": 15,
   "metadata": {
    "ExecuteTime": {
     "end_time": "2017-12-28T05:40:45.314288Z",
     "start_time": "2017-12-28T05:40:44.839670Z"
    }
   },
   "outputs": [],
   "source": [
    "pub_info = scopus.retrieve_abstract('84905286162')"
   ]
  },
  {
   "cell_type": "code",
   "execution_count": 16,
   "metadata": {
    "ExecuteTime": {
     "end_time": "2017-12-28T05:40:46.397626Z",
     "start_time": "2017-12-28T05:40:46.394545Z"
    }
   },
   "outputs": [
    {
     "data": {
      "text/plain": [
       "{'abstract': \"Online health communities (OHCs) have become a major source of support for people with health problems. This research tries to improve our understanding of social influence and to identify influential users in OHCs. The outcome can facilitate OHC management, improve community sustainability, and eventually benefit OHC users. Through text mining and sentiment analysis of users' online interactions, the research revealed sentiment dynamics in threaded discussions. A novel metric--the number of influential responding replies--was proposed to directly measure a user's ability to affect the sentiment of others. Using the dataset from a popular OHC, the research demonstrated that the proposed metric is highly effective in identifying influential users. In addition, combining the metric with other traditional measures further improves the identification of influential users. Published by the BMJ Publishing Group Limited. For permission to use (where not already granted under a licence) please go to http://group.bmj.com/group/rights-licensing/permissions.\",\n",
       " 'citedby-count': '29',\n",
       " 'eid': '2-s2.0-84905286162',\n",
       " 'prism:aggregationType': 'Journal',\n",
       " 'prism:coverDate': '2014-01-01',\n",
       " 'prism:doi': '10.1136/amiajnl-2013-002282',\n",
       " 'prism:issn': '1527974X',\n",
       " 'prism:issueIdentifier': 'e2',\n",
       " 'prism:publicationName': 'Journal of the American Medical Informatics Association : JAMIA',\n",
       " 'prism:url': 'http://api.elsevier.com/content/abstract/scopus_id/84905286162',\n",
       " 'prism:volume': '21',\n",
       " 'pubmed-id': '24449805',\n",
       " 'scopus-id': '84905286162',\n",
       " 'source-id': '23600',\n",
       " 'srctype': 'j',\n",
       " 'title': 'Finding influential users of online health communities: a new metric based on sentiment influence.'}"
      ]
     },
     "execution_count": 16,
     "metadata": {},
     "output_type": "execute_result"
    }
   ],
   "source": [
    "pub_info"
   ]
  },
  {
   "cell_type": "markdown",
   "metadata": {},
   "source": [
    "<hr>"
   ]
  },
  {
   "cell_type": "markdown",
   "metadata": {},
   "source": [
    "Note that __Searching for articles in specific journals (venues) is not supported anymore since this can be easily done by `general search`__."
   ]
  },
  {
   "cell_type": "markdown",
   "metadata": {},
   "source": [
    "<hr>"
   ]
  },
  {
   "cell_type": "markdown",
   "metadata": {},
   "source": [
    "### Citation count retrieval"
   ]
  },
  {
   "cell_type": "markdown",
   "metadata": {},
   "source": [
    "__Note that the use of `citation overview API` needs to be approved by Elsevier.__"
   ]
  },
  {
   "cell_type": "code",
   "execution_count": 7,
   "metadata": {
    "ExecuteTime": {
     "end_time": "2017-12-28T05:44:49.015552Z",
     "start_time": "2017-12-28T05:44:48.499697Z"
    }
   },
   "outputs": [
    {
     "name": "stderr",
     "output_type": "stream",
     "text": [
      "/mnt/nfs/rdss/nstreet/zhiyzuo/python-scopus/pyscopus/utils.py:36: FutureWarning: '.reindex_axis' is deprecated and will be removed in a future version. Use '.reindex' instead.\n",
      "  return citation_df.reindex_axis(sorted(citation_df.columns), axis=1)\n"
     ]
    }
   ],
   "source": [
    "pub_citations_df = scopus.retrieve_citation(scopus_id_array=['84905286162', '0141607824'],\n",
    "                                            year_range=[2010, 2014])"
   ]
  },
  {
   "cell_type": "code",
   "execution_count": 8,
   "metadata": {
    "ExecuteTime": {
     "end_time": "2017-12-28T05:44:53.983659Z",
     "start_time": "2017-12-28T05:44:53.976559Z"
    }
   },
   "outputs": [
    {
     "name": "stdout",
     "output_type": "stream",
     "text": [
      "  2010 2011  2012  2013  2014           id later-citation previous-citation  \\\n",
      "0  596  802  1057  1323  1451   0141607824           5324               905   \n",
      "1    0    0     0     0     3  84905286162             26                 0   \n",
      "\n",
      "  total-citation  \n",
      "0          11458  \n",
      "1             29  \n"
     ]
    }
   ],
   "source": [
    "print(pub_citations_df)"
   ]
  }
 ],
 "metadata": {
  "kernelspec": {
   "display_name": "Python 3",
   "language": "python",
   "name": "python3"
  },
  "language_info": {
   "codemirror_mode": {
    "name": "ipython",
    "version": 3
   },
   "file_extension": ".py",
   "mimetype": "text/x-python",
   "name": "python",
   "nbconvert_exporter": "python",
   "pygments_lexer": "ipython3",
   "version": "3.6.3"
  },
  "toc": {
   "nav_menu": {},
   "number_sections": true,
   "sideBar": true,
   "skip_h1_title": false,
   "toc_cell": false,
   "toc_position": {
    "height": "823px",
    "left": "0px",
    "right": "1468px",
    "top": "126px",
    "width": "212px"
   },
   "toc_section_display": "block",
   "toc_window_display": true
  },
  "varInspector": {
   "cols": {
    "lenName": 16,
    "lenType": 16,
    "lenVar": 40
   },
   "kernels_config": {
    "python": {
     "delete_cmd_postfix": "",
     "delete_cmd_prefix": "del ",
     "library": "var_list.py",
     "varRefreshCmd": "print(var_dic_list())"
    },
    "r": {
     "delete_cmd_postfix": ") ",
     "delete_cmd_prefix": "rm(",
     "library": "var_list.r",
     "varRefreshCmd": "cat(var_dic_list()) "
    }
   },
   "types_to_exclude": [
    "module",
    "function",
    "builtin_function_or_method",
    "instance",
    "_Feature"
   ],
   "window_display": false
  }
 },
 "nbformat": 4,
 "nbformat_minor": 2
}
