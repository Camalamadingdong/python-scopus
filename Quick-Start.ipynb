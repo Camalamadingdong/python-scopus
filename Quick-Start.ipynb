{
 "cells": [
  {
   "cell_type": "markdown",
   "metadata": {},
   "source": [
    "__PyScopus__: Quick Start"
   ]
  },
  {
   "cell_type": "markdown",
   "metadata": {},
   "source": [
    "__PyScopus__ is a Python wrapper of [Elsevier Scopus API](https://dev.elsevier.com/). More details of this Python package can be found [here](http://zhiyzuo.github.io/python-scopus/)."
   ]
  },
  {
   "cell_type": "markdown",
   "metadata": {},
   "source": [
    "<hr>"
   ]
  },
  {
   "cell_type": "markdown",
   "metadata": {},
   "source": [
    "Import `Scopus` class and initialize with your own __API Key__"
   ]
  },
  {
   "cell_type": "code",
   "execution_count": 1,
   "metadata": {
    "ExecuteTime": {
     "end_time": "2017-09-07T15:12:58.304636Z",
     "start_time": "2017-09-07T15:12:57.256720Z"
    },
    "collapsed": true,
    "init_cell": true
   },
   "outputs": [],
   "source": [
    "from pyscopus import Scopus"
   ]
  },
  {
   "cell_type": "code",
   "execution_count": 2,
   "metadata": {
    "ExecuteTime": {
     "end_time": "2017-09-07T15:12:58.308908Z",
     "start_time": "2017-09-07T15:12:58.306207Z"
    },
    "collapsed": true,
    "init_cell": true
   },
   "outputs": [],
   "source": [
    "key = 'xxxxxxxxxxxxxx'"
   ]
  },
  {
   "cell_type": "code",
   "execution_count": 3,
   "metadata": {
    "ExecuteTime": {
     "end_time": "2017-09-07T15:12:58.329515Z",
     "start_time": "2017-09-07T15:12:58.313492Z"
    },
    "collapsed": true,
    "init_cell": true
   },
   "outputs": [],
   "source": [
    "scopus = Scopus(key)"
   ]
  },
  {
   "cell_type": "markdown",
   "metadata": {},
   "source": [
    "<hr>"
   ]
  },
  {
   "cell_type": "markdown",
   "metadata": {},
   "source": [
    "### General Search"
   ]
  },
  {
   "cell_type": "code",
   "execution_count": 4,
   "metadata": {
    "ExecuteTime": {
     "end_time": "2017-09-07T15:13:00.543999Z",
     "start_time": "2017-09-07T15:12:59.075761Z"
    }
   },
   "outputs": [],
   "source": [
    "search_df = scopus.search(\"KEY(interdisciplinary collaboration)\", count=20)"
   ]
  },
  {
   "cell_type": "code",
   "execution_count": 5,
   "metadata": {
    "ExecuteTime": {
     "end_time": "2017-09-07T15:16:00.690502Z",
     "start_time": "2017-09-07T15:16:00.659966Z"
    },
    "scrolled": true
   },
   "outputs": [
    {
     "name": "stdout",
     "output_type": "stream",
     "text": [
      "                                          affiliation       aggregation_type  \\\n",
      "0   [{u'city': u'Blacksburg', u'name': u'Virginia ...            Book Series   \n",
      "1   [{u'city': u'Timisoara', u'name': u'Universita...                Journal   \n",
      "2   [{u'city': u'Ipswich', u'name': u'University o...                Journal   \n",
      "3   [{u'city': u'Prague', u'name': u'Ceske vysoke ...                Journal   \n",
      "4   [{u'city': u'Heerlen', u'name': u'Hogeschool Z...                Journal   \n",
      "5   [{u'city': u'Reston', u'name': u'United States...                Journal   \n",
      "6   [{u'city': u'Steinkjer', u'name': u'Nord Unive...                Journal   \n",
      "7   [{u'city': u'Lisbon', u'name': u'Universidade ...  Conference Proceeding   \n",
      "8   [{u'city': u'Dublin', u'name': u'Trinity Colle...                Journal   \n",
      "9   [{u'city': u'Loughborough', u'name': u'Loughbo...                Journal   \n",
      "10  [{u'city': u'Boston', u'name': u'Boston Univer...                Journal   \n",
      "11  [{u'city': u'Wuhan', u'name': u'Wuhan Universi...                Journal   \n",
      "12  [{u'city': u'Erlangen', u'name': u'Universitat...                Journal   \n",
      "13  [{u'city': u'Phoenix', u'name': u'Arizona Stat...                Journal   \n",
      "14  [{u'city': u'Zurich ZH,', u'name': u'ETH Zuric...                Journal   \n",
      "15  [{u'city': u'Canberra', u'name': u'Australian ...                Journal   \n",
      "16  [{u'city': u'Ulm', u'name': u'Universitatsklin...                Journal   \n",
      "17  [{u'city': u'Belo Horizonte', u'name': u'Ponti...  Conference Proceeding   \n",
      "18  [{u'city': u'Redmond', u'name': u'Microsoft Co...  Conference Proceeding   \n",
      "19  [{u'city': u'Istanbul', u'name': u'Bogazici Un...  Conference Proceeding   \n",
      "\n",
      "    citation_count  cover_date                                 doi     eissn  \\\n",
      "0                0  2018-01-01        10.1007/978-3-319-60937-9_27      None   \n",
      "1                0  2017-11-01  10.1061/(ASCE)SU.1943-5428.0000218      None   \n",
      "2                0  2017-10-01              10.1386/chor.6.2.279_1  20405669   \n",
      "3                0  2017-08-01   10.1016/j.radphyschem.2017.01.007  18790895   \n",
      "4                0  2017-08-01                   10.1111/hex.12511  13697625   \n",
      "5                0  2017-08-01               10.1093/biosci/bix053  15253244   \n",
      "6                0  2017-08-01                   10.1111/cfs.12343  13652206   \n",
      "7                0  2017-07-18          10.1109/EXPAT.2017.7984348      None   \n",
      "8                0  2017-07-18       10.1080/07380577.2017.1342888  15413098   \n",
      "9                0  2017-07-04       10.1080/09613218.2016.1194601  14664321   \n",
      "10               0  2017-07-01        10.1097/PHM.0000000000000654  15377385   \n",
      "11               0  2017-07-01           10.1007/s11192-017-2383-1  15882861   \n",
      "12               0  2017-07-01               10.1055/s-0043-102939  14389010   \n",
      "13               0  2017-07-01                   10.1093/sw/swx023  15456846   \n",
      "14               1  2017-07-01       10.1016/j.jhydrol.2017.05.008      None   \n",
      "15               0  2017-07-01                  10.1111/aspp.12337  19430787   \n",
      "16               0  2017-07-01               10.1055/s-0043-108993  14389010   \n",
      "17               0  2017-06-29                 10.1109/SECM.2017.8      None   \n",
      "18               0  2017-06-28                10.1109/CHASE.2017.3      None   \n",
      "19               0  2017-06-27            10.1109/SIU.2017.7960696      None   \n",
      "\n",
      "             isbn      issn page_range  \\\n",
      "0   9783319609362  21945357    352-367   \n",
      "1            None  07339453       None   \n",
      "2            None      None    279-296   \n",
      "3            None  0969806X    230-233   \n",
      "4            None  13696513    724-733   \n",
      "5            None  00063568    750-759   \n",
      "6            None  13567500  1264-1273   \n",
      "7   9781538608104      None      77-82   \n",
      "8            None  07380577       1-13   \n",
      "9            None  09613218    539-555   \n",
      "10           None  08949115    479-486   \n",
      "11           None  01389130     91-109   \n",
      "12           None  14389029    661-671   \n",
      "13           None  00378046    211-218   \n",
      "14           None  00221694    441-452   \n",
      "15           None  19430779    479-492   \n",
      "16           None  14389029    640-650   \n",
      "17  9781538627952      None      28-32   \n",
      "18  9781538640395      None        2-8   \n",
      "19  9781509064946      None       None   \n",
      "\n",
      "                                     publication_name    scopus_id  \\\n",
      "0       Advances in Intelligent Systems and Computing  85025807393   \n",
      "1                    Journal of Surveying Engineering  85018978233   \n",
      "2                             Choreographic Practices  85027052146   \n",
      "3                     Radiation Physics and Chemistry  85011309669   \n",
      "4                                 Health Expectations  84995554132   \n",
      "5                                          BioScience  85028382527   \n",
      "6                        Child and Family Social Work  85006089887   \n",
      "7   Proceedings of 2017 4th Experiment at Internat...  85027844076   \n",
      "8                 Occupational Therapy in Health Care  85025139260   \n",
      "9                   Building Research and Information  84978505336   \n",
      "10  American Journal of Physical Medicine and Reha...  85024386108   \n",
      "11                                     Scientometrics  85019017273   \n",
      "12  RoFo Fortschritte auf dem Gebiet der Rontgenst...  85016015328   \n",
      "13                        Social Work (United States)  85021783522   \n",
      "14                               Journal of Hydrology  85019625462   \n",
      "15                          Asian Politics and Policy  85021938702   \n",
      "16  RoFo Fortschritte auf dem Gebiet der Rontgenst...  85019544672   \n",
      "17  Proceedings - 2017 IEEE/ACM 1st International ...  85026750932   \n",
      "18  Proceedings - 2017 IEEE/ACM 10th International...  85025838957   \n",
      "19  2017 25th Signal Processing and Communications...  85026293601   \n",
      "\n",
      "   subtype_description                                              title  \\\n",
      "0     Conference Paper  A virtual learning system in environmental mon...   \n",
      "1              Article  Road-structure monitoring with modern geodetic...   \n",
      "2              Article  Becoming plural: The distribution of the self ...   \n",
      "3              Article  X-ray fluorescence – a non-destructive tool in...   \n",
      "4              Article  Successful participation of patients in interp...   \n",
      "5              Article  Synthesis centers as critical research infrast...   \n",
      "6              Article  Stepping through the door – exploring low-thre...   \n",
      "7     Conference Paper  Collaborative BIM environment as a support to ...   \n",
      "8     Article in Press  An Occupational Therapy and Teaching Partnersh...   \n",
      "9              Article  Multidisciplinary research: should effort be t...   \n",
      "10             Article  Forging Alliances in Interdisciplinary Rehabil...   \n",
      "11             Article  Discovering the interdisciplinary nature of Bi...   \n",
      "12             Article  Semi-automated De-identification of German Con...   \n",
      "13             Article  Policing Intimate Partner Violence: Attitudes ...   \n",
      "14             Article  Linking scientific disciplines: Hydrology and ...   \n",
      "15             Article  Anthropology Teaming Up With Agrometeorology: ...   \n",
      "16             Article  Diagnostic Value of Diffusion-Weighted MRI for...   \n",
      "17    Conference Paper  Interdisciplinary software projects as an acti...   \n",
      "18    Conference Paper  Cross-disciplinary perspectives on collaborati...   \n",
      "19    Conference Paper  Understanding a city from its visuals: An inte...   \n",
      "\n",
      "   volume  \n",
      "0     627  \n",
      "1     143  \n",
      "2       6  \n",
      "3     137  \n",
      "4      20  \n",
      "5      67  \n",
      "6      22  \n",
      "7    None  \n",
      "8    None  \n",
      "9      45  \n",
      "10     96  \n",
      "11    112  \n",
      "12    189  \n",
      "13     62  \n",
      "14    550  \n",
      "15      9  \n",
      "16    189  \n",
      "17   None  \n",
      "18   None  \n",
      "19   None  \n"
     ]
    }
   ],
   "source": [
    "print(search_df)"
   ]
  },
  {
   "cell_type": "markdown",
   "metadata": {},
   "source": [
    "<hr>"
   ]
  },
  {
   "cell_type": "markdown",
   "metadata": {},
   "source": [
    "#### Search for a specific author"
   ]
  },
  {
   "cell_type": "code",
   "execution_count": 7,
   "metadata": {
    "ExecuteTime": {
     "end_time": "2017-09-07T14:51:07.924408Z",
     "start_time": "2017-09-07T14:51:07.505308Z"
    },
    "collapsed": true
   },
   "outputs": [],
   "source": [
    "author_result_df = scopus.search_author(\"AUTHLASTNAME(Zhao) and AUTHFIRST(Kang) and AFFIL(Iowa)\")"
   ]
  },
  {
   "cell_type": "code",
   "execution_count": 8,
   "metadata": {
    "ExecuteTime": {
     "end_time": "2017-09-07T14:51:10.818876Z",
     "start_time": "2017-09-07T14:51:10.811275Z"
    }
   },
   "outputs": [
    {
     "name": "stdout",
     "output_type": "stream",
     "text": [
      "             affiliation     affiliation_id    author_id  document_count  \\\n",
      "0     University of Iowa           60024324  36635367700              34   \n",
      "1     University of Iowa           60024324  57077574400               1   \n",
      "2     University of Iowa           60024324  57192277492               1   \n",
      "3     University of Iowa           60024324  57192307067               1   \n",
      "4  Iowa State University  60004354 60001439  56995506800               1   \n",
      "\n",
      "        name  \n",
      "0  Kang Zhao  \n",
      "1  Kang Zhao  \n",
      "2  Kang Zhao  \n",
      "3  Kang Zhao  \n",
      "4  Kang Zhao  \n"
     ]
    }
   ],
   "source": [
    "print(author_result_df)"
   ]
  },
  {
   "cell_type": "markdown",
   "metadata": {},
   "source": [
    "Then we can retrieve more detailed info about the author we are looking for using his/her __author_id__:"
   ]
  },
  {
   "cell_type": "code",
   "execution_count": 10,
   "metadata": {
    "ExecuteTime": {
     "end_time": "2017-09-07T14:57:21.978381Z",
     "start_time": "2017-09-07T14:57:18.086685Z"
    },
    "collapsed": true
   },
   "outputs": [],
   "source": [
    "kang_info_dict = scopus.retrieve_author('36635367700')"
   ]
  },
  {
   "cell_type": "code",
   "execution_count": 11,
   "metadata": {
    "ExecuteTime": {
     "end_time": "2017-09-07T14:57:23.023660Z",
     "start_time": "2017-09-07T14:57:23.018854Z"
    },
    "scrolled": true
   },
   "outputs": [
    {
     "data": {
      "text/plain": [
       "['affiliation-current',\n",
       " 'author-id',\n",
       " 'name',\n",
       " 'publication-range',\n",
       " 'journal-history',\n",
       " 'first',\n",
       " 'document-count',\n",
       " 'eid',\n",
       " 'last',\n",
       " 'affiliation-history',\n",
       " 'cited-by-count',\n",
       " 'indexed-name',\n",
       " 'citation-count']"
      ]
     },
     "execution_count": 11,
     "metadata": {},
     "output_type": "execute_result"
    }
   ],
   "source": [
    "kang_info_dict.keys()"
   ]
  },
  {
   "cell_type": "code",
   "execution_count": 13,
   "metadata": {
    "ExecuteTime": {
     "end_time": "2017-09-07T14:57:38.610491Z",
     "start_time": "2017-09-07T14:57:38.600971Z"
    }
   },
   "outputs": [
    {
     "name": "stdout",
     "output_type": "stream",
     "text": [
      "          id                                               name parent-id  \\\n",
      "0  104227074     University of Iowa, Tippie College of Business  60024324   \n",
      "1  109230131  University of Iowa, Interdisciplinary Graduate...  60024324   \n",
      "2  104227060  University of Iowa, Department of Management S...  60024324   \n",
      "3   60024324                                 University of Iowa      None   \n",
      "4  105050101  Pennsylvania State University, College of Info...  60001439   \n",
      "5   60001439                      Pennsylvania State University      None   \n",
      "\n",
      "                                         parent-name                    url  \\\n",
      "0  {u'@source': u'internal-ani', u'$': u'Universi...  http://www.uiowa.edu/   \n",
      "1  {u'@source': u'internal-ani', u'$': u'Universi...  http://www.uiowa.edu/   \n",
      "2  {u'@source': u'internal-ani', u'$': u'Universi...  http://www.uiowa.edu/   \n",
      "3                                               None  http://www.uiowa.edu/   \n",
      "4  {u'@source': u'internal-ani', u'$': u'Pennsylv...    http://www.psu.edu/   \n",
      "5                                               None    http://www.psu.edu/   \n",
      "\n",
      "                                 address  \n",
      "0      Iowa City, IA, usa, United States  \n",
      "1      Iowa City, IA, usa, United States  \n",
      "2      Iowa City, IA, usa, United States  \n",
      "3      Iowa City, IA, usa, United States  \n",
      "4  State College, PA, usa, United States  \n",
      "5  State College, PA, usa, United States  \n"
     ]
    }
   ],
   "source": [
    "print(kang_info_dict['affiliation-history'])"
   ]
  },
  {
   "cell_type": "markdown",
   "metadata": {},
   "source": [
    "Search for his publications explicitly"
   ]
  },
  {
   "cell_type": "code",
   "execution_count": 6,
   "metadata": {
    "ExecuteTime": {
     "end_time": "2017-09-07T15:24:49.119345Z",
     "start_time": "2017-09-07T15:24:45.716571Z"
    },
    "collapsed": true
   },
   "outputs": [],
   "source": [
    "kang_pub_df = scopus.search_author_publication('36635367700')"
   ]
  },
  {
   "cell_type": "code",
   "execution_count": 7,
   "metadata": {
    "ExecuteTime": {
     "end_time": "2017-09-07T15:24:49.907988Z",
     "start_time": "2017-09-07T15:24:49.854971Z"
    },
    "scrolled": true
   },
   "outputs": [
    {
     "name": "stdout",
     "output_type": "stream",
     "text": [
      "                                          affiliation       aggregation_type  \\\n",
      "0   [{u'city': u'Washington', u'name': u'Schroeder...                Journal   \n",
      "1   [{u'city': u'Iowa City', u'name': u'University...                Journal   \n",
      "2   [{u'city': u'Iowa City', u'name': u'University...                Journal   \n",
      "3   [{u'city': u'Iowa City', u'name': u'University...            Book Series   \n",
      "4   [{u'city': u'Iowa City', u'name': u'University...  Conference Proceeding   \n",
      "5   [{u'city': u'Iowa City', u'name': u'University...                Journal   \n",
      "6   [{u'city': u'Iowa City', u'name': u'University...                Journal   \n",
      "7   [{u'city': u'Iowa City', u'name': u'University...  Conference Proceeding   \n",
      "8   [{u'city': u'Iowa City', u'name': u'University...  Conference Proceeding   \n",
      "9   [{u'city': u'Iowa City', u'name': u'University...            Book Series   \n",
      "10  [{u'city': u'Iowa City', u'name': u'University...  Conference Proceeding   \n",
      "11  [{u'city': u'Iowa City', u'name': u'University...  Conference Proceeding   \n",
      "12  [{u'city': u'Iowa City', u'name': u'University...            Book Series   \n",
      "13  [{u'city': u'Iowa City', u'name': u'University...                Journal   \n",
      "14  [{u'city': u'Iowa City', u'name': u'University...                Journal   \n",
      "15  [{u'city': u'State College', u'name': u'Pennsy...  Conference Proceeding   \n",
      "16  [{u'city': u'Atlanta', u'name': u'American Can...            Book Series   \n",
      "17  [{u'city': u'Iowa City', u'name': u'University...                Journal   \n",
      "18  [{u'city': u'State College', u'name': u'Pennsy...            Book Series   \n",
      "19  [{u'city': u'State College', u'name': u'Pennsy...                Journal   \n",
      "20  [{u'city': None, u'name': u'Department of Comp...  Conference Proceeding   \n",
      "21  [{u'city': u'State College', u'name': u'Pennsy...                Journal   \n",
      "22                                               None                Journal   \n",
      "23  [{u'city': u'State College', u'name': u'Pennsy...  Conference Proceeding   \n",
      "24  [{u'city': u'State College', u'name': u'Pennsy...            Book Series   \n",
      "25  [{u'city': u'Iowa City', u'name': u'University...                Journal   \n",
      "26  [{u'city': u'Iowa City', u'name': u'University...                Journal   \n",
      "27  [{u'city': u'Iowa City', u'name': u'University...            Book Series   \n",
      "28  [{u'city': u'Iowa City', u'name': u'University...  Conference Proceeding   \n",
      "29  [{u'city': u'Iowa City', u'name': u'University...                Journal   \n",
      "30  [{u'city': u'Iowa City', u'name': u'University...                Journal   \n",
      "31  [{u'city': u'Iowa City', u'name': u'University...  Conference Proceeding   \n",
      "32  [{u'city': u'Iowa City', u'name': u'University...  Conference Proceeding   \n",
      "33  [{u'city': u'Iowa City', u'name': u'University...            Book Series   \n",
      "\n",
      "    citation_count  cover_date                                doi     eissn  \\\n",
      "0                0  2017-08-01       10.1371/journal.pone.0183655  19326203   \n",
      "1                0  2017-04-01                  10.2196/jmir.6834  14388871   \n",
      "2                1  2016-08-01                  10.2196/jmir.5985  14388871   \n",
      "3                0  2016-01-01       10.1007/978-3-319-47874-6_34  16113349   \n",
      "4                0  2015-12-08               10.1109/ICHI.2015.12      None   \n",
      "5                2  2015-11-01          10.1007/s10257-014-0260-5  16179854   \n",
      "6                1  2015-11-01               10.1109/MIS.2015.111      None   \n",
      "7                0  2015-01-01                               None      None   \n",
      "8                0  2015-01-01                               None      None   \n",
      "9                2  2015-01-01       10.1007/978-3-319-16268-3_41  16113349   \n",
      "10               0  2015-01-01                               None      None   \n",
      "11               1  2014-01-01                               None      None   \n",
      "12              13  2014-01-01       10.1007/978-3-319-08416-9_10  16113349   \n",
      "13               9  2014-01-01               10.1109/MIS.2013.104      None   \n",
      "14              25  2014-01-01        10.1136/amiajnl-2013-002282  1527974X   \n",
      "15               0  2013-12-01                               None      None   \n",
      "16              19  2013-12-01      10.1093/jncimonographs/lgt025  17456614   \n",
      "17               3  2013-11-01          10.1007/s11280-012-0167-3      None   \n",
      "18               2  2013-03-14       10.1007/978-3-642-37210-0_25  16113349   \n",
      "19               9  2012-01-01           10.1177/0037549711421942  17413133   \n",
      "20              31  2011-12-01  10.1109/PASSAT/SocialCom.2011.127      None   \n",
      "21              14  2011-05-01           10.1109/TEM.2010.2095503      None   \n",
      "22              56  2011-01-17         10.1109/JSYST.2010.2100192  19379234   \n",
      "23               7  2011-01-01                               None      None   \n",
      "24               6  2010-12-24       10.1007/978-3-642-12079-4_33  16113349   \n",
      "25               0  2017-04-01                  10.2196/jmir.6834  14388871   \n",
      "26               1  2016-08-01                  10.2196/jmir.5985  14388871   \n",
      "27               0  2016-01-01       10.1007/978-3-319-47874-6_34  16113349   \n",
      "28               0  2015-12-08               10.1109/ICHI.2015.12      None   \n",
      "29               2  2015-11-01          10.1007/s10257-014-0260-5  16179854   \n",
      "30               1  2015-11-01               10.1109/MIS.2015.111      None   \n",
      "31               0  2015-01-01                               None      None   \n",
      "32               0  2015-01-01                               None      None   \n",
      "33               2  2015-01-01       10.1007/978-3-319-16268-3_41  16113349   \n",
      "\n",
      "             isbn      issn page_range  \\\n",
      "0            None      None       None   \n",
      "1            None      None       None   \n",
      "2            None      None       None   \n",
      "3   9783319478739  03029743    500-513   \n",
      "4   9781467395489      None      48-56   \n",
      "5            None  16179846    629-645   \n",
      "6            None  15411672      12-29   \n",
      "7            None      None       None   \n",
      "8            None      None       None   \n",
      "9   9783319162676  03029743    345-349   \n",
      "10           None      None       None   \n",
      "11           None      None       None   \n",
      "12  9783319084152  03029743     97-110   \n",
      "13           None  15411672      27-35   \n",
      "14           None      None       None   \n",
      "15  9781629934266      None  2552-2558   \n",
      "16           None  10526773    195-198   \n",
      "17           None  1386145X    621-644   \n",
      "18  9783642372094  03029743    231-239   \n",
      "19           None  00375497    617-633   \n",
      "20  9780769545783      None    274-281   \n",
      "21           None  00189391    347-362   \n",
      "22           None  19328184       None   \n",
      "23           None      None    115-120   \n",
      "24     3642120784  03029743    265-272   \n",
      "25           None      None       None   \n",
      "26           None      None       None   \n",
      "27  9783319478739  03029743    500-513   \n",
      "28  9781467395489      None      48-56   \n",
      "29           None  16179846    629-645   \n",
      "30           None  15411672      12-29   \n",
      "31           None      None       None   \n",
      "32           None      None       None   \n",
      "33  9783319162676  03029743    345-349   \n",
      "\n",
      "                                     publication_name    scopus_id  \\\n",
      "0                                            PLoS ONE  85028414910   \n",
      "1                Journal of Medical Internet Research  85018754892   \n",
      "2                Journal of Medical Internet Research  84989904178   \n",
      "3   Lecture Notes in Computer Science (including s...  84995379893   \n",
      "4   Proceedings - 2015 IEEE International Conferen...  84966453564   \n",
      "5       Information Systems and e-Business Management  84948992373   \n",
      "6                            IEEE Intelligent Systems  84960845090   \n",
      "7   Pacific Asia Conference on Information Systems...  85011032472   \n",
      "8   25th Annual Workshop on Information Technologi...  85006974860   \n",
      "9   Lecture Notes in Computer Science (including s...  84925337405   \n",
      "10  25th Annual Workshop on Information Technologi...  85006998469   \n",
      "11  Proceedings - Pacific Asia Conference on Infor...  84928618086   \n",
      "12  Lecture Notes in Computer Science (including s...  84905259236   \n",
      "13                           IEEE Intelligent Systems  84903157217   \n",
      "14  Journal of the American Medical Informatics As...  84905286162   \n",
      "15  International Conference on Information System...  84897819669   \n",
      "16  Journal of the National Cancer Institute - Mon...  84892456267   \n",
      "17                                     World Wide Web  84885942201   \n",
      "18  Lecture Notes in Computer Science (including s...  84874792067   \n",
      "19                                         SIMULATION  84860146956   \n",
      "20  Proceedings - 2011 IEEE International Conferen...  84856163855   \n",
      "21        IEEE Transactions on Engineering Management  79955569845   \n",
      "22                               IEEE Systems Journal  78651392372   \n",
      "23  Proceedings - 21st Workshop on Information Tec...  84885924111   \n",
      "24  Lecture Notes in Computer Science (including s...  78649252163   \n",
      "25               Journal of Medical Internet Research  85018754892   \n",
      "26               Journal of Medical Internet Research  84989904178   \n",
      "27  Lecture Notes in Computer Science (including s...  84995379893   \n",
      "28  Proceedings - 2015 IEEE International Conferen...  84966453564   \n",
      "29      Information Systems and e-Business Management  84948992373   \n",
      "30                           IEEE Intelligent Systems  84960845090   \n",
      "31  Pacific Asia Conference on Information Systems...  85011032472   \n",
      "32  25th Annual Workshop on Information Technologi...  85006974860   \n",
      "33  Lecture Notes in Computer Science (including s...  84925337405   \n",
      "\n",
      "   subtype_description                                              title  \\\n",
      "0              Article  A prospective examination of online social net...   \n",
      "1               Review  Analyzing and predicting user participations i...   \n",
      "2              Article  A multirelational social network analysis of a...   \n",
      "3     Conference Paper  Investigating regional prejudice in China thro...   \n",
      "4     Conference Paper  The evolution and diffusion of user roles in o...   \n",
      "5              Article  Leader identification in an online health comm...   \n",
      "6              Article  System Informatics: From Methodology to Applic...   \n",
      "7     Conference Paper  The evolution of user roles in online health c...   \n",
      "8     Conference Paper  The diffusion of user roles via social network...   \n",
      "9     Conference Paper  Early prediction of movie success-what, who, a...   \n",
      "10    Conference Paper  The structure and dynamics of a multi-relation...   \n",
      "11    Conference Paper  Social support and user engagement in online h...   \n",
      "12    Conference Paper  Social support and user engagement in online h...   \n",
      "13             Article  User recommendations in reciprocal and biparti...   \n",
      "14             Article  Finding influential users of online health com...   \n",
      "15    Conference Paper  Making sense of a healthcare forum - Smart key...   \n",
      "16             Article  Understanding topics and sentiment in an onlin...   \n",
      "17             Article  Who blogs what: Understanding the publishing b...   \n",
      "18    Conference Paper  Recommendation in reciprocal and bipartite soc...   \n",
      "19             Article  Simulating inter-organizational collaboration ...   \n",
      "20    Conference Paper  Get online support, feel better-sentiment anal...   \n",
      "21             Article  Achieving high robustness in supply distributi...   \n",
      "22    Article in Press  Analyzing the Resilience of Complex Supply Net...   \n",
      "23    Conference Paper  Identifying leaders in an online cancer surviv...   \n",
      "24    Conference Paper  Assortativity patterns in multi-dimensional in...   \n",
      "25              Review  Analyzing and predicting user participations i...   \n",
      "26             Article  A multirelational social network analysis of a...   \n",
      "27    Conference Paper  Investigating regional prejudice in China thro...   \n",
      "28    Conference Paper  The evolution and diffusion of user roles in o...   \n",
      "29             Article  Leader identification in an online health comm...   \n",
      "30             Article  System Informatics: From Methodology to Applic...   \n",
      "31    Conference Paper  The evolution of user roles in online health c...   \n",
      "32    Conference Paper  The diffusion of user roles via social network...   \n",
      "33    Conference Paper  Early prediction of movie success-what, who, a...   \n",
      "\n",
      "        volume  \n",
      "0           12  \n",
      "1           19  \n",
      "2           18  \n",
      "3   10047 LNCS  \n",
      "4         None  \n",
      "5           13  \n",
      "6           30  \n",
      "7         None  \n",
      "8         None  \n",
      "9         9021  \n",
      "10        None  \n",
      "11        None  \n",
      "12   8549 LNCS  \n",
      "13          29  \n",
      "14          21  \n",
      "15           3  \n",
      "16        None  \n",
      "17          16  \n",
      "18   7812 LNCS  \n",
      "19          88  \n",
      "20        None  \n",
      "21          58  \n",
      "22        None  \n",
      "23        None  \n",
      "24   6007 LNCS  \n",
      "25          19  \n",
      "26          18  \n",
      "27  10047 LNCS  \n",
      "28        None  \n",
      "29          13  \n",
      "30          30  \n",
      "31        None  \n",
      "32        None  \n",
      "33        9021  \n"
     ]
    }
   ],
   "source": [
    "print(kang_pub_df)"
   ]
  },
  {
   "cell_type": "markdown",
   "metadata": {},
   "source": [
    "### Abstract retrieval"
   ]
  },
  {
   "cell_type": "code",
   "execution_count": 8,
   "metadata": {
    "ExecuteTime": {
     "end_time": "2017-09-07T15:26:17.021173Z",
     "start_time": "2017-09-07T15:26:15.864582Z"
    },
    "collapsed": true
   },
   "outputs": [],
   "source": [
    "pub_info = scopus.retrieve_abstract('84905286162')"
   ]
  },
  {
   "cell_type": "code",
   "execution_count": 10,
   "metadata": {
    "ExecuteTime": {
     "end_time": "2017-09-07T15:26:59.508230Z",
     "start_time": "2017-09-07T15:26:59.504200Z"
    }
   },
   "outputs": [
    {
     "data": {
      "text/plain": [
       "{'abstract': u\"Online health communities (OHCs) have become a major source of support for people with health problems. This research tries to improve our understanding of social influence and to identify influential users in OHCs. The outcome can facilitate OHC management, improve community sustainability, and eventually benefit OHC users. Through text mining and sentiment analysis of users' online interactions, the research revealed sentiment dynamics in threaded discussions. A novel metric--the number of influential responding replies--was proposed to directly measure a user's ability to affect the sentiment of others. Using the dataset from a popular OHC, the research demonstrated that the proposed metric is highly effective in identifying influential users. In addition, combining the metric with other traditional measures further improves the identification of influential users. Published by the BMJ Publishing Group Limited. For permission to use (where not already granted under a licence) please go to http://group.bmj.com/group/rights-licensing/permissions.\",\n",
       " u'citedby-count': u'25',\n",
       " u'eid': u'2-s2.0-84905286162',\n",
       " u'prism:aggregationType': u'Journal',\n",
       " u'prism:coverDate': u'2014-01-01',\n",
       " u'prism:doi': u'10.1136/amiajnl-2013-002282',\n",
       " u'prism:issn': u'1527974X',\n",
       " u'prism:issueIdentifier': u'e2',\n",
       " u'prism:publicationName': u'Journal of the American Medical Informatics Association : JAMIA',\n",
       " u'prism:url': u'http://api.elsevier.com/content/abstract/scopus_id/84905286162',\n",
       " u'prism:volume': u'21',\n",
       " u'pubmed-id': u'24449805',\n",
       " 'scopus-id': u'84905286162',\n",
       " u'source-id': u'23600',\n",
       " u'srctype': u'j',\n",
       " 'title': u'Finding influential users of online health communities: a new metric based on sentiment influence.'}"
      ]
     },
     "execution_count": 10,
     "metadata": {},
     "output_type": "execute_result"
    }
   ],
   "source": [
    "pub_info"
   ]
  },
  {
   "cell_type": "markdown",
   "metadata": {},
   "source": [
    "<hr>"
   ]
  },
  {
   "cell_type": "markdown",
   "metadata": {},
   "source": [
    "Note that __Searching for articles in specific journals (venues) is not supported anymore since this can be easily done by `general search`__."
   ]
  },
  {
   "cell_type": "markdown",
   "metadata": {},
   "source": [
    "<hr>"
   ]
  },
  {
   "cell_type": "markdown",
   "metadata": {},
   "source": [
    "### Citation count retrieval"
   ]
  },
  {
   "cell_type": "markdown",
   "metadata": {},
   "source": [
    "__Note that the use of `citation overview API` needs to be approved by Elsevier.__"
   ]
  },
  {
   "cell_type": "code",
   "execution_count": 11,
   "metadata": {
    "ExecuteTime": {
     "end_time": "2017-09-07T15:30:01.941671Z",
     "start_time": "2017-09-07T15:30:01.306203Z"
    },
    "collapsed": true
   },
   "outputs": [],
   "source": [
    "pub_citations_df = scopus.retrieve_citation(scopus_id_array=['84905286162', '0141607824'],\n",
    "                                            year_range=[2010, 2014])"
   ]
  },
  {
   "cell_type": "code",
   "execution_count": 12,
   "metadata": {
    "ExecuteTime": {
     "end_time": "2017-09-07T15:30:04.344838Z",
     "start_time": "2017-09-07T15:30:04.336233Z"
    }
   },
   "outputs": [
    {
     "name": "stdout",
     "output_type": "stream",
     "text": [
      "  2010 2011  2012  2013  2014           id later-citation previous-citation  \\\n",
      "0    0    0     0     0     3  84905286162             22                 0   \n",
      "1  593  801  1048  1320  1440   0141607824           4624               899   \n",
      "\n",
      "  total-citation  \n",
      "0             25  \n",
      "1          10725  \n"
     ]
    }
   ],
   "source": [
    "print(pub_citations_df)"
   ]
  }
 ],
 "metadata": {
  "kernelspec": {
   "display_name": "Python 2",
   "language": "python",
   "name": "python2"
  },
  "language_info": {
   "codemirror_mode": {
    "name": "ipython",
    "version": 2
   },
   "file_extension": ".py",
   "mimetype": "text/x-python",
   "name": "python",
   "nbconvert_exporter": "python",
   "pygments_lexer": "ipython2",
   "version": "2.7.12"
  },
  "toc": {
   "colors": {
    "hover_highlight": "#DAA520",
    "navigate_num": "#000000",
    "navigate_text": "#333333",
    "running_highlight": "#FF0000",
    "selected_highlight": "#FFD700",
    "sidebar_border": "#EEEEEE",
    "wrapper_background": "#FFFFFF"
   },
   "moveMenuLeft": true,
   "nav_menu": {},
   "navigate_menu": true,
   "number_sections": true,
   "sideBar": true,
   "skip_h1_title": false,
   "threshold": 4,
   "toc_cell": false,
   "toc_position": {},
   "toc_section_display": "block",
   "toc_window_display": true,
   "widenNotebook": false
  },
  "varInspector": {
   "cols": {
    "lenName": 16,
    "lenType": 16,
    "lenVar": 40
   },
   "kernels_config": {
    "python": {
     "delete_cmd_postfix": "",
     "delete_cmd_prefix": "del ",
     "library": "var_list.py",
     "varRefreshCmd": "print(var_dic_list())"
    },
    "r": {
     "delete_cmd_postfix": ") ",
     "delete_cmd_prefix": "rm(",
     "library": "var_list.r",
     "varRefreshCmd": "cat(var_dic_list()) "
    }
   },
   "types_to_exclude": [
    "module",
    "function",
    "builtin_function_or_method",
    "instance",
    "_Feature"
   ],
   "window_display": false
  }
 },
 "nbformat": 4,
 "nbformat_minor": 2
}
