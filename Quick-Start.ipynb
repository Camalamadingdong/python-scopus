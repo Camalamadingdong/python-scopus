{
 "cells": [
  {
   "cell_type": "markdown",
   "metadata": {},
   "source": [
    "__PyScopus__: Quick Start"
   ]
  },
  {
   "cell_type": "markdown",
   "metadata": {},
   "source": [
    "__PyScopus__ is a Python wrapper of [Elsevier Scopus API](https://dev.elsevier.com/). More details of this Python package can be found [here](http://zhiyzuo.github.io/python-scopus/)."
   ]
  },
  {
   "cell_type": "markdown",
   "metadata": {},
   "source": [
    "<hr>"
   ]
  },
  {
   "cell_type": "markdown",
   "metadata": {},
   "source": [
    "Import `Scopus` class and initialize with your own __API Key__"
   ]
  },
  {
   "cell_type": "code",
   "execution_count": 4,
   "metadata": {
    "ExecuteTime": {
     "end_time": "2018-09-29T23:05:34.028510Z",
     "start_time": "2018-09-29T23:05:34.014178Z"
    }
   },
   "outputs": [
    {
     "data": {
      "text/plain": [
       "'1.0.0a1'"
      ]
     },
     "execution_count": 4,
     "metadata": {},
     "output_type": "execute_result"
    }
   ],
   "source": [
    "import pyscopus\n",
    "pyscopus.__version__"
   ]
  },
  {
   "cell_type": "code",
   "execution_count": 1,
   "metadata": {
    "ExecuteTime": {
     "end_time": "2018-09-29T23:02:48.420707Z",
     "start_time": "2018-09-29T23:02:47.094581Z"
    },
    "init_cell": true
   },
   "outputs": [],
   "source": [
    "from pyscopus import Scopus"
   ]
  },
  {
   "cell_type": "code",
   "execution_count": 2,
   "metadata": {
    "ExecuteTime": {
     "end_time": "2018-09-29T23:02:48.426650Z",
     "start_time": "2018-09-29T23:02:48.423282Z"
    },
    "init_cell": true
   },
   "outputs": [],
   "source": [
    "key = 'xxxxxxxxxxxxxxxxxxx'"
   ]
  },
  {
   "cell_type": "code",
   "execution_count": 3,
   "metadata": {
    "ExecuteTime": {
     "end_time": "2018-09-29T23:02:48.433262Z",
     "start_time": "2018-09-29T23:02:48.430013Z"
    },
    "init_cell": true
   },
   "outputs": [],
   "source": [
    "scopus = Scopus(key)"
   ]
  },
  {
   "cell_type": "markdown",
   "metadata": {},
   "source": [
    "<hr>"
   ]
  },
  {
   "cell_type": "markdown",
   "metadata": {},
   "source": [
    "### General Search"
   ]
  },
  {
   "cell_type": "code",
   "execution_count": 6,
   "metadata": {
    "ExecuteTime": {
     "end_time": "2018-01-05T03:47:24.101407Z",
     "start_time": "2018-01-05T03:47:22.042415Z"
    }
   },
   "outputs": [],
   "source": [
    "search_df = scopus.search(\"KEY(topic modeling)\", count=30)"
   ]
  },
  {
   "cell_type": "code",
   "execution_count": 25,
   "metadata": {
    "ExecuteTime": {
     "end_time": "2018-01-05T04:05:27.217457Z",
     "start_time": "2018-01-05T04:05:27.197959Z"
    },
    "scrolled": true
   },
   "outputs": [
    {
     "name": "stdout",
     "output_type": "stream",
     "text": [
      "                                         affiliation aggregation_type  \\\n",
      "0  [{'name': 'Institute of Informatics and Teleco...          Journal   \n",
      "1  [{'name': 'University of Jinan', 'city': 'Jina...          Journal   \n",
      "2  [{'name': 'University of South Carolina', 'cit...          Journal   \n",
      "3  [{'name': 'University of Nottingham', 'city': ...          Journal   \n",
      "4  [{'name': 'Shenzhen University', 'city': 'Qing...          Journal   \n",
      "5  [{'name': 'South China University of Technolog...          Journal   \n",
      "6  [{'name': 'Hopital Tenon', 'city': 'Paris', 'c...          Journal   \n",
      "7  [{'name': 'Beijing University of Posts and Tel...      Book Series   \n",
      "8  [{'name': 'Moscow Institute of Physics and Tec...      Book Series   \n",
      "9  [{'name': 'Indian Institute of Information Tec...      Book Series   \n",
      "\n",
      "                                             authors  citation_count  \\\n",
      "0                          [57191094398, 8723549900]               0   \n",
      "1  [56177015500, 56177015500, 7409491657, 7409491...               0   \n",
      "2  [36519126000, 56937992800, 7801439333, 2408066...               0   \n",
      "3  [51665107100, 38161915200, 57199156035, 234712...               0   \n",
      "4  [56349712700, 56349712700, 55739099100, 568013...               0   \n",
      "5  [57196023747, 57196027721, 55538918200, 710229...               0   \n",
      "6  [7005233421, 55406676800, 55364211300, 5718548...               0   \n",
      "7            [57193130741, 55571529600, 57196003124]               0   \n",
      "8             [57199062408, 57199054340, 6507982932]               0   \n",
      "9             [49361023900, 8533679400, 57194438376]               0   \n",
      "\n",
      "   cover_date                              doi     eissn  \\\n",
      "0  2018-04-15       10.1016/j.eswa.2017.11.050      None   \n",
      "1  2018-03-15       10.1016/j.eswa.2017.10.037      None   \n",
      "2  2018-02-01  10.1016/j.ijinfomgt.2017.08.002      None   \n",
      "3  2018-02-01  10.1016/j.prevetmed.2017.11.020      None   \n",
      "4  2018-01-17     10.1016/j.neucom.2017.08.022  18728286   \n",
      "5  2018-01-15     10.1016/j.knosys.2017.10.031      None   \n",
      "6  2018-01-02    10.1080/14737167.2017.1359542  17448379   \n",
      "7  2018-01-01     10.1007/978-981-10-6445-6_72  18761119   \n",
      "8  2018-01-01     10.1007/978-3-319-71746-3_16      None   \n",
      "9  2018-01-01     10.1007/978-3-319-68385-0_11      None   \n",
      "\n",
      "                                           full_text           isbn      issn  \\\n",
      "0  http://api.elsevier.com/content/article/eid/1-...           None  09574174   \n",
      "1  http://api.elsevier.com/content/article/eid/1-...           None  09574174   \n",
      "2  http://api.elsevier.com/content/article/eid/1-...           None  02684012   \n",
      "3  http://api.elsevier.com/content/article/eid/1-...           None  01675877   \n",
      "4  http://api.elsevier.com/content/article/eid/1-...           None  09252312   \n",
      "5  http://api.elsevier.com/content/article/eid/1-...           None  09507051   \n",
      "6                                               None           None  14737167   \n",
      "7                                               None  9789811064449  18761100   \n",
      "8                                               None  9783319717456  18650929   \n",
      "9                                               None  9783319683843  21945357   \n",
      "\n",
      "  page_range                                   publication_name    scopus_id  \\\n",
      "0     86-102                   Expert Systems with Applications  85037330308   \n",
      "1      81-93                   Expert Systems with Applications  85032512464   \n",
      "2        1-6    International Journal of Information Management  85029596678   \n",
      "3      60-69                     Preventive Veterinary Medicine  85037636361   \n",
      "4    133-140                                     Neurocomputing  85031031943   \n",
      "5    120-133                            Knowledge-Based Systems  85034955336   \n",
      "6      83-91  Expert Review of Pharmacoeconomics and Outcome...  85026547609   \n",
      "7    655-662            Lecture Notes in Electrical Engineering  85034022945   \n",
      "8    181-193  Communications in Computer and Information Sci...  85037536967   \n",
      "9    123-135      Advances in Intelligent Systems and Computing  85032702838   \n",
      "\n",
      "  subtype_description                                              title  \\\n",
      "0             Article  Enhanced movie content similarity based on tex...   \n",
      "1             Article  GIST: A generative model with individual and s...   \n",
      "2             Article  Characterizing diabetes, diet, exercise, and o...   \n",
      "3             Article  Analysing the opinions of UK veterinarians on ...   \n",
      "4             Article     A Topic Drift Model for authorship attribution   \n",
      "5             Article  Improving user recommendation by extracting so...   \n",
      "6             Article  Cost-effectiveness of dolutegravir/abacavir/la...   \n",
      "7    Conference Paper  Tourism Information Search Based on Dynamic At...   \n",
      "8    Conference Paper  Multi-objective topic modeling for exploratory...   \n",
      "9    Conference Paper  Topic modeling for unsupervised concept extrac...   \n",
      "\n",
      "  volume  \n",
      "0     96  \n",
      "1     94  \n",
      "2     38  \n",
      "3    150  \n",
      "4    273  \n",
      "5    140  \n",
      "6     18  \n",
      "7    458  \n",
      "8    789  \n",
      "9    683  \n"
     ]
    }
   ],
   "source": [
    "print(search_df.head(10))"
   ]
  },
  {
   "cell_type": "markdown",
   "metadata": {},
   "source": [
    "#### Full text link"
   ]
  },
  {
   "cell_type": "code",
   "execution_count": 8,
   "metadata": {
    "ExecuteTime": {
     "end_time": "2018-01-05T03:47:24.183299Z",
     "start_time": "2018-01-05T03:47:24.180103Z"
    }
   },
   "outputs": [
    {
     "data": {
      "text/plain": [
       "array(['http://api.elsevier.com/content/article/eid/1-s2.0-S0957417417308059',\n",
       "       'http://api.elsevier.com/content/article/eid/1-s2.0-S0957417417307200',\n",
       "       'http://api.elsevier.com/content/article/eid/1-s2.0-S0268401217306126',\n",
       "       'http://api.elsevier.com/content/article/eid/1-s2.0-S0167587717300223',\n",
       "       'http://api.elsevier.com/content/article/eid/1-s2.0-S0925231217313759',\n",
       "       'http://api.elsevier.com/content/article/eid/1-s2.0-S0950705117305002',\n",
       "       None, None, None, None,\n",
       "       'http://api.elsevier.com/content/article/eid/1-s2.0-S0957417417305948',\n",
       "       None, None,\n",
       "       'http://api.elsevier.com/content/article/eid/1-s2.0-S0020025516313706',\n",
       "       'http://api.elsevier.com/content/article/eid/1-s2.0-S0190962217325847',\n",
       "       None, None, None, None, None, None,\n",
       "       'http://api.elsevier.com/content/article/eid/1-s2.0-S0167923617302130',\n",
       "       None, None,\n",
       "       'http://api.elsevier.com/content/article/eid/1-s2.0-S1532046417302605',\n",
       "       'http://api.elsevier.com/content/article/eid/1-s2.0-S0743731517302174',\n",
       "       None,\n",
       "       'http://api.elsevier.com/content/article/eid/1-s2.0-S0278584617302130',\n",
       "       None,\n",
       "       'http://api.elsevier.com/content/article/eid/1-s2.0-S1386505617304185'], dtype=object)"
      ]
     },
     "execution_count": 8,
     "metadata": {},
     "output_type": "execute_result"
    }
   ],
   "source": [
    "full_text_link_arr = search_df.full_text.values\n",
    "full_text_link_arr"
   ]
  },
  {
   "cell_type": "markdown",
   "metadata": {},
   "source": [
    "For those with full text links, you are able to get all the text by calling `scopus.retrieve_full_text()`"
   ]
  },
  {
   "cell_type": "code",
   "execution_count": 9,
   "metadata": {
    "ExecuteTime": {
     "end_time": "2018-01-05T03:47:24.888802Z",
     "start_time": "2018-01-05T03:47:24.184526Z"
    }
   },
   "outputs": [],
   "source": [
    "full_text = scopus.retrieve_full_text(full_text_link_arr[2])"
   ]
  },
  {
   "cell_type": "code",
   "execution_count": 10,
   "metadata": {
    "ExecuteTime": {
     "end_time": "2018-01-05T03:47:24.893611Z",
     "start_time": "2018-01-05T03:47:24.890240Z"
    }
   },
   "outputs": [
    {
     "data": {
      "text/plain": [
       "\"between 1980 and 2014, with more than 1.9 billion adults considered as overweight and over 600 million adults considered as obese in 2014 (World Health Organization Fact Sheet, 2016). Since the 1970s, obesity has risen 37% affecting 25% of the U.S. adults (Flegal, Carroll, Kit, & Ogden, 2012). Similar upward trends of obesity have been found in youth populations, with a 60% increase in preschool aged children between 1990 and 2010 (Harvard HSPH, 2017). Overweight and obesity are the fifth leading risk for global deaths according to the European Association for the Study of Obesity (World Health Organization Fact Sheet, 2016). Excess energy intake and inadequate energy expenditure both contribute to weight gain and diabetes (Hill, Wyatt, & Peters, 2012; Wing et al., 2001).\\n                  Obesity can be reduced through modifiable lifestyle behaviors such as diet and exercise (Wing et al., 2001). There are several comorbidities associated with being overweight or obese, such as diabetes (Kopelman, 2000). The prevalence of diabetes in adults has risen globally from 4.7% in 1980 to 8.5% in 2014. Current projections estimate that by 2050, 29 million Americans will be diagnosed with type 2 diabetes, which is a 165% increase from the 11 million diagnosed in 2002 (Boyle et al., 2001). Studies show that there are strong relations among diabetes, diet, exercise, and obesity (DDEO) (Association et al., 2004; Barnard et al., 2009; Hartz, Rupley, Kalkhoff, & Rimm, 1983; Wing et al., 2001); however, the general public's perception of DDEO remains limited to survey-based studies (Tompson et al., 2012).\\n                  The growth of social media has provided a research opportunity to track public behaviors, information, and opinions about common health issues. It is estimated that the number of social media users will increase from 2.34 billion in 2016 to 2.95 billion in 2020 (Statista, 2017). Twitter has 316 million users worldwide (Olanoff, 2015) providing a unique opportunity to understand users’ opinions with respect to the most common health issues (Mejova, Weber, & Macy, 2015). Publicly available Twitter posts have facilitated data collection and leveraged the research at the intersection of public health and data science; thus, informing the research community of major opinions and topics of interest among the general population (Nasukawa & Yi, 2003; Wiebe et al., 2003; Zabin & Jefferies, 2008) that cannot otherwise be collected through traditional means of research (e.g., surveys, interviews, focus groups) (Eichstaedt et al., 2015; Wartell, 2015). Furthermore, analyzing Twitter data can help health organizations such as state health departments and large healthcare systems to provide health advice and track health opinions of their populations and provide effective health advice when needed (Mejova et al., 2015).\\n                  Among computational methods to analyze tweets, computational linguistics is a well-known developed approach to gain insight into a population, track health issues, and discover new knowledge (Moreland-Russell, Tabak, Ruhr, & Maier, 2014; Paul & Dredze, 2011, 2012; Zhao et al., 2011). Twitter data has been used for a wide range of health and non-health related applications, such as stock market (Bollen, Mao, & Zeng, 2011) and election analysis (Tumasjan, Sprenger, Sandner, & Welpe, 2010). Some examples of Twitter data analysis for health-related topics include: flu (Culotta, 2010; Lampos & Cristianini, 2010, 2012; Lampos, De Bie, & Cristianini, 2010; Ritterman, Osborne, & Klein, 2009; Szomszor, Kostkova, & De Quincey, 2010), mental health (Coppersmith, Dredze, Harman, & Hollingshead, 2015), Ebola (Lazard, Scheinfeld, Bernhardt, Wilcox, & Suran, 2015; Odlum & Yoon, 2015), Zika (Fu et al., 2016), medication use (Buntain & Golbeck, 2015; Hanson, Cannon, Burton, & Giraud-Carrier, 2013; Scanfeld, Scanfeld, & Larson, 2010), diabetes (Harris, Mueller, Snider, & Haire-Joshu, 2013), and weight loss and obesity (Dahl, Hales, & Turner-McGrievy, 2016; Ghosh & Guha, 2013; Harris et al., 2014; Turner-McGrievy & Beets, 2015; Vickey, Ginis, & Dabrowski, 2013).\\n                  The previous Twitter studies have dealt with extracting common topics of one health issue discussed by the users to better understand common themes; however, this study utilizes an innovative approach to computationally analyze unstructured health related text data exchanged via Twitter to characterize health opinions regarding four common health issues, including diabetes, diet, exercise and obesity (DDEO) on a population level. This study identifies the characteristics of the most common health opinions with respect to DDEO and discloses public perception of the relationship among diabetes, diet, exercise and obesity. These common public opinions/topics and perceptions can be used by providers and public health agencies to better understand the common opinions of their population denominators in regard to DDEO, and reflect upon those opinions accordingly.\\n               \\n               \\n                  2\\n                  Methods\\n                  Our approach uses semantic and linguistics analyses for disclosing health characteristics of opinions in tweets containing DDEO words. The present study included three phases: data collection, topic discovery, and topic-content analysis.\\n                  \\n                     2.1\\n                     Data collection\\n                     This phase collected tweets using Twitter's Application Programming Interfaces (API) (Twitter, 2017). Within the Twitter API, diabetes, diet, exercise, and obesity were selected as the related words (Wing et al., 2001) and the related health areas (Paul & Dredze, 2011). Twitter's APIs provides both historic and real-time data collections. The latter method randomly collects 1% of publicly available tweets. This paper used the real-time method to randomly collect 10% of publicly available English tweets using several pre-defined DDEO-related queries (Table 1\\n                        ) within a specific time frame. We used the queries to collect approximately 4.5 million related tweets between 06/01/2016 and 06/30/2016. The data will be available in the first author's website. Fig. 1\\n                         shows a sample of collected tweets in this research.\\n                  \\n                  \\n                     2.2\\n                     Topic discovery\\n                     To discover topics from the collected tweets, we used a topic modeling approach that fuzzy clusters the semantically related words such as assigning “diabetes”, “cancer”, and “influenza” into a topic that has an overall “disease” theme (Karami, 2015; Karami, Gangopadhyay, Zhou, & Kharrazi, 2017). Topic modeling has a wide range of applications in health and medical domains such as predicting protein-protein relationships based on the literature knowledge (Asou & Eguchi, 2008), discovering relevant clinical concepts and structures in patients’ health records (Arnold, El-Saden, Bui, & Taira, 2010), and identifying patterns of clinical events in a cohort of brain cancer patients (Arnold & Speier, 2012).\\n                     Among topic models, Latent Dirichlet Allocation (LDA) (Blei, Ng, & Jordan, 2003) is the most popular effective model (Lu, Mei, & Zhai, 2011; Paul & Dredze, 2011) as studies have shown that LDA is an effective computational linguistics model for discovering topics in a corpus (Hong & Davison, 2010; Mcauliffe & Blei, 2008). LDA assumes that a corpus contains topics such that each word in each document can be assigned to the topics with different degrees of membership (Karami & Gangopadhyay, 2014; Karami, Gangopadhyay, Zhou, & Kharrazi, 2015a, 2015b).\\n                     Twitter users can post their opinions or share information about a subject to the public. Identifying the main topics of users’ tweets provides an interesting point of reference, but conceptualizing larger subtopics of millions of tweets can reveal valuable insight to users’ opinions. The topic discovery component of the study approach uses LDA to find main topics, themes, and opinions in the collected tweets.\\n                     We used the Mallet implementation of LDA (Blei et al., 2003; McCallum, 2002) with its default settings to explore opinions in the tweets. Before identifying the opinions, two pre-processing steps were implemented: (1) using a standard list for removing stop words, that do not have semantic value for analysis (such as “the”); and, (2) finding the optimum number of topics. To determine a proper number of topics, log-likelihood estimation with 80% of tweets for training and 20% of tweets for testing was used to find the highest log-likelihood, as it is the optimum number of topics (Wallach, Murray, Salakhutdinov, & Mimno, 2009). The highest log-likelihood was determined 425 topics.\\n                  \\n                  \\n                     2.3\\n                     Topic content analysis\\n                     The topic content analysis component used an objective interpretation approach with a lexicon-based approach to analyze the content of topics. The lexicon-based approach uses dictionaries to disclose the semantic orientation of words in a topic. Linguistic Inquiry and Word Count (LIWC) is a linguistics analysis tool that reveals thoughts, feelings, personality, and motivations in a corpus (Karami & Zhou, 2014a, 2014b, 2015). LIWC has accepted rate of sensitivity, specificity, and English proficiency measures (Golder & Macy, 2011). LIWC has a health related dictionary that can help to find whether a topic contains words associated with health. In this analysis, we used LIWC to find health related topics.\\n                  \\n               \\n               \\n                  3\\n                  Results\\n                  Obesity and Diabetes showed the highest and the lowest number of tweets (51.7% and 8.0%). Diet and Exercise formed 23.7% and 16.6% of the tweets (Table 1).\\n\""
      ]
     },
     "execution_count": 10,
     "metadata": {},
     "output_type": "execute_result"
    }
   ],
   "source": [
    "start = 39500\n",
    "full_text[start:start+10000]"
   ]
  },
  {
   "cell_type": "markdown",
   "metadata": {},
   "source": [
    "<hr>"
   ]
  },
  {
   "cell_type": "markdown",
   "metadata": {},
   "source": [
    "#### Search for a specific author"
   ]
  },
  {
   "cell_type": "code",
   "execution_count": 11,
   "metadata": {
    "ExecuteTime": {
     "end_time": "2018-01-05T03:47:25.837492Z",
     "start_time": "2018-01-05T03:47:25.639799Z"
    }
   },
   "outputs": [],
   "source": [
    "author_result_df = scopus.search_author(\"AUTHLASTNAME(Zhao) and AUTHFIRST(Kang) and AFFIL(Iowa)\")"
   ]
  },
  {
   "cell_type": "code",
   "execution_count": 12,
   "metadata": {
    "ExecuteTime": {
     "end_time": "2018-01-05T03:47:25.862869Z",
     "start_time": "2018-01-05T03:47:25.857778Z"
    }
   },
   "outputs": [
    {
     "name": "stdout",
     "output_type": "stream",
     "text": [
      "          affiliation affiliation_id    author_id  document_count       name\n",
      "0  University of Iowa       60024324  36635367700              39  Kang Zhao\n",
      "1  University of Iowa       60024324  57077574400               1  Kang Zhao\n"
     ]
    }
   ],
   "source": [
    "print(author_result_df)"
   ]
  },
  {
   "cell_type": "markdown",
   "metadata": {},
   "source": [
    "Then we can retrieve more detailed info about the author we are looking for using his/her __author_id__:"
   ]
  },
  {
   "cell_type": "code",
   "execution_count": 13,
   "metadata": {
    "ExecuteTime": {
     "end_time": "2018-01-05T03:47:26.591270Z",
     "start_time": "2018-01-05T03:47:26.302742Z"
    }
   },
   "outputs": [],
   "source": [
    "kang_info_dict = scopus.retrieve_author('36635367700')"
   ]
  },
  {
   "cell_type": "code",
   "execution_count": 14,
   "metadata": {
    "ExecuteTime": {
     "end_time": "2018-01-05T03:47:26.595466Z",
     "start_time": "2018-01-05T03:47:26.592516Z"
    },
    "scrolled": true
   },
   "outputs": [
    {
     "data": {
      "text/plain": [
       "dict_keys(['author-id', 'eid', 'document-count', 'cited-by-count', 'citation-count', 'name', 'last', 'first', 'indexed-name', 'publication-range', 'affiliation-current', 'journal-history', 'affiliation-history'])"
      ]
     },
     "execution_count": 14,
     "metadata": {},
     "output_type": "execute_result"
    }
   ],
   "source": [
    "kang_info_dict.keys()"
   ]
  },
  {
   "cell_type": "code",
   "execution_count": 15,
   "metadata": {
    "ExecuteTime": {
     "end_time": "2018-01-05T03:47:26.819229Z",
     "start_time": "2018-01-05T03:47:26.816613Z"
    }
   },
   "outputs": [
    {
     "name": "stdout",
     "output_type": "stream",
     "text": [
      "University of Iowa\n",
      "University of Iowa, Department of Management Sciences\n",
      "University of Iowa, Tippie College of Business\n",
      "University of Iowa, Interdisciplinary Graduate Program in Informatics\n",
      "Pennsylvania State University, College of Information Sciences and Technology\n",
      "Pennsylvania State University\n"
     ]
    }
   ],
   "source": [
    "print('\\n'.join(kang_info_dict['affiliation-history'].name.values))"
   ]
  },
  {
   "cell_type": "markdown",
   "metadata": {},
   "source": [
    "#### Search for his publications explicitly"
   ]
  },
  {
   "cell_type": "code",
   "execution_count": 16,
   "metadata": {
    "ExecuteTime": {
     "end_time": "2018-01-05T03:47:30.398580Z",
     "start_time": "2018-01-05T03:47:28.646742Z"
    }
   },
   "outputs": [],
   "source": [
    "kang_pub_df = scopus.search_author_publication('36635367700')"
   ]
  },
  {
   "cell_type": "code",
   "execution_count": 17,
   "metadata": {
    "ExecuteTime": {
     "end_time": "2018-01-05T03:47:30.415189Z",
     "start_time": "2018-01-05T03:47:30.399791Z"
    },
    "scrolled": true
   },
   "outputs": [
    {
     "data": {
      "text/html": [
       "<div>\n",
       "<style scoped>\n",
       "    .dataframe tbody tr th:only-of-type {\n",
       "        vertical-align: middle;\n",
       "    }\n",
       "\n",
       "    .dataframe tbody tr th {\n",
       "        vertical-align: top;\n",
       "    }\n",
       "\n",
       "    .dataframe thead th {\n",
       "        text-align: right;\n",
       "    }\n",
       "</style>\n",
       "<table border=\"1\" class=\"dataframe\">\n",
       "  <thead>\n",
       "    <tr style=\"text-align: right;\">\n",
       "      <th></th>\n",
       "      <th>title</th>\n",
       "      <th>cover_date</th>\n",
       "      <th>publication_name</th>\n",
       "    </tr>\n",
       "  </thead>\n",
       "  <tbody>\n",
       "    <tr>\n",
       "      <th>0</th>\n",
       "      <td>Building global bridges: Coordination bodies f...</td>\n",
       "      <td>2008-01-01</td>\n",
       "      <td>Proceedings of ISCRAM 2008 - 5th International...</td>\n",
       "    </tr>\n",
       "    <tr>\n",
       "      <th>1</th>\n",
       "      <td>CyberLab: An online virtual laboratory toolkit...</td>\n",
       "      <td>2008-09-22</td>\n",
       "      <td>Proceedings - The 8th IEEE International Confe...</td>\n",
       "    </tr>\n",
       "    <tr>\n",
       "      <th>2</th>\n",
       "      <td>Effect of topology on the robustness of supply...</td>\n",
       "      <td>2009-01-01</td>\n",
       "      <td>19th Workshop on Information Technologies and ...</td>\n",
       "    </tr>\n",
       "    <tr>\n",
       "      <th>3</th>\n",
       "      <td>A formal model for emerging coalitions under n...</td>\n",
       "      <td>2009-03-22</td>\n",
       "      <td>Spring Simulation Multiconference 2009 - Co-lo...</td>\n",
       "    </tr>\n",
       "    <tr>\n",
       "      <th>4</th>\n",
       "      <td>Sectoral coordination in humanitarian informat...</td>\n",
       "      <td>2010-01-01</td>\n",
       "      <td>ISCRAM 2010 - 7th International Conference on ...</td>\n",
       "    </tr>\n",
       "    <tr>\n",
       "      <th>5</th>\n",
       "      <td>Assessing humanitarian inter-organizational ne...</td>\n",
       "      <td>2010-01-01</td>\n",
       "      <td>ISCRAM 2010 - 7th International Conference on ...</td>\n",
       "    </tr>\n",
       "    <tr>\n",
       "      <th>6</th>\n",
       "      <td>Who blogs what: Understanding behavior, impact...</td>\n",
       "      <td>2010-01-01</td>\n",
       "      <td>Proceedings of 20th Annual Workshop on Informa...</td>\n",
       "    </tr>\n",
       "    <tr>\n",
       "      <th>7</th>\n",
       "      <td>From communication to collaboration: Simulatin...</td>\n",
       "      <td>2010-11-29</td>\n",
       "      <td>Proceedings - SocialCom 2010: 2nd IEEE Interna...</td>\n",
       "    </tr>\n",
       "    <tr>\n",
       "      <th>8</th>\n",
       "      <td>Crossing borders, organizations, levels and te...</td>\n",
       "      <td>2010-12-01</td>\n",
       "      <td>16th Americas Conference on Information System...</td>\n",
       "    </tr>\n",
       "    <tr>\n",
       "      <th>9</th>\n",
       "      <td>Assortativity patterns in multi-dimensional in...</td>\n",
       "      <td>2010-12-24</td>\n",
       "      <td>Lecture Notes in Computer Science (including s...</td>\n",
       "    </tr>\n",
       "    <tr>\n",
       "      <th>10</th>\n",
       "      <td>Identifying leaders in an online cancer surviv...</td>\n",
       "      <td>2011-01-01</td>\n",
       "      <td>Proceedings - 21st Workshop on Information Tec...</td>\n",
       "    </tr>\n",
       "    <tr>\n",
       "      <th>11</th>\n",
       "      <td>Analyzing the Resilience of Complex Supply Net...</td>\n",
       "      <td>2011-01-17</td>\n",
       "      <td>IEEE Systems Journal</td>\n",
       "    </tr>\n",
       "    <tr>\n",
       "      <th>12</th>\n",
       "      <td>Achieving high robustness in supply distributi...</td>\n",
       "      <td>2011-05-01</td>\n",
       "      <td>IEEE Transactions on Engineering Management</td>\n",
       "    </tr>\n",
       "    <tr>\n",
       "      <th>13</th>\n",
       "      <td>Get online support, feel better-sentiment anal...</td>\n",
       "      <td>2011-12-01</td>\n",
       "      <td>Proceedings - 2011 IEEE International Conferen...</td>\n",
       "    </tr>\n",
       "    <tr>\n",
       "      <th>14</th>\n",
       "      <td>Simulating inter-organizational collaboration ...</td>\n",
       "      <td>2012-01-01</td>\n",
       "      <td>SIMULATION</td>\n",
       "    </tr>\n",
       "    <tr>\n",
       "      <th>15</th>\n",
       "      <td>Exploring barriers to coordination between hum...</td>\n",
       "      <td>2013-02-28</td>\n",
       "      <td>Information Systems and Modern Society: Social...</td>\n",
       "    </tr>\n",
       "    <tr>\n",
       "      <th>16</th>\n",
       "      <td>Recommendation in reciprocal and bipartite soc...</td>\n",
       "      <td>2013-03-14</td>\n",
       "      <td>Lecture Notes in Computer Science (including s...</td>\n",
       "    </tr>\n",
       "    <tr>\n",
       "      <th>17</th>\n",
       "      <td>Who blogs what: Understanding the publishing b...</td>\n",
       "      <td>2013-11-01</td>\n",
       "      <td>World Wide Web</td>\n",
       "    </tr>\n",
       "    <tr>\n",
       "      <th>18</th>\n",
       "      <td>Understanding topics and sentiment in an onlin...</td>\n",
       "      <td>2013-12-01</td>\n",
       "      <td>Journal of the National Cancer Institute - Mon...</td>\n",
       "    </tr>\n",
       "    <tr>\n",
       "      <th>19</th>\n",
       "      <td>Making sense of a healthcare forum - Smart key...</td>\n",
       "      <td>2013-12-01</td>\n",
       "      <td>International Conference on Information System...</td>\n",
       "    </tr>\n",
       "    <tr>\n",
       "      <th>20</th>\n",
       "      <td>Social support and user engagement in online h...</td>\n",
       "      <td>2014-01-01</td>\n",
       "      <td>Lecture Notes in Computer Science (including s...</td>\n",
       "    </tr>\n",
       "    <tr>\n",
       "      <th>21</th>\n",
       "      <td>User recommendations in reciprocal and biparti...</td>\n",
       "      <td>2014-01-01</td>\n",
       "      <td>IEEE Intelligent Systems</td>\n",
       "    </tr>\n",
       "    <tr>\n",
       "      <th>22</th>\n",
       "      <td>Social support and user engagement in online h...</td>\n",
       "      <td>2014-01-01</td>\n",
       "      <td>Proceedings - Pacific Asia Conference on Infor...</td>\n",
       "    </tr>\n",
       "    <tr>\n",
       "      <th>23</th>\n",
       "      <td>Finding influential users of online health com...</td>\n",
       "      <td>2014-01-01</td>\n",
       "      <td>Journal of the American Medical Informatics As...</td>\n",
       "    </tr>\n",
       "    <tr>\n",
       "      <th>24</th>\n",
       "      <td>The structure and dynamics of a multi-relation...</td>\n",
       "      <td>2015-01-01</td>\n",
       "      <td>25th Annual Workshop on Information Technologi...</td>\n",
       "    </tr>\n",
       "    <tr>\n",
       "      <th>25</th>\n",
       "      <td>Early prediction of movie success-what, who, a...</td>\n",
       "      <td>2015-01-01</td>\n",
       "      <td>Lecture Notes in Computer Science (including s...</td>\n",
       "    </tr>\n",
       "    <tr>\n",
       "      <th>26</th>\n",
       "      <td>The diffusion of user roles via social network...</td>\n",
       "      <td>2015-01-01</td>\n",
       "      <td>25th Annual Workshop on Information Technologi...</td>\n",
       "    </tr>\n",
       "    <tr>\n",
       "      <th>27</th>\n",
       "      <td>The evolution of user roles in online health c...</td>\n",
       "      <td>2015-01-01</td>\n",
       "      <td>Pacific Asia Conference on Information Systems...</td>\n",
       "    </tr>\n",
       "    <tr>\n",
       "      <th>28</th>\n",
       "      <td>System Informatics: From Methodology to Applic...</td>\n",
       "      <td>2015-11-01</td>\n",
       "      <td>IEEE Intelligent Systems</td>\n",
       "    </tr>\n",
       "    <tr>\n",
       "      <th>29</th>\n",
       "      <td>Leader identification in an online health comm...</td>\n",
       "      <td>2015-11-01</td>\n",
       "      <td>Information Systems and e-Business Management</td>\n",
       "    </tr>\n",
       "    <tr>\n",
       "      <th>30</th>\n",
       "      <td>The evolution and diffusion of user roles in o...</td>\n",
       "      <td>2015-12-08</td>\n",
       "      <td>Proceedings - 2015 IEEE International Conferen...</td>\n",
       "    </tr>\n",
       "    <tr>\n",
       "      <th>31</th>\n",
       "      <td>Investigating regional prejudice in China thro...</td>\n",
       "      <td>2016-01-01</td>\n",
       "      <td>Lecture Notes in Computer Science (including s...</td>\n",
       "    </tr>\n",
       "    <tr>\n",
       "      <th>32</th>\n",
       "      <td>Early Predictions of Movie Success: The Who, W...</td>\n",
       "      <td>2016-07-02</td>\n",
       "      <td>Journal of Management Information Systems</td>\n",
       "    </tr>\n",
       "    <tr>\n",
       "      <th>33</th>\n",
       "      <td>A multirelational social network analysis of a...</td>\n",
       "      <td>2016-08-01</td>\n",
       "      <td>Journal of Medical Internet Research</td>\n",
       "    </tr>\n",
       "    <tr>\n",
       "      <th>34</th>\n",
       "      <td>Analyzing and predicting user participations i...</td>\n",
       "      <td>2017-04-01</td>\n",
       "      <td>Journal of Medical Internet Research</td>\n",
       "    </tr>\n",
       "    <tr>\n",
       "      <th>35</th>\n",
       "      <td>The state and evolution of U.S. iSchools: From...</td>\n",
       "      <td>2017-05-01</td>\n",
       "      <td>Journal of the Association for Information Sci...</td>\n",
       "    </tr>\n",
       "    <tr>\n",
       "      <th>36</th>\n",
       "      <td>A prospective examination of online social net...</td>\n",
       "      <td>2017-08-01</td>\n",
       "      <td>PLoS ONE</td>\n",
       "    </tr>\n",
       "    <tr>\n",
       "      <th>37</th>\n",
       "      <td>A descriptive study of the prevalence and typo...</td>\n",
       "      <td>2017-09-01</td>\n",
       "      <td>Journal of Studies on Alcohol and Drugs</td>\n",
       "    </tr>\n",
       "    <tr>\n",
       "      <th>38</th>\n",
       "      <td>The failure to increase social support: it jus...</td>\n",
       "      <td>2017-12-01</td>\n",
       "      <td>Translational Behavioral Medicine</td>\n",
       "    </tr>\n",
       "  </tbody>\n",
       "</table>\n",
       "</div>"
      ],
      "text/plain": [
       "                                                title  cover_date  \\\n",
       "0   Building global bridges: Coordination bodies f...  2008-01-01   \n",
       "1   CyberLab: An online virtual laboratory toolkit...  2008-09-22   \n",
       "2   Effect of topology on the robustness of supply...  2009-01-01   \n",
       "3   A formal model for emerging coalitions under n...  2009-03-22   \n",
       "4   Sectoral coordination in humanitarian informat...  2010-01-01   \n",
       "5   Assessing humanitarian inter-organizational ne...  2010-01-01   \n",
       "6   Who blogs what: Understanding behavior, impact...  2010-01-01   \n",
       "7   From communication to collaboration: Simulatin...  2010-11-29   \n",
       "8   Crossing borders, organizations, levels and te...  2010-12-01   \n",
       "9   Assortativity patterns in multi-dimensional in...  2010-12-24   \n",
       "10  Identifying leaders in an online cancer surviv...  2011-01-01   \n",
       "11  Analyzing the Resilience of Complex Supply Net...  2011-01-17   \n",
       "12  Achieving high robustness in supply distributi...  2011-05-01   \n",
       "13  Get online support, feel better-sentiment anal...  2011-12-01   \n",
       "14  Simulating inter-organizational collaboration ...  2012-01-01   \n",
       "15  Exploring barriers to coordination between hum...  2013-02-28   \n",
       "16  Recommendation in reciprocal and bipartite soc...  2013-03-14   \n",
       "17  Who blogs what: Understanding the publishing b...  2013-11-01   \n",
       "18  Understanding topics and sentiment in an onlin...  2013-12-01   \n",
       "19  Making sense of a healthcare forum - Smart key...  2013-12-01   \n",
       "20  Social support and user engagement in online h...  2014-01-01   \n",
       "21  User recommendations in reciprocal and biparti...  2014-01-01   \n",
       "22  Social support and user engagement in online h...  2014-01-01   \n",
       "23  Finding influential users of online health com...  2014-01-01   \n",
       "24  The structure and dynamics of a multi-relation...  2015-01-01   \n",
       "25  Early prediction of movie success-what, who, a...  2015-01-01   \n",
       "26  The diffusion of user roles via social network...  2015-01-01   \n",
       "27  The evolution of user roles in online health c...  2015-01-01   \n",
       "28  System Informatics: From Methodology to Applic...  2015-11-01   \n",
       "29  Leader identification in an online health comm...  2015-11-01   \n",
       "30  The evolution and diffusion of user roles in o...  2015-12-08   \n",
       "31  Investigating regional prejudice in China thro...  2016-01-01   \n",
       "32  Early Predictions of Movie Success: The Who, W...  2016-07-02   \n",
       "33  A multirelational social network analysis of a...  2016-08-01   \n",
       "34  Analyzing and predicting user participations i...  2017-04-01   \n",
       "35  The state and evolution of U.S. iSchools: From...  2017-05-01   \n",
       "36  A prospective examination of online social net...  2017-08-01   \n",
       "37  A descriptive study of the prevalence and typo...  2017-09-01   \n",
       "38  The failure to increase social support: it jus...  2017-12-01   \n",
       "\n",
       "                                     publication_name  \n",
       "0   Proceedings of ISCRAM 2008 - 5th International...  \n",
       "1   Proceedings - The 8th IEEE International Confe...  \n",
       "2   19th Workshop on Information Technologies and ...  \n",
       "3   Spring Simulation Multiconference 2009 - Co-lo...  \n",
       "4   ISCRAM 2010 - 7th International Conference on ...  \n",
       "5   ISCRAM 2010 - 7th International Conference on ...  \n",
       "6   Proceedings of 20th Annual Workshop on Informa...  \n",
       "7   Proceedings - SocialCom 2010: 2nd IEEE Interna...  \n",
       "8   16th Americas Conference on Information System...  \n",
       "9   Lecture Notes in Computer Science (including s...  \n",
       "10  Proceedings - 21st Workshop on Information Tec...  \n",
       "11                               IEEE Systems Journal  \n",
       "12        IEEE Transactions on Engineering Management  \n",
       "13  Proceedings - 2011 IEEE International Conferen...  \n",
       "14                                         SIMULATION  \n",
       "15  Information Systems and Modern Society: Social...  \n",
       "16  Lecture Notes in Computer Science (including s...  \n",
       "17                                     World Wide Web  \n",
       "18  Journal of the National Cancer Institute - Mon...  \n",
       "19  International Conference on Information System...  \n",
       "20  Lecture Notes in Computer Science (including s...  \n",
       "21                           IEEE Intelligent Systems  \n",
       "22  Proceedings - Pacific Asia Conference on Infor...  \n",
       "23  Journal of the American Medical Informatics As...  \n",
       "24  25th Annual Workshop on Information Technologi...  \n",
       "25  Lecture Notes in Computer Science (including s...  \n",
       "26  25th Annual Workshop on Information Technologi...  \n",
       "27  Pacific Asia Conference on Information Systems...  \n",
       "28                           IEEE Intelligent Systems  \n",
       "29      Information Systems and e-Business Management  \n",
       "30  Proceedings - 2015 IEEE International Conferen...  \n",
       "31  Lecture Notes in Computer Science (including s...  \n",
       "32          Journal of Management Information Systems  \n",
       "33               Journal of Medical Internet Research  \n",
       "34               Journal of Medical Internet Research  \n",
       "35  Journal of the Association for Information Sci...  \n",
       "36                                           PLoS ONE  \n",
       "37            Journal of Studies on Alcohol and Drugs  \n",
       "38                  Translational Behavioral Medicine  "
      ]
     },
     "execution_count": 17,
     "metadata": {},
     "output_type": "execute_result"
    }
   ],
   "source": [
    "kang_pub_df[['title', 'cover_date', 'publication_name']].sort_values('cover_date').reset_index(drop=True)"
   ]
  },
  {
   "cell_type": "markdown",
   "metadata": {},
   "source": [
    "---"
   ]
  },
  {
   "cell_type": "markdown",
   "metadata": {},
   "source": [
    "### Abstract retrieval"
   ]
  },
  {
   "cell_type": "code",
   "execution_count": 18,
   "metadata": {
    "ExecuteTime": {
     "end_time": "2018-01-05T03:47:35.130446Z",
     "start_time": "2018-01-05T03:47:33.730762Z"
    }
   },
   "outputs": [],
   "source": [
    "pub_info = scopus.retrieve_abstract('84905286162')"
   ]
  },
  {
   "cell_type": "code",
   "execution_count": 19,
   "metadata": {
    "ExecuteTime": {
     "end_time": "2018-01-05T03:47:35.728301Z",
     "start_time": "2018-01-05T03:47:35.725130Z"
    }
   },
   "outputs": [
    {
     "data": {
      "text/plain": [
       "{'abstract': \"Online health communities (OHCs) have become a major source of support for people with health problems. This research tries to improve our understanding of social influence and to identify influential users in OHCs. The outcome can facilitate OHC management, improve community sustainability, and eventually benefit OHC users. Through text mining and sentiment analysis of users' online interactions, the research revealed sentiment dynamics in threaded discussions. A novel metric--the number of influential responding replies--was proposed to directly measure a user's ability to affect the sentiment of others. Using the dataset from a popular OHC, the research demonstrated that the proposed metric is highly effective in identifying influential users. In addition, combining the metric with other traditional measures further improves the identification of influential users. Published by the BMJ Publishing Group Limited. For permission to use (where not already granted under a licence) please go to http://group.bmj.com/group/rights-licensing/permissions.\",\n",
       " 'citedby-count': '29',\n",
       " 'eid': '2-s2.0-84905286162',\n",
       " 'prism:aggregationType': 'Journal',\n",
       " 'prism:coverDate': '2014-01-01',\n",
       " 'prism:doi': '10.1136/amiajnl-2013-002282',\n",
       " 'prism:issn': '1527974X',\n",
       " 'prism:issueIdentifier': 'e2',\n",
       " 'prism:publicationName': 'Journal of the American Medical Informatics Association : JAMIA',\n",
       " 'prism:url': 'http://api.elsevier.com/content/abstract/scopus_id/84905286162',\n",
       " 'prism:volume': '21',\n",
       " 'pubmed-id': '24449805',\n",
       " 'scopus-id': '84905286162',\n",
       " 'source-id': '23600',\n",
       " 'srctype': 'j',\n",
       " 'title': 'Finding influential users of online health communities: a new metric based on sentiment influence.'}"
      ]
     },
     "execution_count": 19,
     "metadata": {},
     "output_type": "execute_result"
    }
   ],
   "source": [
    "pub_info"
   ]
  },
  {
   "cell_type": "markdown",
   "metadata": {},
   "source": [
    "<hr>"
   ]
  },
  {
   "cell_type": "markdown",
   "metadata": {},
   "source": [
    "Note that __Searching for articles in specific journals (venues) is not supported anymore since this can be easily done by `general search`__."
   ]
  },
  {
   "cell_type": "markdown",
   "metadata": {},
   "source": [
    "<hr>"
   ]
  },
  {
   "cell_type": "markdown",
   "metadata": {},
   "source": [
    "### Citation count retrieval"
   ]
  },
  {
   "cell_type": "markdown",
   "metadata": {},
   "source": [
    "__Note that the use of `citation overview API` needs to be approved by Elsevier.__"
   ]
  },
  {
   "cell_type": "code",
   "execution_count": 22,
   "metadata": {
    "ExecuteTime": {
     "end_time": "2018-01-05T03:47:59.170787Z",
     "start_time": "2018-01-05T03:47:58.551751Z"
    }
   },
   "outputs": [],
   "source": [
    "pub_citations_df = scopus.retrieve_citation(scopus_id_array=['84905286162', '0141607824'],\n",
    "                                            year_range=[2013, 2017])"
   ]
  },
  {
   "cell_type": "code",
   "execution_count": 23,
   "metadata": {
    "ExecuteTime": {
     "end_time": "2018-01-05T03:47:59.188322Z",
     "start_time": "2018-01-05T03:47:59.181520Z"
    }
   },
   "outputs": [
    {
     "name": "stdout",
     "output_type": "stream",
     "text": [
      "     scopus_id previous_citation  2013  2014  2015  2016  2017 later_citation  \\\n",
      "0  84905286162                 0     0     3     6     9    10              1   \n",
      "1   0141607824              3360  1323  1451  1669  1983  1631             71   \n",
      "\n",
      "  total_citation  \n",
      "0             29  \n",
      "1          11488  \n"
     ]
    }
   ],
   "source": [
    "print(pub_citations_df)"
   ]
  }
 ],
 "metadata": {
  "kernelspec": {
   "display_name": "Python 3",
   "language": "python",
   "name": "python3"
  },
  "language_info": {
   "codemirror_mode": {
    "name": "ipython",
    "version": 3
   },
   "file_extension": ".py",
   "mimetype": "text/x-python",
   "name": "python",
   "nbconvert_exporter": "python",
   "pygments_lexer": "ipython3",
   "version": "3.7.0"
  },
  "toc": {
   "base_numbering": 1,
   "nav_menu": {},
   "number_sections": true,
   "sideBar": true,
   "skip_h1_title": false,
   "title_cell": "Table of Contents",
   "title_sidebar": "Contents",
   "toc_cell": false,
   "toc_position": {
    "height": "823px",
    "left": "0px",
    "right": "1468px",
    "top": "126px",
    "width": "212px"
   },
   "toc_section_display": "block",
   "toc_window_display": true
  },
  "varInspector": {
   "cols": {
    "lenName": 16,
    "lenType": 16,
    "lenVar": 40
   },
   "kernels_config": {
    "python": {
     "delete_cmd_postfix": "",
     "delete_cmd_prefix": "del ",
     "library": "var_list.py",
     "varRefreshCmd": "print(var_dic_list())"
    },
    "r": {
     "delete_cmd_postfix": ") ",
     "delete_cmd_prefix": "rm(",
     "library": "var_list.r",
     "varRefreshCmd": "cat(var_dic_list()) "
    }
   },
   "types_to_exclude": [
    "module",
    "function",
    "builtin_function_or_method",
    "instance",
    "_Feature"
   ],
   "window_display": false
  }
 },
 "nbformat": 4,
 "nbformat_minor": 2
}
