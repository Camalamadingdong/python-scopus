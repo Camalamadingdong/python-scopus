{
 "cells": [
  {
   "cell_type": "markdown",
   "metadata": {},
   "source": [
    "__PyScopus__: Quick Start"
   ]
  },
  {
   "cell_type": "markdown",
   "metadata": {},
   "source": [
    "__PyScopus__ is a Python wrapper of [Elsevier Scopus API](https://dev.elsevier.com/). More details of this Python package can be found [here](http://zhiyzuo.github.io/python-scopus/)."
   ]
  },
  {
   "cell_type": "markdown",
   "metadata": {},
   "source": [
    "<hr>"
   ]
  },
  {
   "cell_type": "markdown",
   "metadata": {},
   "source": [
    "Import `Scopus` class and initialize with your own __API Key__"
   ]
  },
  {
   "cell_type": "code",
   "execution_count": 4,
   "metadata": {
    "ExecuteTime": {
     "end_time": "2019-01-26T23:49:47.637230Z",
     "start_time": "2019-01-26T23:49:47.615818Z"
    }
   },
   "outputs": [
    {
     "data": {
      "text/plain": [
       "'1.0.3a1'"
      ]
     },
     "execution_count": 4,
     "metadata": {},
     "output_type": "execute_result"
    }
   ],
   "source": [
    "import pyscopus\n",
    "pyscopus.__version__"
   ]
  },
  {
   "cell_type": "code",
   "execution_count": 32,
   "metadata": {
    "ExecuteTime": {
     "end_time": "2019-01-26T23:49:54.222678Z",
     "start_time": "2019-01-26T23:49:54.219935Z"
    },
    "init_cell": true
   },
   "outputs": [],
   "source": [
    "from pyscopus import Scopus"
   ]
  },
  {
   "cell_type": "code",
   "execution_count": 33,
   "metadata": {
    "ExecuteTime": {
     "end_time": "2019-01-26T23:49:54.235136Z",
     "start_time": "2019-01-26T23:49:54.224957Z"
    },
    "init_cell": true
   },
   "outputs": [],
   "source": [
    "key = 'YOUR_OWN_API'"
   ]
  },
  {
   "cell_type": "code",
   "execution_count": 34,
   "metadata": {
    "ExecuteTime": {
     "end_time": "2019-01-26T23:49:54.247422Z",
     "start_time": "2019-01-26T23:49:54.237726Z"
    },
    "init_cell": true
   },
   "outputs": [],
   "source": [
    "scopus = Scopus(key)"
   ]
  },
  {
   "cell_type": "markdown",
   "metadata": {},
   "source": [
    "<hr>"
   ]
  },
  {
   "cell_type": "markdown",
   "metadata": {},
   "source": [
    "### General Search"
   ]
  },
  {
   "cell_type": "code",
   "execution_count": 8,
   "metadata": {
    "ExecuteTime": {
     "end_time": "2019-01-26T23:49:49.608617Z",
     "start_time": "2019-01-26T23:49:47.686693Z"
    }
   },
   "outputs": [],
   "source": [
    "search_df = scopus.search(\"KEY(topic modeling)\", count=30)"
   ]
  },
  {
   "cell_type": "code",
   "execution_count": 9,
   "metadata": {
    "ExecuteTime": {
     "end_time": "2019-01-26T23:49:49.640476Z",
     "start_time": "2019-01-26T23:49:49.611060Z"
    }
   },
   "outputs": [
    {
     "name": "stdout",
     "output_type": "stream",
     "text": [
      "     scopus_id                                              title  \\\n",
      "0  85059802501  A hybrid IT framework for identifying high-qua...   \n",
      "1  85059563587  Knowledge empowered prominent aspect extractio...   \n",
      "2  85056216742  Subevents detection through topic modeling in ...   \n",
      "3  85059799573  An overview of statistical methods for handlin...   \n",
      "4  85056478111  Content features of tweets for effective commu...   \n",
      "5  85059561429  Variational-based latent generalized Dirichlet...   \n",
      "6  85055869272  Integrating Topic, Sentiment, and Syntax for M...   \n",
      "7  85058006073  Identifying spatial interaction patterns of ve...   \n",
      "8  85057796067  Topical Co-Attention Networks for hashtag reco...   \n",
      "9  85055701263    High-level event identification in social media   \n",
      "\n",
      "                                    publication_name      issn  isbn  \\\n",
      "0    International Journal of Information Management  02684012  None   \n",
      "1              Information Processing and Management  03064573  None   \n",
      "2                 Future Generation Computer Systems  0167739X  None   \n",
      "3                   Journal of Clinical Epidemiology  08954356  None   \n",
      "4    International Journal of Information Management  02684012  None   \n",
      "5                                     Neurocomputing  09252312  None   \n",
      "6  Journal of Computing and Information Science i...  15309827  None   \n",
      "7           Computers, Environment and Urban Systems  01989715  None   \n",
      "8                                     Neurocomputing  09252312  None   \n",
      "9                            Concurrency Computation  15320626  None   \n",
      "\n",
      "      eissn volume page_range  cover_date  \\\n",
      "0      None     47      65-75  2019-08-01   \n",
      "1      None     56    408-423  2019-05-01   \n",
      "2      None     93    290-303  2019-04-01   \n",
      "3  18785921    108    121-131  2019-04-01   \n",
      "4      None     45      56-68  2019-04-01   \n",
      "5  18728286    332    372-395  2019-03-07   \n",
      "6      None     19       None  2019-03-01   \n",
      "7      None     74      50-61  2019-03-01   \n",
      "8  18728286    331    356-365  2019-02-28   \n",
      "9  15320634     31       None  2019-02-10   \n",
      "\n",
      "                                   doi  citation_count  \\\n",
      "0      10.1016/j.ijinfomgt.2019.01.005               0   \n",
      "1            10.1016/j.ipm.2018.11.006               0   \n",
      "2         10.1016/j.future.2018.09.008               0   \n",
      "3       10.1016/j.jclinepi.2018.12.002               0   \n",
      "4      10.1016/j.ijinfomgt.2018.10.012               0   \n",
      "5         10.1016/j.neucom.2018.12.046               0   \n",
      "6                    10.1115/1.4041475               0   \n",
      "7  10.1016/j.compenvurbsys.2018.12.001               0   \n",
      "8         10.1016/j.neucom.2018.11.057               0   \n",
      "9                     10.1002/cpe.4668               1   \n",
      "\n",
      "                                         affiliation aggregation_type  \\\n",
      "0  [{'name': 'Wuhan University', 'city': 'Wuhan',...          Journal   \n",
      "1  [{'name': 'Shanghai Jiao Tong University', 'ci...          Journal   \n",
      "2  [{'name': 'Universidade Federal do Rio de Jane...          Journal   \n",
      "3  [{'name': 'University of Exeter', 'city': 'Exe...          Journal   \n",
      "4  [{'name': 'California State University Chico',...          Journal   \n",
      "5  [{'name': 'Universite Concordia', 'city': 'Mon...          Journal   \n",
      "6  [{'name': 'Chongqing Technology and Business U...          Journal   \n",
      "7  [{'name': 'Shenzhen Institute of Advanced Tech...          Journal   \n",
      "8  [{'name': 'Northeast Forestry University', 'ci...          Journal   \n",
      "9  [{'name': 'Mongolian University of Science and...          Journal   \n",
      "\n",
      "  subtype_description                                            authors  \\\n",
      "0             Article  [57205380806, 57205380806, 56192958200, 570355...   \n",
      "1             Article             [57193132691, 57198740159, 8857364700]   \n",
      "2             Article                          [56319064100, 7202452493]   \n",
      "3              Review  [55173782900, 57205245086, 8860721500, 5720537...   \n",
      "4             Article  [57202449048, 39861640600, 57202457040, 572031...   \n",
      "5             Article                          [56462945200, 6603545988]   \n",
      "6             Article  [57203987692, 36767821000, 35206193200, 572012...   \n",
      "7             Article  [55729555700, 55729555700, 55876526300, 560479...   \n",
      "8             Article  [56520462300, 35080762900, 57204907011, 561960...   \n",
      "9    Conference Paper                         [56023841200, 37123435200]   \n",
      "\n",
      "                                           full_text  \n",
      "0  https://api.elsevier.com/content/article/eid/1...  \n",
      "1  https://api.elsevier.com/content/article/eid/1...  \n",
      "2  https://api.elsevier.com/content/article/eid/1...  \n",
      "3  https://api.elsevier.com/content/article/eid/1...  \n",
      "4  https://api.elsevier.com/content/article/eid/1...  \n",
      "5  https://api.elsevier.com/content/article/eid/1...  \n",
      "6                                               None  \n",
      "7  https://api.elsevier.com/content/article/eid/1...  \n",
      "8  https://api.elsevier.com/content/article/eid/1...  \n",
      "9                                               None  \n"
     ]
    }
   ],
   "source": [
    "print(search_df.head(10))"
   ]
  },
  {
   "cell_type": "markdown",
   "metadata": {},
   "source": [
    "#### Full text link"
   ]
  },
  {
   "cell_type": "code",
   "execution_count": 10,
   "metadata": {
    "ExecuteTime": {
     "end_time": "2019-01-26T23:49:49.650807Z",
     "start_time": "2019-01-26T23:49:49.643201Z"
    }
   },
   "outputs": [
    {
     "data": {
      "text/plain": [
       "array(['https://api.elsevier.com/content/article/eid/1-s2.0-S026840121830834X',\n",
       "       'https://api.elsevier.com/content/article/eid/1-s2.0-S0306457318305193',\n",
       "       'https://api.elsevier.com/content/article/eid/1-s2.0-S0167739X18307611',\n",
       "       'https://api.elsevier.com/content/article/eid/1-s2.0-S0895435618304943',\n",
       "       'https://api.elsevier.com/content/article/eid/1-s2.0-S0268401217308265',\n",
       "       'https://api.elsevier.com/content/article/eid/1-s2.0-S0925231218315030',\n",
       "       None,\n",
       "       'https://api.elsevier.com/content/article/eid/1-s2.0-S0198971518302898',\n",
       "       'https://api.elsevier.com/content/article/eid/1-s2.0-S0925231218314012',\n",
       "       None, None,\n",
       "       'https://api.elsevier.com/content/article/eid/1-s2.0-S1047320319300057',\n",
       "       'https://api.elsevier.com/content/article/eid/1-s2.0-S1047320319300094',\n",
       "       'https://api.elsevier.com/content/article/eid/1-s2.0-S0020025518307667',\n",
       "       None,\n",
       "       'https://api.elsevier.com/content/article/eid/1-s2.0-S0957417418306146',\n",
       "       None,\n",
       "       'https://api.elsevier.com/content/article/eid/1-s2.0-S0925231217315242',\n",
       "       'https://api.elsevier.com/content/article/eid/1-s2.0-S0925231218312128',\n",
       "       'https://api.elsevier.com/content/article/eid/1-s2.0-S0950705118305586',\n",
       "       None, None, None, None, None, None,\n",
       "       'https://api.elsevier.com/content/article/eid/1-s2.0-S138589471831564X',\n",
       "       None, None, None], dtype=object)"
      ]
     },
     "execution_count": 10,
     "metadata": {},
     "output_type": "execute_result"
    }
   ],
   "source": [
    "full_text_link_arr = search_df.full_text.values\n",
    "full_text_link_arr"
   ]
  },
  {
   "cell_type": "markdown",
   "metadata": {},
   "source": [
    "For those with full text links, you are able to get all the text by calling `scopus.retrieve_full_text()`"
   ]
  },
  {
   "cell_type": "code",
   "execution_count": 11,
   "metadata": {
    "ExecuteTime": {
     "end_time": "2019-01-26T23:49:50.194990Z",
     "start_time": "2019-01-26T23:49:49.653246Z"
    }
   },
   "outputs": [],
   "source": [
    "full_text = scopus.retrieve_full_text(full_text_link_arr[2])"
   ]
  },
  {
   "cell_type": "code",
   "execution_count": 12,
   "metadata": {
    "ExecuteTime": {
     "end_time": "2019-01-26T23:49:50.202302Z",
     "start_time": "2019-01-26T23:49:50.197489Z"
    }
   },
   "outputs": [
    {
     "data": {
      "text/plain": [
       "'any times they are implicitly described in the text. Our goal is to address the subevent detection in an unsupervised way so it can find unknown subevents while also producing explanatory labels so a user could identify the main aspects of the subevent without having to know beforehand their details. The main challenge in subevents detection is the similarity of vocabulary since every subevent shares some of the key terms present in the main event. They are also usually in a larger quantity and occurs in small timeframes when comparing to main events. We are not resorting to classification and supervised methods since social networks events are unpredictable. Also, we are concerned about giving an understanding of the event to the user without requiring a field specialist via phrases that can capture the thematic of the social discussions. This way, many events occurring could be deeply investigated at the level of subevents and be used to help in a variety of situations such as emergencies, epidemics, political and cultural movements. This work focuses on the detection of these components that are present in the reports and conversations but are not detectable without human analysis. We propose a method capable of identifying subevents from main events and subsequently creating labels to represent them, thus facilitating its comprehension by a specialist for example (e.g., an emergency specialist in the tsunami scenario). Textual information from Twitter users are used as input in the experiments because of its data volume and popularity, then we use a topic modeling based algorithm for detection mixed with a topic labeling algorithm for representation of the subevents as concise labels. Two experiments were made in the political and public health scenarios. The first one was made with a series of subevents from political protests that occurred in Brazil in 2013. The second one related to the Zika virus epidemic that occurred between 2015 and 2016. The main contributions of the method proposed include its viability when used with short and informal texts (A Tweeter post, for example, can have up to 140 characters and usually includes abbreviations, local terms, and specific words). Scalability, because the algorithms can be used with any amount of data with minimal additional processing. Language Independence, as the topic modeling and labeling can be used with any language and do not involve specific language feature processing. These characteristics can be useful for detection of subevents of different sizes with different amount of available data and for detection of global or international subevents that usually includes reports in many languages. It also differentiates itself from the related works by adding the novel labeling methods to display the subevents as entities that could be understood without analyzing the documents or the collection. This paper is organized as follows: In the next section, we explain and compare related works to give an overview of the main approaches discussed in the literature. In Section 3 we give a brief explanation of the event definitions used and the human as a sensor approach along with a topic modeling background, followed by the proposal in Section 4. In Section 5, we describe the experiments and evaluation performed along with the corresponding discussion. Finally, in Section 6, we conclude with the final considerations. 2 Related work Many works in the event detection area have been published in the last years, the majority of them focus on main events, how to differentiate an event and noise/false events and news. The research of [1], for example, proposes a news processing system based on Twitter. They make a classifier to separate news from irrelevant information and cluster them, although not making labels for the news. A similar work is presented by [5], where the authors track the breaking news through “#breakingnews” hashtags, indexing them to monitor their evolution and group them based on Named Entity Recognition. This method needs more processing and usefulness in large databases in debatable. The distinction between events and common topics or subjects is addressed by [6], where they use a grouping and classifier technique to distinguish real-world events from topics reported that have no relation to any real-world occurrence. Other works focus on the detection and monitoring through time as [3] that proposes the construction of wavelet signals based on individual words which could identify the beginning, end, and duration of an event. The same method is used in [7], but with the use of hashtags instead of individual words. For subevents, these methods have an obstacle for application due to the subevents being associated with the main event and thus sharing tags and terms. The specified event detection has works as [4] that focus on detecting events that generate public discussion in social networks. The discovery is entity based, given a controversial figure (such as a president), their goal is to detect events that generate public discussions about this figure. Musical concerts event detection is proposed by [8], using a graph model, artists information and event location to detect messages related to the specific event. Local Festivals detection is made by [9] via geotags, which are geographic information included in posts and that can be used to detect agglomeration and movement patterns. Finally, query expansion is used by [10] to assess the usage of terms over time. In each interval, the usage of terms is computed and compared to the history database to know which terms are at a peak and so more suitable to be related to an event. 3 Definitions and background Since our main objective is the subevent detection using microblogging data (specifically Twitter posts), we will define each post as a document. A collection of posts can be defined as C = {d1, d2, d3 …} where d1 is document number one, d2 the number two, and so on. The order of the documents can be retrieved anytime based on timestamp or document indexes and thus, there is no need for the collection to be ordered previously. In our method and experiments, we will use Twitter posts, specifically, the text contained in the posts. Each text consists of a maximum of 140 characters, which presents a challenge for topic and subject extraction due to the data restriction. Links and tags are considered as “text” and are considered during the processing. 3.1 Event detection Foremost, we will define an event as: Definition 1 An event is a significant occurrence limited by time and with an associated location [11]. A subevent can be defined, in the same way, as an event associated with and dependent on a “main event”. A subevent is part of an event. An event includes two or more subevents. Thus an event can be imagined as a chain of connected subevents. Then, a subevent is defined as: Definition 2 A subevent is an event associated with another event by a composition association. Event detection can be classified into two types: Specified event detection and unspecified event detection. Specified event detection is the identification of events which are previously known as planned events, such as a soccer game or a music concert, which have assigned dates and locations. Unspecified event detection, on the other hand, is the identification of unknown events, which occur quickly and unexpectedly, such as the murder of a political figure or the beginning of an earthquake. Subevents are often rarely anticipated so the majority of them would be unspecified. This characteristic makes it hard to predict the outcome with traditional trained algorithms or classifiers. Even specified events have unspecified subevents that occur as the main event develops. This work goal concerning event detection is to detect and differentiate events coming from the same main event. The methods applied can be used in both specified and unspecified subevents, although by nature, the majority of subevents occur without a previous knowledge. 3.2 Humans as sensors Sensor Networks typically consist of a set of sensors that sends data about environment parameters. The increasing growth in social network data suggests that the largest “sensor network” yet might be human. The use of social data and humans as sensor networks is called the “Human as a Sensor” (HaaS) paradigm [12]. In this approach, individuals are represented by sensors (data sources) who occasionally make observations about the physical world [13]. These observations may be true or false and hence are viewed as binary claims. The reliability of the system is based on the amount or “correct” observations and it is usually assumed that with millions of users reporting, the amount of “correct” observations surpass by far the “incorrect” ones. However, in the case of human participants, not only is the reliability of sources usually unknown but also the original data provenance may be uncertain. Humans may report false propaganda based on bias rather than their own experience. Individuals may report observations made by others as their own. Mechanisms like sharing and linking could induce this behavior and the advent of fake news and its reflections on events worldwide has been a subject of debate concerning social media reliability [12]. Despite these concerns, many studies have used social networks as sensor networks with success in tasks like reporting emergency scenarios and disaster recovery [14,15]. Other works displayed good results when analyzing the reliability of microblogging posts on disaster and sports scenarios [2,12]. The focus of this work is the external environment surrounding the human sensor. Social networks can carry some subjective information as posts about the user’s feelings or isolated personal opinions. As such we want to detect only discussions and opinions regarding the subevent topic like the sentiment regarding a specific protest or an opinio'"
      ]
     },
     "execution_count": 12,
     "metadata": {},
     "output_type": "execute_result"
    }
   ],
   "source": [
    "start = 39500\n",
    "full_text[start:start+10000]"
   ]
  },
  {
   "cell_type": "markdown",
   "metadata": {},
   "source": [
    "<hr>"
   ]
  },
  {
   "cell_type": "markdown",
   "metadata": {},
   "source": [
    "#### Search for a specific author"
   ]
  },
  {
   "cell_type": "code",
   "execution_count": 13,
   "metadata": {
    "ExecuteTime": {
     "end_time": "2019-01-26T23:49:50.629663Z",
     "start_time": "2019-01-26T23:49:50.204774Z"
    }
   },
   "outputs": [],
   "source": [
    "author_result_df = scopus.search_author(\"AUTHLASTNAME(Zuo) and AUTHFIRST(Zhiya) and AFFIL(Iowa)\")"
   ]
  },
  {
   "cell_type": "code",
   "execution_count": 14,
   "metadata": {
    "ExecuteTime": {
     "end_time": "2019-01-26T23:49:50.640561Z",
     "start_time": "2019-01-26T23:49:50.631968Z"
    }
   },
   "outputs": [
    {
     "name": "stdout",
     "output_type": "stream",
     "text": [
      "     author_id       name  document_count         affiliation affiliation_id\n",
      "0  57189222659  Zhiya Zuo               9  University of Iowa       60024324\n"
     ]
    }
   ],
   "source": [
    "print(author_result_df)"
   ]
  },
  {
   "cell_type": "markdown",
   "metadata": {},
   "source": [
    "Then we can retrieve more detailed info about the author we are looking for using his/her __author_id__:"
   ]
  },
  {
   "cell_type": "code",
   "execution_count": 15,
   "metadata": {
    "ExecuteTime": {
     "end_time": "2019-01-26T23:49:51.004625Z",
     "start_time": "2019-01-26T23:49:50.643137Z"
    }
   },
   "outputs": [],
   "source": [
    "zuo_info_dict = scopus.retrieve_author('57189222659')"
   ]
  },
  {
   "cell_type": "code",
   "execution_count": 16,
   "metadata": {
    "ExecuteTime": {
     "end_time": "2019-01-26T23:49:51.011367Z",
     "start_time": "2019-01-26T23:49:51.007100Z"
    },
    "scrolled": true
   },
   "outputs": [
    {
     "data": {
      "text/plain": [
       "dict_keys(['author-id', 'eid', 'document-count', 'cited-by-count', 'citation-count', 'name', 'last', 'first', 'indexed-name', 'publication-range', 'affiliation-current', 'journal-history', 'affiliation-history'])"
      ]
     },
     "execution_count": 16,
     "metadata": {},
     "output_type": "execute_result"
    }
   ],
   "source": [
    "zuo_info_dict.keys()"
   ]
  },
  {
   "cell_type": "code",
   "execution_count": 17,
   "metadata": {
    "ExecuteTime": {
     "end_time": "2019-01-26T23:49:51.025755Z",
     "start_time": "2019-01-26T23:49:51.013878Z"
    }
   },
   "outputs": [
    {
     "name": "stdout",
     "output_type": "stream",
     "text": [
      "University of Iowa\n",
      "University of Iowa, Interdisciplinary Graduate Program in Informatics\n",
      "China Academy of Chinese Medical Sciences, Data Center of TCM\n",
      "Tongji University, Department of Control Science and Engineering\n"
     ]
    }
   ],
   "source": [
    "print('\\n'.join(zuo_info_dict['affiliation-history'].name.values))"
   ]
  },
  {
   "cell_type": "markdown",
   "metadata": {},
   "source": [
    "#### Search for his publications explicitly"
   ]
  },
  {
   "cell_type": "code",
   "execution_count": 18,
   "metadata": {
    "ExecuteTime": {
     "end_time": "2019-01-26T23:49:51.601038Z",
     "start_time": "2019-01-26T23:49:51.028267Z"
    }
   },
   "outputs": [],
   "source": [
    "zuo_pub_df = scopus.search_author_publication('57189222659')"
   ]
  },
  {
   "cell_type": "code",
   "execution_count": 19,
   "metadata": {
    "ExecuteTime": {
     "end_time": "2019-01-26T23:49:51.624447Z",
     "start_time": "2019-01-26T23:49:51.603552Z"
    },
    "scrolled": true
   },
   "outputs": [
    {
     "data": {
      "text/html": [
       "<div>\n",
       "<style scoped>\n",
       "    .dataframe tbody tr th:only-of-type {\n",
       "        vertical-align: middle;\n",
       "    }\n",
       "\n",
       "    .dataframe tbody tr th {\n",
       "        vertical-align: top;\n",
       "    }\n",
       "\n",
       "    .dataframe thead th {\n",
       "        text-align: right;\n",
       "    }\n",
       "</style>\n",
       "<table border=\"1\" class=\"dataframe\">\n",
       "  <thead>\n",
       "    <tr style=\"text-align: right;\">\n",
       "      <th></th>\n",
       "      <th>title</th>\n",
       "      <th>cover_date</th>\n",
       "      <th>publication_name</th>\n",
       "      <th>scopus_id</th>\n",
       "    </tr>\n",
       "  </thead>\n",
       "  <tbody>\n",
       "    <tr>\n",
       "      <th>0</th>\n",
       "      <td>Subhealth state classification with AdaBoost l...</td>\n",
       "      <td>2013-01-01</td>\n",
       "      <td>International Journal of Functional Informatic...</td>\n",
       "      <td>84892146718</td>\n",
       "    </tr>\n",
       "    <tr>\n",
       "      <th>1</th>\n",
       "      <td>The evolution of user roles in online health c...</td>\n",
       "      <td>2015-01-01</td>\n",
       "      <td>Pacific Asia Conference on Information Systems...</td>\n",
       "      <td>85011032472</td>\n",
       "    </tr>\n",
       "    <tr>\n",
       "      <th>2</th>\n",
       "      <td>The evolution and diffusion of user roles in o...</td>\n",
       "      <td>2015-12-08</td>\n",
       "      <td>Proceedings - 2015 IEEE International Conferen...</td>\n",
       "      <td>84966453564</td>\n",
       "    </tr>\n",
       "    <tr>\n",
       "      <th>3</th>\n",
       "      <td>Investigating regional prejudice in China thro...</td>\n",
       "      <td>2016-01-01</td>\n",
       "      <td>Lecture Notes in Computer Science (including s...</td>\n",
       "      <td>84995379893</td>\n",
       "    </tr>\n",
       "    <tr>\n",
       "      <th>4</th>\n",
       "      <td>Systematic investigation of sex disparity in m...</td>\n",
       "      <td>2017-01-01</td>\n",
       "      <td>Proceedings of the Association for Information...</td>\n",
       "      <td>85040762441</td>\n",
       "    </tr>\n",
       "    <tr>\n",
       "      <th>5</th>\n",
       "      <td>Comparing of feature selection and classificat...</td>\n",
       "      <td>2017-01-17</td>\n",
       "      <td>Proceedings - 2016 IEEE International Conferen...</td>\n",
       "      <td>85013231650</td>\n",
       "    </tr>\n",
       "    <tr>\n",
       "      <th>6</th>\n",
       "      <td>The state and evolution of U.S. iSchools: From...</td>\n",
       "      <td>2017-05-01</td>\n",
       "      <td>Journal of the Association for Information Sci...</td>\n",
       "      <td>85004154180</td>\n",
       "    </tr>\n",
       "    <tr>\n",
       "      <th>7</th>\n",
       "      <td>A Graphical Model for Topical Impact over Time</td>\n",
       "      <td>2018-05-23</td>\n",
       "      <td>Proceedings of the ACM/IEEE Joint Conference o...</td>\n",
       "      <td>85048881340</td>\n",
       "    </tr>\n",
       "    <tr>\n",
       "      <th>8</th>\n",
       "      <td>The more multidisciplinary the better? - The p...</td>\n",
       "      <td>2018-08-01</td>\n",
       "      <td>Journal of Informetrics</td>\n",
       "      <td>85049552190</td>\n",
       "    </tr>\n",
       "  </tbody>\n",
       "</table>\n",
       "</div>"
      ],
      "text/plain": [
       "                                               title  cover_date  \\\n",
       "0  Subhealth state classification with AdaBoost l...  2013-01-01   \n",
       "1  The evolution of user roles in online health c...  2015-01-01   \n",
       "2  The evolution and diffusion of user roles in o...  2015-12-08   \n",
       "3  Investigating regional prejudice in China thro...  2016-01-01   \n",
       "4  Systematic investigation of sex disparity in m...  2017-01-01   \n",
       "5  Comparing of feature selection and classificat...  2017-01-17   \n",
       "6  The state and evolution of U.S. iSchools: From...  2017-05-01   \n",
       "7     A Graphical Model for Topical Impact over Time  2018-05-23   \n",
       "8  The more multidisciplinary the better? - The p...  2018-08-01   \n",
       "\n",
       "                                    publication_name    scopus_id  \n",
       "0  International Journal of Functional Informatic...  84892146718  \n",
       "1  Pacific Asia Conference on Information Systems...  85011032472  \n",
       "2  Proceedings - 2015 IEEE International Conferen...  84966453564  \n",
       "3  Lecture Notes in Computer Science (including s...  84995379893  \n",
       "4  Proceedings of the Association for Information...  85040762441  \n",
       "5  Proceedings - 2016 IEEE International Conferen...  85013231650  \n",
       "6  Journal of the Association for Information Sci...  85004154180  \n",
       "7  Proceedings of the ACM/IEEE Joint Conference o...  85048881340  \n",
       "8                            Journal of Informetrics  85049552190  "
      ]
     },
     "execution_count": 19,
     "metadata": {},
     "output_type": "execute_result"
    }
   ],
   "source": [
    "zuo_pub_df[['title', 'cover_date', 'publication_name', 'scopus_id']].sort_values('cover_date').reset_index(drop=True)"
   ]
  },
  {
   "cell_type": "markdown",
   "metadata": {},
   "source": [
    "---"
   ]
  },
  {
   "cell_type": "markdown",
   "metadata": {},
   "source": [
    "### Abstract retrieval"
   ]
  },
  {
   "cell_type": "markdown",
   "metadata": {},
   "source": [
    "If the 2nd argument `download_path` is not given, the JSON response would not be saved"
   ]
  },
  {
   "cell_type": "code",
   "execution_count": 20,
   "metadata": {
    "ExecuteTime": {
     "end_time": "2019-01-26T23:49:52.494776Z",
     "start_time": "2019-01-26T23:49:51.626963Z"
    }
   },
   "outputs": [],
   "source": [
    "pub_info = scopus.retrieve_abstract('85049552190', './')"
   ]
  },
  {
   "cell_type": "code",
   "execution_count": 21,
   "metadata": {
    "ExecuteTime": {
     "end_time": "2019-01-26T23:49:52.502633Z",
     "start_time": "2019-01-26T23:49:52.497520Z"
    }
   },
   "outputs": [
    {
     "data": {
      "text/plain": [
       "{'srctype': 'j',\n",
       " 'eid': '2-s2.0-85049552190',\n",
       " 'prism:coverDate': '2018-08-01',\n",
       " 'prism:aggregationType': 'Journal',\n",
       " 'prism:url': 'https://api.elsevier.com/content/abstract/scopus_id/85049552190',\n",
       " 'source-id': '5100155103',\n",
       " 'pii': 'S1751157718300452',\n",
       " 'citedby-count': '1',\n",
       " 'prism:volume': '12',\n",
       " 'subtype': 'ar',\n",
       " 'openaccess': '0',\n",
       " 'prism:issn': '18755879 17511577',\n",
       " 'prism:issueIdentifier': '3',\n",
       " 'subtypeDescription': 'Article',\n",
       " 'prism:publicationName': 'Journal of Informetrics',\n",
       " 'prism:pageRange': '736-756',\n",
       " 'prism:endingPage': '756',\n",
       " 'openaccessFlag': 'false',\n",
       " 'prism:doi': '10.1016/j.joi.2018.06.006',\n",
       " 'prism:startingPage': '736',\n",
       " 'dc:publisher': 'Elsevier Ltd',\n",
       " 'scopus-id': '85049552190',\n",
       " 'abstract': '© 2018 Elsevier Ltd. All rights reserved. Scientific research is increasingly relying on collaborations to address complex real-world problems. Many researchers, policymakers, and administrators consider a multidisciplinary environment an important factor for fostering research collaborations, especially interdisciplinary ones that involve researchers from different disciplines. However, it remains unknown whether a higher level of multidisciplinarity within an academic institution is associated with internal collaborations that are more prevalent and more interdisciplinary. Analyzing 90,000 publications by 2500 faculty members in over 100 academic institutions from three multidisciplinary areas, information, public policy, and neuroscience, we investigated the connection between multidisciplinarity and research collaborations. Based on social network analysis and text mining, our analysis suggests that more multidisciplinary institutions are not necessarily more collaborative, although they do feature collaborations that are more interdisciplinary. Our findings provide implications for academic administrators and policymakers to promote research collaborations and interdisciplinarity in academic institutions.',\n",
       " 'title': 'The more multidisciplinary the better? - The prevalence and interdisciplinarity of research collaborations in multidisciplinary institutions'}"
      ]
     },
     "execution_count": 21,
     "metadata": {},
     "output_type": "execute_result"
    }
   ],
   "source": [
    "pub_info"
   ]
  },
  {
   "cell_type": "code",
   "execution_count": 22,
   "metadata": {
    "ExecuteTime": {
     "end_time": "2019-01-26T23:49:52.789974Z",
     "start_time": "2019-01-26T23:49:52.505459Z"
    }
   },
   "outputs": [
    {
     "name": "stdout",
     "output_type": "stream",
     "text": [
      "{\"abstracts-retrieval-response\": {\"item\": {\"ait:process-info\": {\"ait:status\": {\"@state\": \"update\", \"@type\": \"core\", \"@stage\": \"S300\"}, \"ait:date-delivered\": {\"@day\": \"29\", \"@timestamp\": \"2018-09-29T21:25:59.000059-04:00\", \"@year\": \"2018\", \"@month\": \"09\"}, \"ait:date-sort\": {\"@day\": \"01\", \"@year\": \"2018\", \"@month\": \"08\"}}, \"xocs:meta\": {\"xocs:funding-list\": {\"@pui-match\": \"primary\", \"@has-funding-info\": \"1\", \"xocs:funding-addon-generated-timestamp\": \"2018-07-12T21:30:32.702Z\"}}, \"bibrecord\": {\"head\": {\"author-group\": {\"affiliation\": {\"country\": \"United States\", \"@afid\": \"60024324\", \"@country\": \"usa\", \"organization\": {\"$\": \"University of Iowa\"}, \"affiliation-id\": {\"@afid\": \"60024324\"}, \"@affiliation-instance-id\": \"S1751157718300452-767136c5842968c97d8ce9c2ef3b8b2b\"}, \"author\": [{\"ce:given-name\": \"Zhiya\", \"preferred-name\": {\"ce:given-name\": \"Zhiya\", \"ce:initials\": \"Z.\", \"ce:surname\": \"Zuo\", \"ce:indexed-name\": \"Zuo Z.\"}, \"@author-instance-id\": \"S1751157718300452-d600411a3d86bb2e0b1f62d25e5fdbfe\", \"@seq\": \"1\", \"ce:initials\": \"Z.\", \"@_fa\": \"true\", \"@type\": \"auth\", \"ce:surname\": \"Zuo\", \"@auid\": \"57189222659\", \"ce:indexed-name\": \"Zuo Z.\"}, {\"ce:given-name\": \"Kang\", \"preferred-name\": {\"ce:given-name\": \"Kang\", \"ce:initials\": \"K.\", \"ce:surname\": \"Zhao\", \"ce:indexed-name\": \"Zhao K.\"}, \"@author-instance-id\": \"S1751157718300452-e75be0984065383d100461426df26ae6\", \"@seq\": \"2\", \"ce:initials\": \"K.\", \"@_fa\": \"true\", \"@type\": \"auth\", \"ce:surname\": \"Zhao\", \"@auid\": \"36635367700\", \"ce:indexed-name\": \"Zhao K.\"}]}, \"citation-title\": \"The more multidisciplinary the better? - The prevalence and interdisciplinarity of research collaborations in multidisciplinary institutions\", \"abstracts\": \"\\u00a9 2018 Elsevier Ltd. All rights reserved. Scientific research is increasingly relying on collaborations to address complex real-world problems. Many researchers, policymakers, and administrators consider a multidisciplinary environment an important factor for fostering research collaborations, especially interdisciplinary ones that involve researchers from different disciplines. However, it remains unknown whether a higher level of multidisciplinarity within an academic institution is associated with internal collaborations that are more prevalent and more interdisciplinary. Analyzing 90,000 publications by 2500 faculty members in over 100 academic institutions from three multidisciplinary areas, information, public policy, and neuroscience, we investigated the connection between multidisciplinarity and research collaborations. Based on social network analysis and text mining, our analysis suggests that more multidisciplinary institutions are not necessarily more collaborative, although they do feature collaborations that are more interdisciplinary. Our findings provide implications for academic administrators and policymakers to promote research collaborations and interdisciplinarity in academic institutions.\", \"correspondence\": {\"affiliation\": {\"country\": \"United States\", \"@country\": \"usa\", \"organization\": {\"$\": \"University of Iowa\"}}, \"person\": {\"ce:given-name\": \"Kang\", \"ce:initials\": \"K.\", \"ce:surname\": \"Zhao\", \"ce:indexed-name\": \"Zhao K.\"}}, \"citation-info\": {\"author-keywords\": {\"author-keyword\": [{\"$\": \"Collaboration\", \"@xml:lang\": \"eng\"}, {\"$\": \"Interdisciplinarity\", \"@xml:lang\": \"eng\"}, {\"$\": \"Multidisciplinarity\", \"@xml:lang\": \"eng\"}, {\"$\": \"Network analysis\", \"@xml:lang\": \"eng\"}, {\"$\": \"Text mining\", \"@xml:lang\": \"eng\"}]}, \"citation-type\": {\"@code\": \"ar\"}, \"citation-language\": {\"@language\": \"English\", \"@xml:lang\": \"eng\"}, \"abstract-language\": {\"@language\": \"English\", \"@xml:lang\": \"eng\"}}, \"source\": {\"sourcetitle-abbrev\": \"J. Inf.\", \"website\": {\"ce:e-address\": {\"$\": \"http://www.journals.elsevier.com/journal-of-informetrics/\", \"@type\": \"email\"}}, \"@country\": \"gbr\", \"translated-sourcetitle\": {\"$\": \"Journal of Informetrics\", \"@xml:lang\": \"eng\"}, \"issn\": [{\"$\": \"18755879\", \"@type\": \"electronic\"}, {\"$\": \"17511577\", \"@type\": \"print\"}], \"volisspag\": {\"voliss\": {\"@volume\": \"12\", \"@issue\": \"3\"}, \"pagerange\": {\"@first\": \"736\", \"@last\": \"756\"}}, \"@type\": \"j\", \"publicationyear\": {\"@first\": \"2018\"}, \"publisher\": {\"publishername\": \"Elsevier Ltd\"}, \"sourcetitle\": \"Journal of Informetrics\", \"@srcid\": \"5100155103\", \"publicationdate\": {\"month\": \"08\", \"year\": \"2018\", \"date-text\": \"August 2018\", \"day\": \"01\"}}, \"enhancement\": {\"classificationgroup\": {\"classifications\": [{\"@type\": \"CPXCLASS\", \"classification\": [{\"classification-code\": \"703.1.1\", \"classification-description\": \"Electric Network Analysis\"}, {\"classification-code\": \"723.2\", \"classification-description\": \"Data Processing\"}, {\"classification-code\": \"723.5\", \"classification-description\": \"Computer Applications\"}]}, {\"@type\": \"FLXCLASS\", \"classification\": {\"classification-code\": \"902\", \"classification-description\": \"FLUIDEX; Related Topics\"}}, {\"@type\": \"ASJC\", \"classification\": [{\"$\": \"1706\"}, {\"$\": \"3309\"}]}, {\"@type\": \"SUBJABBR\", \"classification\": [{\"$\": \"COMP\"}, {\"$\": \"SOCI\"}]}]}}}, \"item-info\": {\"copyright\": {\"$\": \"Copyright 2018 Elsevier B.V., All rights reserved.\", \"@type\": \"Elsevier\"}, \"dbcollection\": [{\"$\": \"CPX\"}, {\"$\": \"REAXYSCAR\"}, {\"$\": \"SCOPUS\"}, {\"$\": \"Scopusbase\"}], \"history\": {\"date-created\": {\"@day\": \"12\", \"@timestamp\": \"BST 06:19:48\", \"@year\": \"2018\", \"@month\": \"07\"}}, \"itemidlist\": {\"itemid\": [{\"$\": \"622895862\", \"@idtype\": \"PUI\"}, {\"$\": \"911534263\", \"@idtype\": \"CAR-ID\"}, {\"$\": \"20182805532386\", \"@idtype\": \"CPX\"}, {\"$\": \"20181206345\", \"@idtype\": \"REAXYSCAR\"}, {\"$\": \"20182073350\", \"@idtype\": \"SCOPUS\"}, {\"$\": \"85049552190\", \"@idtype\": \"SCP\"}, {\"$\": \"85049552190\", \"@idtype\": \"SGR\"}], \"ce:pii\": \"S1751157718300452\", \"ce:doi\": \"10.1016/j.joi.2018.06.006\"}}, \"tail\": {\"bibliography\": {\"@refcount\": \"74\", \"reference\": [{\"ref-fulltext\": \"J. Adams Collaborations: The rise of research networks Nature 490 2012 335 336 10.1038/490335a\", \"@id\": \"1\", \"ref-info\": {\"ref-publicationyear\": {\"@first\": \"2012\"}, \"ref-title\": {\"ref-titletext\": \"Collaborations: The rise of research networks\"}, \"refd-itemidlist\": {\"itemid\": [{\"$\": \"10.1038/490335a\", \"@idtype\": \"DOI\"}, {\"$\": \"84867629361\", \"@idtype\": \"SGR\"}]}, \"ref-volisspag\": {\"voliss\": {\"@volume\": \"490\"}, \"pagerange\": {\"@first\": \"335\", \"@last\": \"336\"}}, \"ref-authors\": {\"author\": [{\"@seq\": \"1\", \"ce:initials\": \"J.\", \"@_fa\": \"true\", \"ce:surname\": \"Adams\", \"ce:indexed-name\": \"Adams J.\"}]}, \"ref-sourcetitle\": \"Nature\"}}, {\"ref-fulltext\": \"J. Adams, and R. Light Mapping interdisciplinary fields: Efficiencies, gaps and redundancies in HIV/AIDS research PLOS ONE 9 2014 10.1371/journal.pone.0115092\", \"@id\": \"2\", \"ref-info\": {\"ref-publicationyear\": {\"@first\": \"2014\"}, \"ref-title\": {\"ref-titletext\": \"Mapping interdisciplinary fields: Efficiencies, gaps and redundancies in HIV/AIDS research\"}, \"refd-itemidlist\": {\"itemid\": [{\"$\": \"10.1371/journal.pone.0115092\", \"@idtype\": \"DOI\"}, {\"$\": \"84918595138\", \"@idtype\": \"SGR\"}]}, \"ref-volisspag\": {\"voliss\": {\"@volume\": \"9\"}}, \"ref-authors\": {\"author\": [{\"@seq\": \"1\", \"ce:initials\": \"J.\", \"@_fa\": \"true\", \"ce:surname\": \"Adams\", \"ce:indexed-name\": \"Adams J.\"}, {\"@seq\": \"2\", \"ce:initials\": \"R.\", \"@_fa\": \"true\", \"ce:surname\": \"Light\", \"ce:indexed-name\": \"Light R.\"}]}, \"ref-sourcetitle\": \"PLOS ONE\"}}, {\"ref-fulltext\": \"D.P. Baker, R. Day, and E. Salas Teamwork as an essential component of high-reliability organizations Health Services Research 41 2006 1576 1598 10.1111/j.1475-6773.2006.00566.x arXiv:NIHMS150003\", \"@id\": \"3\", \"ref-info\": {\"ref-publicationyear\": {\"@first\": \"2006\"}, \"ref-title\": {\"ref-titletext\": \"Teamwork as an essential component of high-reliability organizations\"}, \"refd-itemidlist\": {\"itemid\": [{\"$\": \"10.1111/j.1475-6773.2006.00566.x\", \"@idtype\": \"DOI\"}, {\"$\": \"33746378614\", \"@idtype\": \"SGR\"}]}, \"ref-volisspag\": {\"voliss\": {\"@volume\": \"41\"}, \"pagerange\": {\"@first\": \"1576\", \"@last\": \"1598\"}}, \"ref-text\": \"arxiv:/arXiv:NIHMS150003\", \"ref-authors\": {\"author\": [{\"@seq\": \"1\", \"ce:initials\": \"D.P.\", \"@_fa\": \"true\", \"ce:surname\": \"Baker\", \"ce:indexed-name\": \"Baker D.P.\"}, {\"@seq\": \"2\", \"ce:initials\": \"R.\", \"@_fa\": \"true\", \"ce:surname\": \"Day\", \"ce:indexed-name\": \"Day R.\"}, {\"@seq\": \"3\", \"ce:initials\": \"E.\", \"@_fa\": \"true\", \"ce:surname\": \"Salas\", \"ce:indexed-name\": \"Salas E.\"}]}, \"ref-sourcetitle\": \"Health Services Research\"}}, {\"ref-fulltext\": \"D.M. Blei, A.Y. Ng, and M.I. Jordan Latent Dirichlet allocation Journal of Machine Learning Research 3 2003 993 1022 arXiv:1111.6189v1\", \"@id\": \"4\", \"ref-info\": {\"ref-publicationyear\": {\"@first\": \"2003\"}, \"ref-title\": {\"ref-titletext\": \"Latent Dirichlet allocation\"}, \"refd-itemidlist\": {\"itemid\": {\"$\": \"0141607824\", \"@idtype\": \"SGR\"}}, \"ref-volisspag\": {\"voliss\": {\"@volume\": \"3\"}, \"pagerange\": {\"@first\": \"993\", \"@last\": \"1022\"}}, \"ref-text\": \"arxiv:/arXiv:1111.6189v1\", \"ref-authors\": {\"author\": [{\"@seq\": \"1\", \"ce:initials\": \"D.M.\", \"@_fa\": \"true\", \"ce:surname\": \"Blei\", \"ce:indexed-name\": \"Blei D.M.\"}, {\"@seq\": \"2\", \"ce:initials\": \"A.Y.\", \"@_fa\": \"true\", \"ce:surname\": \"Ng\", \"ce:indexed-name\": \"Ng A.Y.\"}, {\"@seq\": \"3\", \"ce:initials\": \"M.I.\", \"@_fa\": \"true\", \"ce:surname\": \"Jordan\", \"ce:indexed-name\": \"Jordan M.I.\"}]}, \"ref-sourcetitle\": \"Journal of Machine Learning Research\"}}, {\"ref-fulltext\": \"M. Bordons, M.A. Zulueta, F. Romero, and S. Barrig\\u00f3n Measuring interdisciplinary collaboration within a university: The effects of the multidisciplinary research programme Scientometrics 46 1999 383 398 10.1007/BF02459599\", \"@id\": \"5\", \"ref-info\": {\"ref-publicationyear\": {\"@first\": \"1999\"}, \"ref-title\": {\"ref-titletext\": \"Measuring interdisciplinary collaboration within a university: The effects of the multidisciplinary research programme\"}, \"refd-itemidlist\": {\"itemid\": [{\"$\": \"10.1007/BF02459599\", \"@idtype\": \"DOI\"}, {\"$\": \"0000172425\", \"@idtype\": \"SGR\"}]}, \"ref-volisspag\": {\"voliss\": {\"@volume\": \"46\"}, \"pagerange\": {\"@first\": \"383\", \"@last\": \"398\"}}, \"ref-authors\": {\"author\": [{\"@seq\": \"1\", \"ce:initials\": \"M.\", \"@_fa\": \"true\", \"ce:surname\": \"Bordons\", \"ce:indexed-name\": \"Bordons M.\"}, {\"@seq\": \"2\", \"ce:initials\": \"M.A.\", \"@_fa\": \"true\", \"ce:surname\": \"Zulueta\", \"ce:indexed-name\": \"Zulueta M.A.\"}, {\"@seq\": \"3\", \"ce:initials\": \"F.\", \"@_fa\": \"true\", \"ce:surname\": \"Romero\", \"ce:indexed-name\": \"Romero F.\"}, {\"@seq\": \"4\", \"ce:initials\": \"S.\", \"@_fa\": \"true\", \"ce:surname\": \"Barrig\\u00f3n\", \"ce:indexed-name\": \"Barrigon S.\"}]}, \"ref-sourcetitle\": \"Scientometrics\"}}, {\"ref-fulltext\": \"Y. Bu, Y. Ding, X. Liang, and D.S. Murray Understanding persistent scientific collaboration Journal of the Association for Information Science and Technology 2017 10.1002/asi.23966\", \"@id\": \"6\", \"ref-info\": {\"ref-publicationyear\": {\"@first\": \"2017\"}, \"ref-title\": {\"ref-titletext\": \"Understanding persistent scientific collaboration\"}, \"refd-itemidlist\": {\"itemid\": [{\"$\": \"10.1002/asi.23966\", \"@idtype\": \"DOI\"}, {\"$\": \"85042010452\", \"@idtype\": \"SGR\"}]}, \"ref-authors\": {\"author\": [{\"@seq\": \"1\", \"ce:initials\": \"Y.\", \"@_fa\": \"true\", \"ce:surname\": \"Bu\", \"ce:indexed-name\": \"Bu Y.\"}, {\"@seq\": \"2\", \"ce:initials\": \"Y.\", \"@_fa\": \"true\", \"ce:surname\": \"Ding\", \"ce:indexed-name\": \"Ding Y.\"}, {\"@seq\": \"3\", \"ce:initials\": \"X.\", \"@_fa\": \"true\", \"ce:surname\": \"Liang\", \"ce:indexed-name\": \"Liang X.\"}, {\"@seq\": \"4\", \"ce:initials\": \"D.S.\", \"@_fa\": \"true\", \"ce:surname\": \"Murray\", \"ce:indexed-name\": \"Murray D.S.\"}]}, \"ref-sourcetitle\": \"Journal of the Association for Information Science and Technology\"}}, {\"ref-fulltext\": \"Y. Bu, Y. Ding, J. Xu, X. Liang, G. Gao, and Y. Zhao Understanding success through the diversity of collaborators and the milestone of career Journal of the Association for Information Science and Technology 69 2018 87 97 10.1002/asi.23911\", \"@id\": \"7\", \"ref-info\": {\"ref-publicationyear\": {\"@first\": \"2018\"}, \"ref-title\": {\"ref-titletext\": \"Understanding success through the diversity of collaborators and the milestone of career\"}, \"refd-itemidlist\": {\"itemid\": [{\"$\": \"10.1002/asi.23911\", \"@idtype\": \"DOI\"}, {\"$\": \"85030177971\", \"@idtype\": \"SGR\"}]}, \"ref-volisspag\": {\"voliss\": {\"@volume\": \"69\"}, \"pagerange\": {\"@first\": \"87\", \"@last\": \"97\"}}, \"ref-authors\": {\"author\": [{\"@seq\": \"1\", \"ce:initials\": \"Y.\", \"@_fa\": \"true\", \"ce:surname\": \"Bu\", \"ce:indexed-name\": \"Bu Y.\"}, {\"@seq\": \"2\", \"ce:initials\": \"Y.\", \"@_fa\": \"true\", \"ce:surname\": \"Ding\", \"ce:indexed-name\": \"Ding Y.\"}, {\"@seq\": \"3\", \"ce:initials\": \"J.\", \"@_fa\": \"true\", \"ce:surname\": \"Xu\", \"ce:indexed-name\": \"Xu J.\"}, {\"@seq\": \"4\", \"ce:initials\": \"X.\", \"@_fa\": \"true\", \"ce:surname\": \"Liang\", \"ce:indexed-name\": \"Liang X.\"}, {\"@seq\": \"5\", \"ce:initials\": \"G.\", \"@_fa\": \"true\", \"ce:surname\": \"Gao\", \"ce:indexed-name\": \"Gao G.\"}, {\"@seq\": \"6\", \"ce:initials\": \"Y.\", \"@_fa\": \"true\", \"ce:surname\": \"Zhao\", \"ce:indexed-name\": \"Zhao Y.\"}]}, \"ref-sourcetitle\": \"Journal of the Association for Information Science and Technology\"}}, {\"ref-fulltext\": \"A. Clauset, S. Arbesman, and D.B. Larremore Systematic inequality and hierarchy in faculty hiring networks Science Advances 1 2015 e1400005 10.1126/sciadv.1400005\", \"@id\": \"8\", \"ref-info\": {\"ref-publicationyear\": {\"@first\": \"2015\"}, \"ref-title\": {\"ref-titletext\": \"Systematic inequality and hierarchy in faculty hiring networks\"}, \"refd-itemidlist\": {\"itemid\": [{\"$\": \"10.1126/sciadv.1400005\", \"@idtype\": \"DOI\"}, {\"$\": \"85011423303\", \"@idtype\": \"SGR\"}]}, \"ref-volisspag\": {\"voliss\": {\"@volume\": \"1\"}, \"pagerange\": {\"@first\": \"e1400005\"}}, \"ref-authors\": {\"author\": [{\"@seq\": \"1\", \"ce:initials\": \"A.\", \"@_fa\": \"true\", \"ce:surname\": \"Clauset\", \"ce:indexed-name\": \"Clauset A.\"}, {\"@seq\": \"2\", \"ce:initials\": \"S.\", \"@_fa\": \"true\", \"ce:surname\": \"Arbesman\", \"ce:indexed-name\": \"Arbesman S.\"}, {\"@seq\": \"3\", \"ce:initials\": \"D.B.\", \"@_fa\": \"true\", \"ce:surname\": \"Larremore\", \"ce:indexed-name\": \"Larremore D.B.\"}]}, \"ref-sourcetitle\": \"Science Advances\"}}, {\"ref-fulltext\": \"A. Clauset, D.B. Larremore, and R. Sinatra Data-driven predictions in the science of science Science 355 2017 477 480 10.1126/science.aal4217\", \"@id\": \"9\", \"ref-info\": {\"ref-publicationyear\": {\"@first\": \"2017\"}, \"ref-title\": {\"ref-titletext\": \"Data-driven predictions in the science of science\"}, \"refd-itemidlist\": {\"itemid\": [{\"$\": \"10.1126/science.aal4217\", \"@idtype\": \"DOI\"}, {\"$\": \"85011324273\", \"@idtype\": \"SGR\"}]}, \"ref-volisspag\": {\"voliss\": {\"@volume\": \"355\"}, \"pagerange\": {\"@first\": \"477\", \"@last\": \"480\"}}, \"ref-authors\": {\"author\": [{\"@seq\": \"1\", \"ce:initials\": \"A.\", \"@_fa\": \"true\", \"ce:surname\": \"Clauset\", \"ce:indexed-name\": \"Clauset A.\"}, {\"@seq\": \"2\", \"ce:initials\": \"D.B.\", \"@_fa\": \"true\", \"ce:surname\": \"Larremore\", \"ce:indexed-name\": \"Larremore D.B.\"}, {\"@seq\": \"3\", \"ce:initials\": \"R.\", \"@_fa\": \"true\", \"ce:surname\": \"Sinatra\", \"ce:indexed-name\": \"Sinatra R.\"}]}, \"ref-sourcetitle\": \"Science\"}}, {\"ref-fulltext\": \"W.S. Cleveland Robust locally weighted regression and smoothing scatterplots Journal of the American Statistical Association 74 1979 829 836 10.1080/01621459.1979.10481038\", \"@id\": \"10\", \"ref-info\": {\"ref-publicationyear\": {\"@first\": \"1979\"}, \"ref-title\": {\"ref-titletext\": \"Robust locally weighted regression and smoothing scatterplots\"}, \"refd-itemidlist\": {\"itemid\": [{\"$\": \"10.1080/01621459.1979.10481038\", \"@idtype\": \"DOI\"}, {\"$\": \"84936916896\", \"@idtype\": \"SGR\"}]}, \"ref-volisspag\": {\"voliss\": {\"@volume\": \"74\"}, \"pagerange\": {\"@first\": \"829\", \"@last\": \"836\"}}, \"ref-authors\": {\"author\": [{\"@seq\": \"1\", \"ce:initials\": \"W.S.\", \"@_fa\": \"true\", \"ce:surname\": \"Cleveland\", \"ce:indexed-name\": \"Cleveland W.S.\"}]}, \"ref-sourcetitle\": \"Journal of the American Statistical Association\"}}, {\"ref-fulltext\": \"J.N. Cummings, and S. Kiesler Collaborative research across disciplinary and organizational boundaries Social Studies of Science 35 2005 703 722 10.1177/0306312705055535\", \"@id\": \"11\", \"ref-info\": {\"ref-publicationyear\": {\"@first\": \"2005\"}, \"ref-title\": {\"ref-titletext\": \"Collaborative research across disciplinary and organizational boundaries\"}, \"refd-itemidlist\": {\"itemid\": [{\"$\": \"10.1177/0306312705055535\", \"@idtype\": \"DOI\"}, {\"$\": \"27144529618\", \"@idtype\": \"SGR\"}]}, \"ref-volisspag\": {\"voliss\": {\"@volume\": \"35\"}, \"pagerange\": {\"@first\": \"703\", \"@last\": \"722\"}}, \"ref-authors\": {\"author\": [{\"@seq\": \"1\", \"ce:initials\": \"J.N.\", \"@_fa\": \"true\", \"ce:surname\": \"Cummings\", \"ce:indexed-name\": \"Cummings J.N.\"}, {\"@seq\": \"2\", \"ce:initials\": \"S.\", \"@_fa\": \"true\", \"ce:surname\": \"Kiesler\", \"ce:indexed-name\": \"Kiesler S.\"}]}, \"ref-sourcetitle\": \"Social Studies of Science\"}}, {\"ref-fulltext\": \"J.N. Cummings, and S. Kiesler Who collaborates successfully? Proceedings of the ACM 2008 conference on computer supported cooperative work - CSCW '08 2008 ACM Press New York, New York, USA 437 10.1145/1460563.1460633\", \"@id\": \"12\", \"ref-info\": {\"ref-publicationyear\": {\"@first\": \"2008\"}, \"ref-title\": {\"ref-titletext\": \"Who collaborates successfully?\"}, \"refd-itemidlist\": {\"itemid\": [{\"$\": \"10.1145/1460563.1460633\", \"@idtype\": \"DOI\"}, {\"$\": \"77950831805\", \"@idtype\": \"SGR\"}]}, \"ref-volisspag\": {\"pagerange\": {\"@first\": \"437\"}}, \"ref-text\": \"ACM Press New York, New York, USA\", \"ref-authors\": {\"author\": [{\"@seq\": \"1\", \"ce:initials\": \"J.N.\", \"@_fa\": \"true\", \"ce:surname\": \"Cummings\", \"ce:indexed-name\": \"Cummings J.N.\"}, {\"@seq\": \"2\", \"ce:initials\": \"S.\", \"@_fa\": \"true\", \"ce:surname\": \"Kiesler\", \"ce:indexed-name\": \"Kiesler S.\"}]}, \"ref-sourcetitle\": \"Proceedings of the ACM 2008 Conference on Computer Supported Cooperative Work - CSCW '08\"}}, {\"ref-fulltext\": \"C.R. De Abreu Dos Reis, M.\\u00c1. Sastre Castillo, and S. Roig Dob\\u00f3n Diversity and business performance: 50 years of research Service Business 1 2007 257 274 10.1007/s11628-007-0022-2\", \"@id\": \"13\", \"ref-info\": {\"ref-publicationyear\": {\"@first\": \"2007\"}, \"ref-title\": {\"ref-titletext\": \"Diversity and business performance: 50 years of research\"}, \"refd-itemidlist\": {\"itemid\": [{\"$\": \"10.1007/s11628-007-0022-2\", \"@idtype\": \"DOI\"}, {\"$\": \"35448956425\", \"@idtype\": \"SGR\"}]}, \"ref-volisspag\": {\"voliss\": {\"@volume\": \"1\"}, \"pagerange\": {\"@first\": \"257\", \"@last\": \"274\"}}, \"ref-authors\": {\"author\": [{\"@seq\": \"1\", \"ce:initials\": \"C.R.\", \"@_fa\": \"true\", \"ce:surname\": \"De Abreu Dos Reis\", \"ce:indexed-name\": \"De Abreu Dos Reis C.R.\"}, {\"@seq\": \"2\", \"ce:initials\": \"M.\\u00c1.\", \"@_fa\": \"true\", \"ce:surname\": \"Sastre Castillo\", \"ce:indexed-name\": \"Sastre Castillo M.A.\"}, {\"@seq\": \"3\", \"ce:initials\": \"S.\", \"@_fa\": \"true\", \"ce:surname\": \"Roig Dob\\u00f3n\", \"ce:indexed-name\": \"Roig Dobon S.\"}]}, \"ref-sourcetitle\": \"Service Business\"}}, {\"ref-fulltext\": \"E.G. Derrick, H.J. Falk-Krzesinski, M.R. Roberts, and S. Olson Facilitating interdisciplinary research and education: A practical guide 2012 http://www.aaas.org/cspsp/interdisciplinary/guide/\", \"@id\": \"14\", \"ref-info\": {\"ref-publicationyear\": {\"@first\": \"2012\"}, \"ref-website\": {\"ce:e-address\": {\"$\": \"http://www.aaas.org/cspsp/interdisciplinary/guide/\", \"@type\": \"email\"}}, \"refd-itemidlist\": {\"itemid\": {\"$\": \"84878785232\", \"@idtype\": \"SGR\"}}, \"ref-authors\": {\"author\": [{\"@seq\": \"1\", \"ce:initials\": \"E.G.\", \"@_fa\": \"true\", \"ce:surname\": \"Derrick\", \"ce:indexed-name\": \"Derrick E.G.\"}, {\"@seq\": \"2\", \"ce:initials\": \"H.J.\", \"@_fa\": \"true\", \"ce:surname\": \"Falk-Krzesinski\", \"ce:indexed-name\": \"Falk-Krzesinski H.J.\"}, {\"@seq\": \"3\", \"ce:initials\": \"M.R.\", \"@_fa\": \"true\", \"ce:surname\": \"Roberts\", \"ce:indexed-name\": \"Roberts M.R.\"}, {\"@seq\": \"4\", \"ce:initials\": \"S.\", \"@_fa\": \"true\", \"ce:surname\": \"Olson\", \"ce:indexed-name\": \"Olson S.\"}]}, \"ref-sourcetitle\": \"Facilitating Interdisciplinary Research and Education: A Practical Guide\"}}, {\"ref-fulltext\": \"M.L. Disis, and J.T. Slattery The road we must take: Multidisciplinary team science Science Translational Medicine 2 2010 22cm9 10.1126/scitranslmed.3000421\", \"@id\": \"15\", \"ref-info\": {\"ref-publicationyear\": {\"@first\": \"2010\"}, \"ref-title\": {\"ref-titletext\": \"The road we must take: Multidisciplinary team science\"}, \"refd-itemidlist\": {\"itemid\": [{\"$\": \"10.1126/scitranslmed.3000421\", \"@idtype\": \"DOI\"}, {\"$\": \"77953018839\", \"@idtype\": \"SGR\"}]}, \"ref-volisspag\": {\"voliss\": {\"@volume\": \"2\"}, \"pagerange\": {\"@first\": \"22cm9\"}}, \"ref-authors\": {\"author\": [{\"@seq\": \"1\", \"ce:initials\": \"M.L.\", \"@_fa\": \"true\", \"ce:surname\": \"Disis\", \"ce:indexed-name\": \"Disis M.L.\"}, {\"@seq\": \"2\", \"ce:initials\": \"J.T.\", \"@_fa\": \"true\", \"ce:surname\": \"Slattery\", \"ce:indexed-name\": \"Slattery J.T.\"}]}, \"ref-sourcetitle\": \"Science Translational Medicine\"}}, {\"ref-fulltext\": \"Y. Dong, H. Ma, Z. Shen, and K. Wang A century of science Proceedings of the 23rd ACM SIGKDD international conference on knowledge discovery and data mining - KDD '17 2017 ACM Press New York, New York, USA 1437 1446 10.1145/3097983.3098016 arXiv:1704.05150\", \"@id\": \"16\", \"ref-info\": {\"ref-publicationyear\": {\"@first\": \"2017\"}, \"ref-title\": {\"ref-titletext\": \"A century of science\"}, \"refd-itemidlist\": {\"itemid\": [{\"$\": \"10.1145/3097983.3098016\", \"@idtype\": \"DOI\"}, {\"$\": \"85029087006\", \"@idtype\": \"SGR\"}]}, \"ref-volisspag\": {\"pagerange\": {\"@first\": \"1437\", \"@last\": \"1446\"}}, \"ref-text\": \"arxiv:/arXiv:1704.05150 ACM Press New York, New York, USA\", \"ref-authors\": {\"author\": [{\"@seq\": \"1\", \"ce:initials\": \"Y.\", \"@_fa\": \"true\", \"ce:surname\": \"Dong\", \"ce:indexed-name\": \"Dong Y.\"}, {\"@seq\": \"2\", \"ce:initials\": \"H.\", \"@_fa\": \"true\", \"ce:surname\": \"Ma\", \"ce:indexed-name\": \"Ma H.\"}, {\"@seq\": \"3\", \"ce:initials\": \"Z.\", \"@_fa\": \"true\", \"ce:surname\": \"Shen\", \"ce:indexed-name\": \"Shen Z.\"}, {\"@seq\": \"4\", \"ce:initials\": \"K.\", \"@_fa\": \"true\", \"ce:surname\": \"Wang\", \"ce:indexed-name\": \"Wang K.\"}]}, \"ref-sourcetitle\": \"Proceedings of the 23rd ACM SIGKDD International Conference on Knowledge Discovery and Data Mining - KDD '17\"}}, {\"ref-fulltext\": \"N.L. Erhardt, J.D. Werbel, and C.B. Shrader Board of director diversity and firm financial performance Corporate Governance 11 2003 102 111 10.1111/1467-8683.00011\", \"@id\": \"17\", \"ref-info\": {\"ref-publicationyear\": {\"@first\": \"2003\"}, \"ref-title\": {\"ref-titletext\": \"Board of director diversity and firm financial performance\"}, \"refd-itemidlist\": {\"itemid\": [{\"$\": \"10.1111/1467-8683.00011\", \"@idtype\": \"DOI\"}, {\"$\": \"0041473412\", \"@idtype\": \"SGR\"}]}, \"ref-volisspag\": {\"voliss\": {\"@volume\": \"11\"}, \"pagerange\": {\"@first\": \"102\", \"@last\": \"111\"}}, \"ref-authors\": {\"author\": [{\"@seq\": \"1\", \"ce:initials\": \"N.L.\", \"@_fa\": \"true\", \"ce:surname\": \"Erhardt\", \"ce:indexed-name\": \"Erhardt N.L.\"}, {\"@seq\": \"2\", \"ce:initials\": \"J.D.\", \"@_fa\": \"true\", \"ce:surname\": \"Werbel\", \"ce:indexed-name\": \"Werbel J.D.\"}, {\"@seq\": \"3\", \"ce:initials\": \"C.B.\", \"@_fa\": \"true\", \"ce:surname\": \"Shrader\", \"ce:indexed-name\": \"Shrader C.B.\"}]}, \"ref-sourcetitle\": \"Corporate Governance\"}}, {\"ref-fulltext\": \"B. Gibbons Celebrating diversity in organizations: An analysis of workplace initiatives International Journal of Knowledge, Culture and Change Management 9 2010 27 37\", \"@id\": \"18\", \"ref-info\": {\"ref-publicationyear\": {\"@first\": \"2010\"}, \"ref-title\": {\"ref-titletext\": \"Celebrating diversity in organizations: An analysis of workplace initiatives\"}, \"refd-itemidlist\": {\"itemid\": {\"$\": \"77749274150\", \"@idtype\": \"SGR\"}}, \"ref-volisspag\": {\"voliss\": {\"@volume\": \"9\"}, \"pagerange\": {\"@first\": \"27\", \"@last\": \"37\"}}, \"ref-authors\": {\"author\": [{\"@seq\": \"1\", \"ce:initials\": \"B.\", \"@_fa\": \"true\", \"ce:surname\": \"Gibbons\", \"ce:indexed-name\": \"Gibbons B.\"}]}, \"ref-sourcetitle\": \"International Journal of Knowledge, Culture and Change Management\"}}, {\"ref-fulltext\": \"M. Gowanlock, and R. Gazan Assessing researcher interdisciplinarity: A case study of the University of Hawaii NASA Astrobiology Institute Scientometrics 94 2013 133 161 10.1007/s11192-012-0765-y arXiv:1204.5563\", \"@id\": \"19\", \"ref-info\": {\"ref-publicationyear\": {\"@first\": \"2013\"}, \"ref-title\": {\"ref-titletext\": \"Assessing researcher interdisciplinarity: A case study of the University of Hawaii NASA Astrobiology Institute\"}, \"refd-itemidlist\": {\"itemid\": [{\"$\": \"10.1007/s11192-012-0765-y\", \"@idtype\": \"DOI\"}, {\"$\": \"84871865561\", \"@idtype\": \"SGR\"}]}, \"ref-volisspag\": {\"voliss\": {\"@volume\": \"94\"}, \"pagerange\": {\"@first\": \"133\", \"@last\": \"161\"}}, \"ref-text\": \"arxiv:/arXiv:1204.5563\", \"ref-authors\": {\"author\": [{\"@seq\": \"1\", \"ce:initials\": \"M.\", \"@_fa\": \"true\", \"ce:surname\": \"Gowanlock\", \"ce:indexed-name\": \"Gowanlock M.\"}, {\"@seq\": \"2\", \"ce:initials\": \"R.\", \"@_fa\": \"true\", \"ce:surname\": \"Gazan\", \"ce:indexed-name\": \"Gazan R.\"}]}, \"ref-sourcetitle\": \"Scientometrics\"}}, {\"ref-fulltext\": \"T.L. Griffiths, and M. Steyvers Finding scientific topics Proceedings of the National Academy of Sciences 101 2004 5228 5235\", \"@id\": \"20\", \"ref-info\": {\"ref-publicationyear\": {\"@first\": \"2004\"}, \"ref-title\": {\"ref-titletext\": \"Finding scientific topics\"}, \"refd-itemidlist\": {\"itemid\": {\"$\": \"1842788824\", \"@idtype\": \"SGR\"}}, \"ref-volisspag\": {\"voliss\": {\"@volume\": \"101\"}, \"pagerange\": {\"@first\": \"5228\", \"@last\": \"5235\"}}, \"ref-authors\": {\"author\": [{\"@seq\": \"1\", \"ce:initials\": \"T.L.\", \"@_fa\": \"true\", \"ce:surname\": \"Griffiths\", \"ce:indexed-name\": \"Griffiths T.L.\"}, {\"@seq\": \"2\", \"ce:initials\": \"M.\", \"@_fa\": \"true\", \"ce:surname\": \"Steyvers\", \"ce:indexed-name\": \"Steyvers M.\"}]}, \"ref-sourcetitle\": \"Proceedings of the National Academy of Sciences\"}}, {\"ref-fulltext\": \"D.A. Harrison, K.H. Price, J.H. Gavin, and A.T. Florey Time, teams, and task performance: Changing effects of surface- and deep-level diversity on group functioning Academy of Management Journal 45 2002 1029 1045 10.2307/3069328\", \"@id\": \"21\", \"ref-info\": {\"ref-publicationyear\": {\"@first\": \"2002\"}, \"ref-title\": {\"ref-titletext\": \"Time, teams, and task performance: Changing effects of surface- and deep-level diversity on group functioning\"}, \"refd-itemidlist\": {\"itemid\": [{\"$\": \"10.2307/3069328\", \"@idtype\": \"DOI\"}, {\"$\": \"0036811882\", \"@idtype\": \"SGR\"}]}, \"ref-volisspag\": {\"voliss\": {\"@volume\": \"45\"}, \"pagerange\": {\"@first\": \"1029\", \"@last\": \"1045\"}}, \"ref-authors\": {\"author\": [{\"@seq\": \"1\", \"ce:initials\": \"D.A.\", \"@_fa\": \"true\", \"ce:surname\": \"Harrison\", \"ce:indexed-name\": \"Harrison D.A.\"}, {\"@seq\": \"2\", \"ce:initials\": \"K.H.\", \"@_fa\": \"true\", \"ce:surname\": \"Price\", \"ce:indexed-name\": \"Price K.H.\"}, {\"@seq\": \"3\", \"ce:initials\": \"J.H.\", \"@_fa\": \"true\", \"ce:surname\": \"Gavin\", \"ce:indexed-name\": \"Gavin J.H.\"}, {\"@seq\": \"4\", \"ce:initials\": \"A.T.\", \"@_fa\": \"true\", \"ce:surname\": \"Florey\", \"ce:indexed-name\": \"Florey A.T.\"}]}, \"ref-sourcetitle\": \"Academy of Management Journal\"}}, {\"ref-fulltext\": \"Z.-L. He, X.-S. Geng, and C. Campbell-Hunt Research collaboration and research output: A longitudinal study of 65 biomedical scientists in a New Zealand University Research Policy 38 2009 306 317 10.1016/j.respol.2008.11.011\", \"@id\": \"22\", \"ref-info\": {\"ref-publicationyear\": {\"@first\": \"2009\"}, \"ref-title\": {\"ref-titletext\": \"Research collaboration and research output: A longitudinal study of 65 biomedical scientists in a New Zealand University\"}, \"refd-itemidlist\": {\"itemid\": [{\"$\": \"10.1016/j.respol.2008.11.011\", \"@idtype\": \"DOI\"}, {\"$\": \"59649121877\", \"@idtype\": \"SGR\"}]}, \"ref-volisspag\": {\"voliss\": {\"@volume\": \"38\"}, \"pagerange\": {\"@first\": \"306\", \"@last\": \"317\"}}, \"ref-authors\": {\"author\": [{\"@seq\": \"1\", \"ce:initials\": \"Z.-L.\", \"@_fa\": \"true\", \"ce:surname\": \"He\", \"ce:indexed-name\": \"He Z.-L.\"}, {\"@seq\": \"2\", \"ce:initials\": \"X.-S.\", \"@_fa\": \"true\", \"ce:surname\": \"Geng\", \"ce:indexed-name\": \"Geng X.-S.\"}, {\"@seq\": \"3\", \"ce:initials\": \"C.\", \"@_fa\": \"true\", \"ce:surname\": \"Campbell-Hunt\", \"ce:indexed-name\": \"Campbell-Hunt C.\"}]}, \"ref-sourcetitle\": \"Research Policy\"}}, {\"ref-fulltext\": \"Indiana University Center for Postsecondary Research The Carnegie Classification of Institutions of Higher Education 2015th ed. 2015 Bloomington\", \"@id\": \"23\", \"ref-info\": {\"ref-publicationyear\": {\"@first\": \"2015\"}, \"refd-itemidlist\": {\"itemid\": {\"$\": \"1842693969\", \"@idtype\": \"SGR\"}}, \"ref-text\": \"Indiana University Center for Postsecondary Research 2015th ed. Bloomington\", \"ref-sourcetitle\": \"The Carnegie Classification of Institutions of Higher Education\"}}, {\"ref-fulltext\": \"S.E. Jackson, A. Joshi, and N.L. Erhardt Recent research on team and organizational diversity: SWOT analysis and implications Journal of Management 29 2003 801 830 10.1016/S0149-2063-03-00080-1\", \"@id\": \"24\", \"ref-info\": {\"ref-publicationyear\": {\"@first\": \"2003\"}, \"ref-title\": {\"ref-titletext\": \"Recent research on team and organizational diversity: SWOT analysis and implications\"}, \"refd-itemidlist\": {\"itemid\": [{\"$\": \"10.1016/S0149-2063_03_00080-1\", \"@idtype\": \"DOI\"}, {\"$\": \"0344441838\", \"@idtype\": \"SGR\"}]}, \"ref-volisspag\": {\"voliss\": {\"@volume\": \"29\"}, \"pagerange\": {\"@first\": \"801\", \"@last\": \"830\"}}, \"ref-authors\": {\"author\": [{\"@seq\": \"1\", \"ce:initials\": \"S.E.\", \"@_fa\": \"true\", \"ce:surname\": \"Jackson\", \"ce:indexed-name\": \"Jackson S.E.\"}, {\"@seq\": \"2\", \"ce:initials\": \"A.\", \"@_fa\": \"true\", \"ce:surname\": \"Joshi\", \"ce:indexed-name\": \"Joshi A.\"}, {\"@seq\": \"3\", \"ce:initials\": \"N.L.\", \"@_fa\": \"true\", \"ce:surname\": \"Erhardt\", \"ce:indexed-name\": \"Erhardt N.L.\"}]}, \"ref-sourcetitle\": \"Journal of Management\"}}, {\"ref-fulltext\": \"B.F. Jones, S. Wuchty, and B. Uzzi Multi-University research teams: Shifting impact, geography, and stratification in science Science 322 2008 1259 1262 10.1126/science.1158357\", \"@id\": \"25\", \"ref-info\": {\"ref-publicationyear\": {\"@first\": \"2008\"}, \"ref-title\": {\"ref-titletext\": \"Multi-University research teams: Shifting impact, geography, and stratification in science\"}, \"refd-itemidlist\": {\"itemid\": [{\"$\": \"10.1126/science.1158357\", \"@idtype\": \"DOI\"}, {\"$\": \"56749181456\", \"@idtype\": \"SGR\"}]}, \"ref-volisspag\": {\"voliss\": {\"@volume\": \"322\"}, \"pagerange\": {\"@first\": \"1259\", \"@last\": \"1262\"}}, \"ref-authors\": {\"author\": [{\"@seq\": \"1\", \"ce:initials\": \"B.F.\", \"@_fa\": \"true\", \"ce:surname\": \"Jones\", \"ce:indexed-name\": \"Jones B.F.\"}, {\"@seq\": \"2\", \"ce:initials\": \"S.\", \"@_fa\": \"true\", \"ce:surname\": \"Wuchty\", \"ce:indexed-name\": \"Wuchty S.\"}, {\"@seq\": \"3\", \"ce:initials\": \"B.\", \"@_fa\": \"true\", \"ce:surname\": \"Uzzi\", \"ce:indexed-name\": \"Uzzi B.\"}]}, \"ref-sourcetitle\": \"Science\"}}, {\"ref-fulltext\": \"J. Katz, and B.R. Martin What is research collaboration? Research Policy 26 1997 1 18 10.1016/S0048-7333(96)00917-1\", \"@id\": \"26\", \"ref-info\": {\"ref-publicationyear\": {\"@first\": \"1997\"}, \"ref-title\": {\"ref-titletext\": \"What is research collaboration?\"}, \"refd-itemidlist\": {\"itemid\": [{\"$\": \"10.1016/S0048-7333(96)00917-1\", \"@idtype\": \"DOI\"}, {\"$\": \"0006528510\", \"@idtype\": \"SGR\"}]}, \"ref-volisspag\": {\"voliss\": {\"@volume\": \"26\"}, \"pagerange\": {\"@first\": \"1\", \"@last\": \"18\"}}, \"ref-authors\": {\"author\": [{\"@seq\": \"1\", \"ce:initials\": \"J.\", \"@_fa\": \"true\", \"ce:surname\": \"Katz\", \"ce:indexed-name\": \"Katz J.\"}, {\"@seq\": \"2\", \"ce:initials\": \"B.R.\", \"@_fa\": \"true\", \"ce:surname\": \"Martin\", \"ce:indexed-name\": \"Martin B.R.\"}]}, \"ref-sourcetitle\": \"Research Policy\"}}, {\"ref-fulltext\": \"C. King Multiauthor papers: Onward and upward 2012 http://archive.sciencewatch.com/newsletter/2012/201207/multiauthor-papers/\", \"@id\": \"27\", \"ref-info\": {\"ref-publicationyear\": {\"@first\": \"2012\"}, \"ref-website\": {\"ce:e-address\": {\"$\": \"http://archive.sciencewatch.com/newsletter/2012/201207/multiauthor_papers/\", \"@type\": \"email\"}}, \"refd-itemidlist\": {\"itemid\": {\"$\": \"84872428334\", \"@idtype\": \"SGR\"}}, \"ref-authors\": {\"author\": [{\"@seq\": \"1\", \"ce:initials\": \"C.\", \"@_fa\": \"true\", \"ce:surname\": \"King\", \"ce:indexed-name\": \"King C.\"}]}, \"ref-sourcetitle\": \"Multiauthor Papers: Onward and Upward\"}}, {\"ref-fulltext\": \"D. van Knippenberg, W.P. van Ginkel, and A.C. Homan Diversity mindsets and the performance of diverse teams Organizational Behavior and Human Decision Processes 121 2013 183 193 10.1016/j.obhdp.2013.03.003\", \"@id\": \"28\", \"ref-info\": {\"ref-publicationyear\": {\"@first\": \"2013\"}, \"ref-title\": {\"ref-titletext\": \"Diversity mindsets and the performance of diverse teams\"}, \"refd-itemidlist\": {\"itemid\": [{\"$\": \"10.1016/j.obhdp.2013.03.003\", \"@idtype\": \"DOI\"}, {\"$\": \"84875788204\", \"@idtype\": \"SGR\"}]}, \"ref-volisspag\": {\"voliss\": {\"@volume\": \"121\"}, \"pagerange\": {\"@first\": \"183\", \"@last\": \"193\"}}, \"ref-authors\": {\"author\": [{\"@seq\": \"1\", \"ce:initials\": \"D.\", \"@_fa\": \"true\", \"ce:surname\": \"Van Knippenberg\", \"ce:indexed-name\": \"Van Knippenberg D.\"}, {\"@seq\": \"2\", \"ce:initials\": \"W.P.\", \"@_fa\": \"true\", \"ce:surname\": \"Van Ginkel\", \"ce:indexed-name\": \"Van Ginkel W.P.\"}, {\"@seq\": \"3\", \"ce:initials\": \"A.C.\", \"@_fa\": \"true\", \"ce:surname\": \"Homan\", \"ce:indexed-name\": \"Homan A.C.\"}]}, \"ref-sourcetitle\": \"Organizational Behavior and Human Decision Processes\"}}, {\"ref-fulltext\": \"M.T. Lash, and K. Zhao Early predictions of movie success: The who, what, and when of profitability Journal of Management Information Systems 33 2016 874 903 10.1080/07421222.2016.1243969 arXiv:1506.05382\", \"@id\": \"29\", \"ref-info\": {\"ref-publicationyear\": {\"@first\": \"2016\"}, \"ref-title\": {\"ref-titletext\": \"Early predictions of movie success: The who, what, and when of profitability\"}, \"refd-itemidlist\": {\"itemid\": [{\"$\": \"10.1080/07421222.2016.1243969\", \"@idtype\": \"DOI\"}, {\"$\": \"85003001629\", \"@idtype\": \"SGR\"}]}, \"ref-volisspag\": {\"voliss\": {\"@volume\": \"33\"}, \"pagerange\": {\"@first\": \"874\", \"@last\": \"903\"}}, \"ref-text\": \"arxiv:/arXiv:1506.05382\", \"ref-authors\": {\"author\": [{\"@seq\": \"1\", \"ce:initials\": \"M.T.\", \"@_fa\": \"true\", \"ce:surname\": \"Lash\", \"ce:indexed-name\": \"Lash M.T.\"}, {\"@seq\": \"2\", \"ce:initials\": \"K.\", \"@_fa\": \"true\", \"ce:surname\": \"Zhao\", \"ce:indexed-name\": \"Zhao K.\"}]}, \"ref-sourcetitle\": \"Journal of Management Information Systems\"}}, {\"ref-fulltext\": \"H. Ledford How to solve the world's biggest problems Nature 525 2015 308 311 10.1038/525308a\", \"@id\": \"30\", \"ref-info\": {\"ref-publicationyear\": {\"@first\": \"2015\"}, \"ref-title\": {\"ref-titletext\": \"How to solve the world's biggest problems\"}, \"refd-itemidlist\": {\"itemid\": [{\"$\": \"10.1038/525308a\", \"@idtype\": \"DOI\"}, {\"$\": \"84942057467\", \"@idtype\": \"SGR\"}]}, \"ref-volisspag\": {\"voliss\": {\"@volume\": \"525\"}, \"pagerange\": {\"@first\": \"308\", \"@last\": \"311\"}}, \"ref-authors\": {\"author\": [{\"@seq\": \"1\", \"ce:initials\": \"H.\", \"@_fa\": \"true\", \"ce:surname\": \"Ledford\", \"ce:indexed-name\": \"Ledford H.\"}]}, \"ref-sourcetitle\": \"Nature\"}}, {\"ref-fulltext\": \"S. Lee, and B. Bozeman The impact of research collaboration on scientific productivity Social Studies of Science 35 2005 673 702 10.1177/0306312705052359\", \"@id\": \"31\", \"ref-info\": {\"ref-publicationyear\": {\"@first\": \"2005\"}, \"ref-title\": {\"ref-titletext\": \"The impact of research collaboration on scientific productivity\"}, \"refd-itemidlist\": {\"itemid\": [{\"$\": \"10.1177/0306312705052359\", \"@idtype\": \"DOI\"}, {\"$\": \"27144502742\", \"@idtype\": \"SGR\"}]}, \"ref-volisspag\": {\"voliss\": {\"@volume\": \"35\"}, \"pagerange\": {\"@first\": \"673\", \"@last\": \"702\"}}, \"ref-authors\": {\"author\": [{\"@seq\": \"1\", \"ce:initials\": \"S.\", \"@_fa\": \"true\", \"ce:surname\": \"Lee\", \"ce:indexed-name\": \"Lee S.\"}, {\"@seq\": \"2\", \"ce:initials\": \"B.\", \"@_fa\": \"true\", \"ce:surname\": \"Bozeman\", \"ce:indexed-name\": \"Bozeman B.\"}]}, \"ref-sourcetitle\": \"Social Studies of Science\"}}, {\"ref-fulltext\": \"L. Leydesdorff Betweenness centrality as an indicator of the interdisciplinary of scientific journals Journal of the American Society for Information Science and Technology 58 2007 1303 1319 10.1002/asi.20614 arXiv:0911.2719\", \"@id\": \"32\", \"ref-info\": {\"ref-publicationyear\": {\"@first\": \"2007\"}, \"ref-title\": {\"ref-titletext\": \"Betweenness centrality as an indicator of the interdisciplinary of scientific journals\"}, \"refd-itemidlist\": {\"itemid\": [{\"$\": \"10.1002/asi.20614\", \"@idtype\": \"DOI\"}, {\"$\": \"33847416037\", \"@idtype\": \"SGR\"}]}, \"ref-volisspag\": {\"voliss\": {\"@volume\": \"58\"}, \"pagerange\": {\"@first\": \"1303\", \"@last\": \"1319\"}}, \"ref-text\": \"arxiv:/arXiv:0911.2719\", \"ref-authors\": {\"author\": [{\"@seq\": \"1\", \"ce:initials\": \"L.\", \"@_fa\": \"true\", \"ce:surname\": \"Leydesdorff\", \"ce:indexed-name\": \"Leydesdorff L.\"}]}, \"ref-sourcetitle\": \"Journal of the American Society for Information Science and Technology\"}}, {\"ref-fulltext\": \"M. McPherson, L. Smith-Lovin, and J.M. Cook Birds of a feather: Homophily in social networks Annual Review of Sociology 27 2001 415 444 10.1146/annurev.soc.27.1.415 arXiv:9702163\", \"@id\": \"33\", \"ref-info\": {\"ref-publicationyear\": {\"@first\": \"2001\"}, \"ref-title\": {\"ref-titletext\": \"Birds of a feather: Homophily in social networks\"}, \"refd-itemidlist\": {\"itemid\": [{\"$\": \"10.1146/annurev.soc.27.1.415\", \"@idtype\": \"DOI\"}, {\"$\": \"0035639140\", \"@idtype\": \"SGR\"}]}, \"ref-volisspag\": {\"voliss\": {\"@volume\": \"27\"}, \"pagerange\": {\"@first\": \"415\", \"@last\": \"444\"}}, \"ref-text\": \"arxiv:/arXiv:9702163\", \"ref-authors\": {\"author\": [{\"@seq\": \"1\", \"ce:initials\": \"M.\", \"@_fa\": \"true\", \"ce:surname\": \"McPherson\", \"ce:indexed-name\": \"McPherson M.\"}, {\"@seq\": \"2\", \"ce:initials\": \"L.\", \"@_fa\": \"true\", \"ce:surname\": \"Smith-Lovin\", \"ce:indexed-name\": \"Smith-Lovin L.\"}, {\"@seq\": \"3\", \"ce:initials\": \"J.M.\", \"@_fa\": \"true\", \"ce:surname\": \"Cook\", \"ce:indexed-name\": \"Cook J.M.\"}]}, \"ref-sourcetitle\": \"Annual Review of Sociology\"}}, {\"ref-fulltext\": \"M.E.J. Newman Assortative mixing in networks Physical Review Letters 89 2002 208701 10.1103/PhysRevLett.89.208701\", \"@id\": \"34\", \"ref-info\": {\"ref-publicationyear\": {\"@first\": \"2002\"}, \"ref-title\": {\"ref-titletext\": \"Assortative mixing in networks\"}, \"refd-itemidlist\": {\"itemid\": [{\"$\": \"10.1103/PhysRevLett.89.208701\", \"@idtype\": \"DOI\"}, {\"$\": \"18744389789\", \"@idtype\": \"SGR\"}]}, \"ref-volisspag\": {\"voliss\": {\"@volume\": \"89\"}, \"pagerange\": {\"@first\": \"208701\"}}, \"ref-authors\": {\"author\": [{\"@seq\": \"1\", \"ce:initials\": \"M.E.J.\", \"@_fa\": \"true\", \"ce:surname\": \"Newman\", \"ce:indexed-name\": \"Newman M.E.J.\"}]}, \"ref-sourcetitle\": \"Physical Review Letters\"}}, {\"ref-fulltext\": \"M.E.J. Newman Coauthorship networks and patterns of scientific collaboration Proceedings of the National Academy of Sciences of the United States of America 2004 5200-5 10.1073/pnas.0307545100\", \"@id\": \"35\", \"ref-info\": {\"ref-publicationyear\": {\"@first\": \"2004\"}, \"ref-title\": {\"ref-titletext\": \"Coauthorship networks and patterns of scientific collaboration\"}, \"refd-itemidlist\": {\"itemid\": [{\"$\": \"10.1073/pnas.0307545100\", \"@idtype\": \"DOI\"}, {\"$\": \"1842788834\", \"@idtype\": \"SGR\"}]}, \"ref-volisspag\": {\"pagerange\": {\"@first\": \"5200\", \"@last\": \"5205\"}}, \"ref-authors\": {\"author\": [{\"@seq\": \"1\", \"ce:initials\": \"M.E.J.\", \"@_fa\": \"true\", \"ce:surname\": \"Newman\", \"ce:indexed-name\": \"Newman M.E.J.\"}]}, \"ref-sourcetitle\": \"Proceedings of the National Academy of Sciences of the United States of America\"}}, {\"ref-fulltext\": \"L.G. Nichols A topic model approach to measuring interdisciplinarity at the National Science Foundation Scientometrics 100 2014 741 754 10.1007/s11192-014-1319-2\", \"@id\": \"36\", \"ref-info\": {\"ref-publicationyear\": {\"@first\": \"2014\"}, \"ref-title\": {\"ref-titletext\": \"A topic model approach to measuring interdisciplinarity at the National Science Foundation\"}, \"refd-itemidlist\": {\"itemid\": [{\"$\": \"10.1007/s11192-014-1319-2\", \"@idtype\": \"DOI\"}, {\"$\": \"84906080139\", \"@idtype\": \"SGR\"}]}, \"ref-volisspag\": {\"voliss\": {\"@volume\": \"100\"}, \"pagerange\": {\"@first\": \"741\", \"@last\": \"754\"}}, \"ref-authors\": {\"author\": [{\"@seq\": \"1\", \"ce:initials\": \"L.G.\", \"@_fa\": \"true\", \"ce:surname\": \"Nichols\", \"ce:indexed-name\": \"Nichols L.G.\"}]}, \"ref-sourcetitle\": \"Scientometrics\"}}, {\"ref-fulltext\": \"NSF Facilitating interdisciplinary research 2005 Technical Report National Academy of Sciences Washington, DC 10.17226/11153 http://www.nap.edu/catalog/11153\", \"@id\": \"37\", \"ref-info\": {\"ref-publicationyear\": {\"@first\": \"2005\"}, \"ref-website\": {\"ce:e-address\": {\"$\": \"http://www.nap.edu/catalog/11153\", \"@type\": \"email\"}}, \"refd-itemidlist\": {\"itemid\": [{\"$\": \"10.17226/11153\", \"@idtype\": \"DOI\"}, {\"$\": \"85024101969\", \"@idtype\": \"SGR\"}]}, \"ref-text\": \"Technical Report National Academy of Sciences Washington, DC\", \"ref-authors\": {\"author\": [{\"@seq\": \"1\", \"@_fa\": \"true\", \"ce:surname\": \"Nsf\", \"ce:indexed-name\": \"Nsf\"}]}, \"ref-sourcetitle\": \"Facilitating Interdisciplinary Research\"}}, {\"ref-fulltext\": \"R.K. Pan, S. Sinha, K. Kaski, and J. Saram\\u00e4ki The evolution of interdisciplinarity in physics research Scientific Reports 2 2012 10.1038/srep00551 arXiv:1206.0108\", \"@id\": \"38\", \"ref-info\": {\"ref-publicationyear\": {\"@first\": \"2012\"}, \"ref-title\": {\"ref-titletext\": \"The evolution of interdisciplinarity in physics research\"}, \"refd-itemidlist\": {\"itemid\": [{\"$\": \"10.1038/srep00551\", \"@idtype\": \"DOI\"}, {\"$\": \"84864862787\", \"@idtype\": \"SGR\"}]}, \"ref-volisspag\": {\"voliss\": {\"@volume\": \"2\"}}, \"ref-text\": \"arxiv:/arXiv:1206.0108\", \"ref-authors\": {\"author\": [{\"@seq\": \"1\", \"ce:initials\": \"R.K.\", \"@_fa\": \"true\", \"ce:surname\": \"Pan\", \"ce:indexed-name\": \"Pan R.K.\"}, {\"@seq\": \"2\", \"ce:initials\": \"S.\", \"@_fa\": \"true\", \"ce:surname\": \"Sinha\", \"ce:indexed-name\": \"Sinha S.\"}, {\"@seq\": \"3\", \"ce:initials\": \"K.\", \"@_fa\": \"true\", \"ce:surname\": \"Kaski\", \"ce:indexed-name\": \"Kaski K.\"}, {\"@seq\": \"4\", \"ce:initials\": \"J.\", \"@_fa\": \"true\", \"ce:surname\": \"Saram\\u00e4ki\", \"ce:indexed-name\": \"Saramaki J.\"}]}, \"ref-sourcetitle\": \"Scientific Reports\"}}, {\"ref-fulltext\": \"I. Pavlidis, A.M. Petersen, and I. Semendeferi Together we stand Nature Physics 10 2014 700 702 10.1038/nphys3110\", \"@id\": \"39\", \"ref-info\": {\"ref-publicationyear\": {\"@first\": \"2014\"}, \"ref-title\": {\"ref-titletext\": \"Together we stand\"}, \"refd-itemidlist\": {\"itemid\": [{\"$\": \"10.1038/nphys3110\", \"@idtype\": \"DOI\"}, {\"$\": \"84923264092\", \"@idtype\": \"SGR\"}]}, \"ref-volisspag\": {\"voliss\": {\"@volume\": \"10\"}, \"pagerange\": {\"@first\": \"700\", \"@last\": \"702\"}}, \"ref-authors\": {\"author\": [{\"@seq\": \"1\", \"ce:initials\": \"I.\", \"@_fa\": \"true\", \"ce:surname\": \"Pavlidis\", \"ce:indexed-name\": \"Pavlidis I.\"}, {\"@seq\": \"2\", \"ce:initials\": \"A.M.\", \"@_fa\": \"true\", \"ce:surname\": \"Petersen\", \"ce:indexed-name\": \"Petersen A.M.\"}, {\"@seq\": \"3\", \"ce:initials\": \"I.\", \"@_fa\": \"true\", \"ce:surname\": \"Semendeferi\", \"ce:indexed-name\": \"Semendeferi I.\"}]}, \"ref-sourcetitle\": \"Nature Physics\"}}, {\"ref-fulltext\": \"A.M. Petersen Quantifying the impact of weak, strong, and super ties in scientific careers Proceedings of the National Academy of Sciences of the United States of America 112 2015 E4671 E4680 10.1073/pnas.1501444112\", \"@id\": \"40\", \"ref-info\": {\"ref-publicationyear\": {\"@first\": \"2015\"}, \"ref-title\": {\"ref-titletext\": \"Quantifying the impact of weak, strong, and super ties in scientific careers\"}, \"refd-itemidlist\": {\"itemid\": [{\"$\": \"10.1073/pnas.1501444112\", \"@idtype\": \"DOI\"}, {\"$\": \"84940416840\", \"@idtype\": \"SGR\"}]}, \"ref-volisspag\": {\"voliss\": {\"@volume\": \"112\"}, \"pagerange\": {\"@first\": \"E4671\", \"@last\": \"E4680\"}}, \"ref-authors\": {\"author\": [{\"@seq\": \"1\", \"ce:initials\": \"A.M.\", \"@_fa\": \"true\", \"ce:surname\": \"Petersen\", \"ce:indexed-name\": \"Petersen A.M.\"}]}, \"ref-sourcetitle\": \"Proceedings of the National Academy of Sciences of the United States of America\"}}, {\"ref-fulltext\": \"K.R. Popper Conjectures and refutations: The growth of scientific knowledge 2nd ed. 1962 Basic Books Inc. New York\", \"@id\": \"41\", \"ref-info\": {\"ref-publicationyear\": {\"@first\": \"1962\"}, \"refd-itemidlist\": {\"itemid\": {\"$\": \"0003432081\", \"@idtype\": \"SGR\"}}, \"ref-text\": \"2nd ed. Basic Books Inc. New York\", \"ref-authors\": {\"author\": [{\"@seq\": \"1\", \"ce:initials\": \"K.R.\", \"@_fa\": \"true\", \"ce:surname\": \"Popper\", \"ce:indexed-name\": \"Popper K.R.\"}]}, \"ref-sourcetitle\": \"Conjectures and Refutations: The Growth of Scientific Knowledge\"}}, {\"ref-fulltext\": \"J.F. Porac, J.B. Wade, H.M. Fischer, J. Brown, A. Kanfer, and G. Bowker Human capital heterogeneity, collaborative relationships, and publication patterns in a multidisciplinary scientific alliance: A comparative case study of two scientific teams Research Policy 33 2004 661 678 10.1016/j.respol.2004.01.007\", \"@id\": \"42\", \"ref-info\": {\"ref-publicationyear\": {\"@first\": \"2004\"}, \"ref-title\": {\"ref-titletext\": \"Human capital heterogeneity, collaborative relationships, and publication patterns in a multidisciplinary scientific alliance: A comparative case study of two scientific teams\"}, \"refd-itemidlist\": {\"itemid\": [{\"$\": \"10.1016/j.respol.2004.01.007\", \"@idtype\": \"DOI\"}, {\"$\": \"2442659376\", \"@idtype\": \"SGR\"}]}, \"ref-volisspag\": {\"voliss\": {\"@volume\": \"33\"}, \"pagerange\": {\"@first\": \"661\", \"@last\": \"678\"}}, \"ref-authors\": {\"author\": [{\"@seq\": \"1\", \"ce:initials\": \"J.F.\", \"@_fa\": \"true\", \"ce:surname\": \"Porac\", \"ce:indexed-name\": \"Porac J.F.\"}, {\"@seq\": \"2\", \"ce:initials\": \"J.B.\", \"@_fa\": \"true\", \"ce:surname\": \"Wade\", \"ce:indexed-name\": \"Wade J.B.\"}, {\"@seq\": \"3\", \"ce:initials\": \"H.M.\", \"@_fa\": \"true\", \"ce:surname\": \"Fischer\", \"ce:indexed-name\": \"Fischer H.M.\"}, {\"@seq\": \"4\", \"ce:initials\": \"J.\", \"@_fa\": \"true\", \"ce:surname\": \"Brown\", \"ce:indexed-name\": \"Brown J.\"}, {\"@seq\": \"5\", \"ce:initials\": \"A.\", \"@_fa\": \"true\", \"ce:surname\": \"Kanfer\", \"ce:indexed-name\": \"Kanfer A.\"}, {\"@seq\": \"6\", \"ce:initials\": \"G.\", \"@_fa\": \"true\", \"ce:surname\": \"Bowker\", \"ce:indexed-name\": \"Bowker G.\"}]}, \"ref-sourcetitle\": \"Research Policy\"}}, {\"ref-fulltext\": \"A. Porter, and I. Rafols Is science becoming more interdisciplinary?. Measuring and mapping six research fields over time Scientometrics 81 2009 719 745 10.1007/s11192-008-2197-2\", \"@id\": \"43\", \"ref-info\": {\"ref-publicationyear\": {\"@first\": \"2009\"}, \"ref-title\": {\"ref-titletext\": \"Is science becoming more interdisciplinary?. Measuring and mapping six research fields over time\"}, \"refd-itemidlist\": {\"itemid\": [{\"$\": \"10.1007/s11192-008-2197-2\", \"@idtype\": \"DOI\"}, {\"$\": \"77956619533\", \"@idtype\": \"SGR\"}]}, \"ref-volisspag\": {\"voliss\": {\"@volume\": \"81\"}, \"pagerange\": {\"@first\": \"719\", \"@last\": \"745\"}}, \"ref-authors\": {\"author\": [{\"@seq\": \"1\", \"ce:initials\": \"A.\", \"@_fa\": \"true\", \"ce:surname\": \"Porter\", \"ce:indexed-name\": \"Porter A.\"}, {\"@seq\": \"2\", \"ce:initials\": \"I.\", \"@_fa\": \"true\", \"ce:surname\": \"Rafols\", \"ce:indexed-name\": \"Rafols I.\"}]}, \"ref-sourcetitle\": \"Scientometrics\"}}, {\"ref-fulltext\": \"A.L. Porter, A.S. Cohen, J. David Roessner, and M. Perreault Measuring researcher interdisciplinarity Scientometrics 72 2007 117 147 10.1007/s11192-007-1700-5\", \"@id\": \"44\", \"ref-info\": {\"ref-publicationyear\": {\"@first\": \"2007\"}, \"ref-title\": {\"ref-titletext\": \"Measuring researcher interdisciplinarity\"}, \"refd-itemidlist\": {\"itemid\": [{\"$\": \"10.1007/s11192-007-1700-5\", \"@idtype\": \"DOI\"}, {\"$\": \"34547269722\", \"@idtype\": \"SGR\"}]}, \"ref-volisspag\": {\"voliss\": {\"@volume\": \"72\"}, \"pagerange\": {\"@first\": \"117\", \"@last\": \"147\"}}, \"ref-authors\": {\"author\": [{\"@seq\": \"1\", \"ce:initials\": \"A.L.\", \"@_fa\": \"true\", \"ce:surname\": \"Porter\", \"ce:indexed-name\": \"Porter A.L.\"}, {\"@seq\": \"2\", \"ce:initials\": \"A.S.\", \"@_fa\": \"true\", \"ce:surname\": \"Cohen\", \"ce:indexed-name\": \"Cohen A.S.\"}, {\"@seq\": \"3\", \"ce:initials\": \"J.\", \"@_fa\": \"true\", \"ce:surname\": \"David Roessner\", \"ce:indexed-name\": \"David Roessner J.\"}, {\"@seq\": \"4\", \"ce:initials\": \"M.\", \"@_fa\": \"true\", \"ce:surname\": \"Perreault\", \"ce:indexed-name\": \"Perreault M.\"}]}, \"ref-sourcetitle\": \"Scientometrics\"}}, {\"ref-fulltext\": \"L. Qiu A study of interdisciplinary research collaboration Research Evaluation 2 1992 169 175 10.1093/rev/2.3.169\", \"@id\": \"45\", \"ref-info\": {\"ref-publicationyear\": {\"@first\": \"1992\"}, \"ref-title\": {\"ref-titletext\": \"A study of interdisciplinary research collaboration\"}, \"refd-itemidlist\": {\"itemid\": [{\"$\": \"10.1093/rev/2.3.169\", \"@idtype\": \"DOI\"}, {\"$\": \"0039448054\", \"@idtype\": \"SGR\"}]}, \"ref-volisspag\": {\"voliss\": {\"@volume\": \"2\"}, \"pagerange\": {\"@first\": \"169\", \"@last\": \"175\"}}, \"ref-authors\": {\"author\": [{\"@seq\": \"1\", \"ce:initials\": \"L.\", \"@_fa\": \"true\", \"ce:surname\": \"Qiu\", \"ce:indexed-name\": \"Qiu L.\"}]}, \"ref-sourcetitle\": \"Research Evaluation\"}}, {\"ref-fulltext\": \"I. Rafols, and M. Meyer Diversity and network coherence as indicators of interdisciplinarity: Case studies in bionanoscience Scientometrics 82 2010 263 287 10.1007/s11192-009-0041-y arXiv:0901.1380\", \"@id\": \"46\", \"ref-info\": {\"ref-publicationyear\": {\"@first\": \"2010\"}, \"ref-title\": {\"ref-titletext\": \"Diversity and network coherence as indicators of interdisciplinarity: Case studies in bionanoscience\"}, \"refd-itemidlist\": {\"itemid\": [{\"$\": \"10.1007/s11192-009-0041-y\", \"@idtype\": \"DOI\"}, {\"$\": \"77952880386\", \"@idtype\": \"SGR\"}]}, \"ref-volisspag\": {\"voliss\": {\"@volume\": \"82\"}, \"pagerange\": {\"@first\": \"263\", \"@last\": \"287\"}}, \"ref-text\": \"arxiv:/arXiv:0901.1380\", \"ref-authors\": {\"author\": [{\"@seq\": \"1\", \"ce:initials\": \"I.\", \"@_fa\": \"true\", \"ce:surname\": \"Rafols\", \"ce:indexed-name\": \"Rafols I.\"}, {\"@seq\": \"2\", \"ce:initials\": \"M.\", \"@_fa\": \"true\", \"ce:surname\": \"Meyer\", \"ce:indexed-name\": \"Meyer M.\"}]}, \"ref-sourcetitle\": \"Scientometrics\"}}, {\"ref-fulltext\": \"A. Regalado Multiauthor papers on the rise Science 268 1995 25\", \"@id\": \"47\", \"ref-info\": {\"ref-publicationyear\": {\"@first\": \"1995\"}, \"ref-title\": {\"ref-titletext\": \"Multiauthor papers on the rise\"}, \"refd-itemidlist\": {\"itemid\": {\"$\": \"0029638408\", \"@idtype\": \"SGR\"}}, \"ref-volisspag\": {\"voliss\": {\"@volume\": \"268\"}, \"pagerange\": {\"@first\": \"25\"}}, \"ref-authors\": {\"author\": [{\"@seq\": \"1\", \"ce:initials\": \"A.\", \"@_fa\": \"true\", \"ce:surname\": \"Regalado\", \"ce:indexed-name\": \"Regalado A.\"}]}, \"ref-sourcetitle\": \"Science\"}}, {\"ref-fulltext\": \"F.J. van Rijnsoever, and L.K. Hessels Factors associated with disciplinary and interdisciplinary research collaboration Research Policy 40 2011 463 472 10.1016/j.respol.2010.11.001\", \"@id\": \"48\", \"ref-info\": {\"ref-publicationyear\": {\"@first\": \"2011\"}, \"ref-title\": {\"ref-titletext\": \"Factors associated with disciplinary and interdisciplinary research collaboration\"}, \"refd-itemidlist\": {\"itemid\": [{\"$\": \"10.1016/j.respol.2010.11.001\", \"@idtype\": \"DOI\"}, {\"$\": \"79951950170\", \"@idtype\": \"SGR\"}]}, \"ref-volisspag\": {\"voliss\": {\"@volume\": \"40\"}, \"pagerange\": {\"@first\": \"463\", \"@last\": \"472\"}}, \"ref-authors\": {\"author\": [{\"@seq\": \"1\", \"ce:initials\": \"F.J.\", \"@_fa\": \"true\", \"ce:surname\": \"Van Rijnsoever\", \"ce:indexed-name\": \"Van Rijnsoever F.J.\"}, {\"@seq\": \"2\", \"ce:initials\": \"L.K.\", \"@_fa\": \"true\", \"ce:surname\": \"Hessels\", \"ce:indexed-name\": \"Hessels L.K.\"}]}, \"ref-sourcetitle\": \"Research Policy\"}}, {\"ref-fulltext\": \"M.R. Salazar, T.K. Lant, S.M. Fiore, and E. Salas Facilitating innovation in diverse science teams through integrative capacity Small Group Research 43 2012 527 558 10.1177/1046496412453622\", \"@id\": \"49\", \"ref-info\": {\"ref-publicationyear\": {\"@first\": \"2012\"}, \"ref-title\": {\"ref-titletext\": \"Facilitating innovation in diverse science teams through integrative capacity\"}, \"refd-itemidlist\": {\"itemid\": [{\"$\": \"10.1177/1046496412453622\", \"@idtype\": \"DOI\"}, {\"$\": \"84866549367\", \"@idtype\": \"SGR\"}]}, \"ref-volisspag\": {\"voliss\": {\"@volume\": \"43\"}, \"pagerange\": {\"@first\": \"527\", \"@last\": \"558\"}}, \"ref-authors\": {\"author\": [{\"@seq\": \"1\", \"ce:initials\": \"M.R.\", \"@_fa\": \"true\", \"ce:surname\": \"Salazar\", \"ce:indexed-name\": \"Salazar M.R.\"}, {\"@seq\": \"2\", \"ce:initials\": \"T.K.\", \"@_fa\": \"true\", \"ce:surname\": \"Lant\", \"ce:indexed-name\": \"Lant T.K.\"}, {\"@seq\": \"3\", \"ce:initials\": \"S.M.\", \"@_fa\": \"true\", \"ce:surname\": \"Fiore\", \"ce:indexed-name\": \"Fiore S.M.\"}, {\"@seq\": \"4\", \"ce:initials\": \"E.\", \"@_fa\": \"true\", \"ce:surname\": \"Salas\", \"ce:indexed-name\": \"Salas E.\"}]}, \"ref-sourcetitle\": \"Small Group Research\"}}, {\"ref-fulltext\": \"H. Sayama, and J. Akaishi Characterizing interdisciplinarity of researchers and research topics using web search engines PLoS ONE 7 2012 e38747 10.1371/journal.pone.0038747 arXiv:1201.3592\", \"@id\": \"50\", \"ref-info\": {\"ref-publicationyear\": {\"@first\": \"2012\"}, \"ref-title\": {\"ref-titletext\": \"Characterizing interdisciplinarity of researchers and research topics using web search engines\"}, \"refd-itemidlist\": {\"itemid\": [{\"$\": \"10.1371/journal.pone.0038747\", \"@idtype\": \"DOI\"}, {\"$\": \"84862235368\", \"@idtype\": \"SGR\"}]}, \"ref-volisspag\": {\"voliss\": {\"@volume\": \"7\"}, \"pagerange\": {\"@first\": \"e38747\"}}, \"ref-text\": \"arxiv:/arXiv:1201.3592\", \"ref-authors\": {\"author\": [{\"@seq\": \"1\", \"ce:initials\": \"H.\", \"@_fa\": \"true\", \"ce:surname\": \"Sayama\", \"ce:indexed-name\": \"Sayama H.\"}, {\"@seq\": \"2\", \"ce:initials\": \"J.\", \"@_fa\": \"true\", \"ce:surname\": \"Akaishi\", \"ce:indexed-name\": \"Akaishi J.\"}]}, \"ref-sourcetitle\": \"PLoS ONE\"}}, {\"ref-fulltext\": \"J. Schummer Multidisciplinarity, interdisciplinarity, and patterns of research collaboration in nanoscience and nanotechnology Scientometrics 59 2004 425 465 10.1023/B:SCIE.0000018542.71314.38\", \"@id\": \"51\", \"ref-info\": {\"ref-publicationyear\": {\"@first\": \"2004\"}, \"ref-title\": {\"ref-titletext\": \"Multidisciplinarity, interdisciplinarity, and patterns of research collaboration in nanoscience and nanotechnology\"}, \"refd-itemidlist\": {\"itemid\": [{\"$\": \"10.1023/B:SCIE.0000018542.71314.38\", \"@idtype\": \"DOI\"}, {\"$\": \"4243086879\", \"@idtype\": \"SGR\"}]}, \"ref-volisspag\": {\"voliss\": {\"@volume\": \"59\"}, \"pagerange\": {\"@first\": \"425\", \"@last\": \"465\"}}, \"ref-authors\": {\"author\": [{\"@seq\": \"1\", \"ce:initials\": \"J.\", \"@_fa\": \"true\", \"ce:surname\": \"Schummer\", \"ce:indexed-name\": \"Schummer J.\"}]}, \"ref-sourcetitle\": \"Scientometrics\"}}, {\"ref-fulltext\": \"C.E. Shannon A mathematical theory of communication Bell System Technical Journal 27 1948 379 423 10.1002/j.1538-7305.1948.tb01338.x. arXiv:9411012\", \"@id\": \"52\", \"ref-info\": {\"ref-publicationyear\": {\"@first\": \"1948\"}, \"ref-title\": {\"ref-titletext\": \"A mathematical theory of communication\"}, \"refd-itemidlist\": {\"itemid\": [{\"$\": \"10.1002/j.1538-7305.1948.tb01338\", \"@idtype\": \"DOI\"}, {\"$\": \"84940644968\", \"@idtype\": \"SGR\"}]}, \"ref-volisspag\": {\"voliss\": {\"@volume\": \"27\"}, \"pagerange\": {\"@first\": \"379\", \"@last\": \"423\"}}, \"ref-authors\": {\"author\": [{\"@seq\": \"1\", \"ce:initials\": \"C.E.\", \"@_fa\": \"true\", \"ce:surname\": \"Shannon\", \"ce:indexed-name\": \"Shannon C.E.\"}]}, \"ref-sourcetitle\": \"Bell System Technical Journal\"}}, {\"ref-fulltext\": \"L.M. Shore, B.G. Chung-Herrera, M.A. Dean, K.H. Ehrhart, D.I. Jung, A.E. Randel, and G. Singh Diversity in organizations: Where are we now and where are we going? Human Resource Management Review 19 2009 117 133 10.1016/j.hrmr.2008.10.004 arXiv:arXiv:1011.1669v3\", \"@id\": \"53\", \"ref-info\": {\"ref-publicationyear\": {\"@first\": \"2009\"}, \"ref-title\": {\"ref-titletext\": \"Diversity in organizations: Where are we now and where are we going?\"}, \"refd-itemidlist\": {\"itemid\": [{\"$\": \"10.1016/j.hrmr.2008.10.004\", \"@idtype\": \"DOI\"}, {\"$\": \"61849086848\", \"@idtype\": \"SGR\"}]}, \"ref-volisspag\": {\"voliss\": {\"@volume\": \"19\"}, \"pagerange\": {\"@first\": \"117\", \"@last\": \"133\"}}, \"ref-text\": \"arxiv:/arXiv:arXiv:1011.1669v3\", \"ref-authors\": {\"author\": [{\"@seq\": \"1\", \"ce:initials\": \"L.M.\", \"@_fa\": \"true\", \"ce:surname\": \"Shore\", \"ce:indexed-name\": \"Shore L.M.\"}, {\"@seq\": \"2\", \"ce:initials\": \"B.G.\", \"@_fa\": \"true\", \"ce:surname\": \"Chung-Herrera\", \"ce:indexed-name\": \"Chung-Herrera B.G.\"}, {\"@seq\": \"3\", \"ce:initials\": \"M.A.\", \"@_fa\": \"true\", \"ce:surname\": \"Dean\", \"ce:indexed-name\": \"Dean M.A.\"}, {\"@seq\": \"4\", \"ce:initials\": \"K.H.\", \"@_fa\": \"true\", \"ce:surname\": \"Ehrhart\", \"ce:indexed-name\": \"Ehrhart K.H.\"}, {\"@seq\": \"5\", \"ce:initials\": \"D.I.\", \"@_fa\": \"true\", \"ce:surname\": \"Jung\", \"ce:indexed-name\": \"Jung D.I.\"}, {\"@seq\": \"6\", \"ce:initials\": \"A.E.\", \"@_fa\": \"true\", \"ce:surname\": \"Randel\", \"ce:indexed-name\": \"Randel A.E.\"}, {\"@seq\": \"7\", \"ce:initials\": \"G.\", \"@_fa\": \"true\", \"ce:surname\": \"Singh\", \"ce:indexed-name\": \"Singh G.\"}]}, \"ref-sourcetitle\": \"Human Resource Management Review\"}}, {\"ref-fulltext\": \"J.I. Siciliano The relationship of board member diversity to organizational performance Journal of Business Ethics 15 1996 1313 1320 10.1007/BF00411816\", \"@id\": \"54\", \"ref-info\": {\"ref-publicationyear\": {\"@first\": \"1996\"}, \"ref-title\": {\"ref-titletext\": \"The relationship of board member diversity to organizational performance\"}, \"refd-itemidlist\": {\"itemid\": [{\"$\": \"10.1007/BF00411816\", \"@idtype\": \"DOI\"}, {\"$\": \"0030527133\", \"@idtype\": \"SGR\"}]}, \"ref-volisspag\": {\"voliss\": {\"@volume\": \"15\"}, \"pagerange\": {\"@first\": \"1313\", \"@last\": \"1320\"}}, \"ref-authors\": {\"author\": [{\"@seq\": \"1\", \"ce:initials\": \"J.I.\", \"@_fa\": \"true\", \"ce:surname\": \"Siciliano\", \"ce:indexed-name\": \"Siciliano J.I.\"}]}, \"ref-sourcetitle\": \"Journal of Business Ethics\"}}, {\"ref-fulltext\": \"R. Sinatra, D. Wang, P. Deville, C. Song, and A.L. Barab\\u00e1si Quantifying the evolution of individual scientific impact Science 354 2016 aaf5239 10.1126/science.aaf5239\", \"@id\": \"55\", \"ref-info\": {\"ref-publicationyear\": {\"@first\": \"2016\"}, \"ref-title\": {\"ref-titletext\": \"Quantifying the evolution of individual scientific impact\"}, \"refd-itemidlist\": {\"itemid\": [{\"$\": \"10.1126/science.aaf5239\", \"@idtype\": \"DOI\"}, {\"$\": \"84995389872\", \"@idtype\": \"SGR\"}]}, \"ref-volisspag\": {\"voliss\": {\"@volume\": \"354\"}, \"pagerange\": {\"@first\": \"aaf5239\"}}, \"ref-authors\": {\"author\": [{\"@seq\": \"1\", \"ce:initials\": \"R.\", \"@_fa\": \"true\", \"ce:surname\": \"Sinatra\", \"ce:indexed-name\": \"Sinatra R.\"}, {\"@seq\": \"2\", \"ce:initials\": \"D.\", \"@_fa\": \"true\", \"ce:surname\": \"Wang\", \"ce:indexed-name\": \"Wang D.\"}, {\"@seq\": \"3\", \"ce:initials\": \"P.\", \"@_fa\": \"true\", \"ce:surname\": \"Deville\", \"ce:indexed-name\": \"Deville P.\"}, {\"@seq\": \"4\", \"ce:initials\": \"C.\", \"@_fa\": \"true\", \"ce:surname\": \"Song\", \"ce:indexed-name\": \"Song C.\"}, {\"@seq\": \"5\", \"ce:initials\": \"A.L.\", \"@_fa\": \"true\", \"ce:surname\": \"Barab\\u00e1si\", \"ce:indexed-name\": \"Barabasi A.L.\"}]}, \"ref-sourcetitle\": \"Science\"}}, {\"ref-fulltext\": \"B. Stvilia, C.C. Hinnant, K. Schindler, A. Worrall, G. Burnett, K. Burnett, M.M. Kazmer, and P.F. Marty Composition of scientific teams and publication productivity at a national science lab Journal of the American Society for Information Science and Technology 62 2011 270 283 10.1002/asi.21464\", \"@id\": \"56\", \"ref-info\": {\"ref-publicationyear\": {\"@first\": \"2011\"}, \"ref-title\": {\"ref-titletext\": \"Composition of scientific teams and publication productivity at a national science lab\"}, \"refd-itemidlist\": {\"itemid\": [{\"$\": \"10.1002/asi.21464\", \"@idtype\": \"DOI\"}, {\"$\": \"78951484542\", \"@idtype\": \"SGR\"}]}, \"ref-volisspag\": {\"voliss\": {\"@volume\": \"62\"}, \"pagerange\": {\"@first\": \"270\", \"@last\": \"283\"}}, \"ref-authors\": {\"author\": [{\"@seq\": \"1\", \"ce:initials\": \"B.\", \"@_fa\": \"true\", \"ce:surname\": \"Stvilia\", \"ce:indexed-name\": \"Stvilia B.\"}, {\"@seq\": \"2\", \"ce:initials\": \"C.C.\", \"@_fa\": \"true\", \"ce:surname\": \"Hinnant\", \"ce:indexed-name\": \"Hinnant C.C.\"}, {\"@seq\": \"3\", \"ce:initials\": \"K.\", \"@_fa\": \"true\", \"ce:surname\": \"Schindler\", \"ce:indexed-name\": \"Schindler K.\"}, {\"@seq\": \"4\", \"ce:initials\": \"A.\", \"@_fa\": \"true\", \"ce:surname\": \"Worrall\", \"ce:indexed-name\": \"Worrall A.\"}, {\"@seq\": \"5\", \"ce:initials\": \"G.\", \"@_fa\": \"true\", \"ce:surname\": \"Burnett\", \"ce:indexed-name\": \"Burnett G.\"}, {\"@seq\": \"6\", \"ce:initials\": \"K.\", \"@_fa\": \"true\", \"ce:surname\": \"Burnett\", \"ce:indexed-name\": \"Burnett K.\"}, {\"@seq\": \"7\", \"ce:initials\": \"M.M.\", \"@_fa\": \"true\", \"ce:surname\": \"Kazmer\", \"ce:indexed-name\": \"Kazmer M.M.\"}, {\"@seq\": \"8\", \"ce:initials\": \"P.F.\", \"@_fa\": \"true\", \"ce:surname\": \"Marty\", \"ce:indexed-name\": \"Marty P.F.\"}]}, \"ref-sourcetitle\": \"Journal of the American Society for Information Science and Technology\"}}, {\"ref-fulltext\": \"X. Su, J. Johnson, and B. Bozeman Gender diversity strategy in academic departments: Exploring organizational determinants Higher Education 69 2015 839 858 10.1007/s10734-014-9808-z\", \"@id\": \"57\", \"ref-info\": {\"ref-publicationyear\": {\"@first\": \"2015\"}, \"ref-title\": {\"ref-titletext\": \"Gender diversity strategy in academic departments: Exploring organizational determinants\"}, \"refd-itemidlist\": {\"itemid\": [{\"$\": \"10.1007/s10734-014-9808-z\", \"@idtype\": \"DOI\"}, {\"$\": \"84929085616\", \"@idtype\": \"SGR\"}]}, \"ref-volisspag\": {\"voliss\": {\"@volume\": \"69\"}, \"pagerange\": {\"@first\": \"839\", \"@last\": \"858\"}}, \"ref-authors\": {\"author\": [{\"@seq\": \"1\", \"ce:initials\": \"X.\", \"@_fa\": \"true\", \"ce:surname\": \"Su\", \"ce:indexed-name\": \"Su X.\"}, {\"@seq\": \"2\", \"ce:initials\": \"J.\", \"@_fa\": \"true\", \"ce:surname\": \"Johnson\", \"ce:indexed-name\": \"Johnson J.\"}, {\"@seq\": \"3\", \"ce:initials\": \"B.\", \"@_fa\": \"true\", \"ce:surname\": \"Bozeman\", \"ce:indexed-name\": \"Bozeman B.\"}]}, \"ref-sourcetitle\": \"Higher Education\"}}, {\"ref-fulltext\": \"C. Van Hartesveldt, and J. Giordan Impact of Transformative Interdisciplinary Research and Graduate Education on Academic Institutions 2008 Technical Report May National Science Foundation 10.1001/jama.2010.987\", \"@id\": \"58\", \"ref-info\": {\"ref-publicationyear\": {\"@first\": \"2008\"}, \"refd-itemidlist\": {\"itemid\": [{\"$\": \"10.1001/jama.2010.987\", \"@idtype\": \"DOI\"}, {\"$\": \"80051885371\", \"@idtype\": \"SGR\"}]}, \"ref-text\": \"Technical Report May National Science Foundation\", \"ref-authors\": {\"author\": [{\"@seq\": \"1\", \"ce:initials\": \"C.\", \"@_fa\": \"true\", \"ce:surname\": \"Van Hartesveldt\", \"ce:indexed-name\": \"Van Hartesveldt C.\"}, {\"@seq\": \"2\", \"ce:initials\": \"J.\", \"@_fa\": \"true\", \"ce:surname\": \"Giordan\", \"ce:indexed-name\": \"Giordan J.\"}]}, \"ref-sourcetitle\": \"Impact of Transformative Interdisciplinary Research and Graduate Education on Academic Institutions\"}}, {\"ref-fulltext\": \"R. Van Noorden Interdisciplinary research by the numbers Nature 525 2015 306 307 10.1038/525306a\", \"@id\": \"59\", \"ref-info\": {\"ref-publicationyear\": {\"@first\": \"2015\"}, \"ref-title\": {\"ref-titletext\": \"Interdisciplinary research by the numbers\"}, \"refd-itemidlist\": {\"itemid\": [{\"$\": \"10.1038/525306a\", \"@idtype\": \"DOI\"}, {\"$\": \"84942025227\", \"@idtype\": \"SGR\"}]}, \"ref-volisspag\": {\"voliss\": {\"@volume\": \"525\"}, \"pagerange\": {\"@first\": \"306\", \"@last\": \"307\"}}, \"ref-authors\": {\"author\": [{\"@seq\": \"1\", \"ce:initials\": \"R.\", \"@_fa\": \"true\", \"ce:surname\": \"Van Noorden\", \"ce:indexed-name\": \"Van Noorden R.\"}]}, \"ref-sourcetitle\": \"Nature\"}}, {\"ref-fulltext\": \"C.S. Wagner, J.D. Roessner, K. Bobb, J.T. Klein, K.W. Boyack, J. Keyton, I. Rafols, and K. B\\u00f6rner Approaches to understanding and measuring interdisciplinary scientific research (IDR): A review of the literature Journal of Informetrics 5 2011 14 26 10.1016/j.joi.2010.06.004\", \"@id\": \"60\", \"ref-info\": {\"ref-publicationyear\": {\"@first\": \"2011\"}, \"ref-title\": {\"ref-titletext\": \"Approaches to understanding and measuring interdisciplinary scientific research (IDR): A review of the literature\"}, \"refd-itemidlist\": {\"itemid\": [{\"$\": \"10.1016/j.joi.2010.06.004\", \"@idtype\": \"DOI\"}, {\"$\": \"78650518256\", \"@idtype\": \"SGR\"}]}, \"ref-volisspag\": {\"voliss\": {\"@volume\": \"5\"}, \"pagerange\": {\"@first\": \"14\", \"@last\": \"26\"}}, \"ref-authors\": {\"author\": [{\"@seq\": \"1\", \"ce:initials\": \"C.S.\", \"@_fa\": \"true\", \"ce:surname\": \"Wagner\", \"ce:indexed-name\": \"Wagner C.S.\"}, {\"@seq\": \"2\", \"ce:initials\": \"J.D.\", \"@_fa\": \"true\", \"ce:surname\": \"Roessner\", \"ce:indexed-name\": \"Roessner J.D.\"}, {\"@seq\": \"3\", \"ce:initials\": \"K.\", \"@_fa\": \"true\", \"ce:surname\": \"Bobb\", \"ce:indexed-name\": \"Bobb K.\"}, {\"@seq\": \"4\", \"ce:initials\": \"J.T.\", \"@_fa\": \"true\", \"ce:surname\": \"Klein\", \"ce:indexed-name\": \"Klein J.T.\"}, {\"@seq\": \"5\", \"ce:initials\": \"K.W.\", \"@_fa\": \"true\", \"ce:surname\": \"Boyack\", \"ce:indexed-name\": \"Boyack K.W.\"}, {\"@seq\": \"6\", \"ce:initials\": \"J.\", \"@_fa\": \"true\", \"ce:surname\": \"Keyton\", \"ce:indexed-name\": \"Keyton J.\"}, {\"@seq\": \"7\", \"ce:initials\": \"I.\", \"@_fa\": \"true\", \"ce:surname\": \"Rafols\", \"ce:indexed-name\": \"Rafols I.\"}, {\"@seq\": \"8\", \"ce:initials\": \"K.\", \"@_fa\": \"true\", \"ce:surname\": \"B\\u00f6rner\", \"ce:indexed-name\": \"Borner K.\"}]}, \"ref-sourcetitle\": \"Journal of Informetrics\"}}, {\"ref-fulltext\": \"J. Wang, B. Thijs, and W. Gl\\u00e4nzel Interdisciplinarity and impact: Distinct effects of variety, balance, and disparity PLOS ONE 10 2015 e0127298 10.1371/journal.pone.0127298\", \"@id\": \"61\", \"ref-info\": {\"ref-publicationyear\": {\"@first\": \"2015\"}, \"ref-title\": {\"ref-titletext\": \"Interdisciplinarity and impact: Distinct effects of variety, balance, and disparity\"}, \"refd-itemidlist\": {\"itemid\": [{\"$\": \"10.1371/journal.pone.0127298\", \"@idtype\": \"DOI\"}, {\"$\": \"84930668471\", \"@idtype\": \"SGR\"}]}, \"ref-volisspag\": {\"voliss\": {\"@volume\": \"10\"}, \"pagerange\": {\"@first\": \"e0127298\"}}, \"ref-authors\": {\"author\": [{\"@seq\": \"1\", \"ce:initials\": \"J.\", \"@_fa\": \"true\", \"ce:surname\": \"Wang\", \"ce:indexed-name\": \"Wang J.\"}, {\"@seq\": \"2\", \"ce:initials\": \"B.\", \"@_fa\": \"true\", \"ce:surname\": \"Thijs\", \"ce:indexed-name\": \"Thijs B.\"}, {\"@seq\": \"3\", \"ce:initials\": \"W.\", \"@_fa\": \"true\", \"ce:surname\": \"Gl\\u00e4nzel\", \"ce:indexed-name\": \"Glanzel W.\"}]}, \"ref-sourcetitle\": \"PLOS ONE\"}}, {\"ref-fulltext\": \"L. Wang, A. Notten, and A. Surpatean Interdisciplinarity of nano research fields: A keyword mining approach Scientometrics 94 2013 877 892 10.1007/s11192-012-0856-9\", \"@id\": \"62\", \"ref-info\": {\"ref-publicationyear\": {\"@first\": \"2013\"}, \"ref-title\": {\"ref-titletext\": \"Interdisciplinarity of nano research fields: A keyword mining approach\"}, \"refd-itemidlist\": {\"itemid\": [{\"$\": \"10.1007/s11192-012-0856-9\", \"@idtype\": \"DOI\"}, {\"$\": \"84873747612\", \"@idtype\": \"SGR\"}]}, \"ref-volisspag\": {\"voliss\": {\"@volume\": \"94\"}, \"pagerange\": {\"@first\": \"877\", \"@last\": \"892\"}}, \"ref-authors\": {\"author\": [{\"@seq\": \"1\", \"ce:initials\": \"L.\", \"@_fa\": \"true\", \"ce:surname\": \"Wang\", \"ce:indexed-name\": \"Wang L.\"}, {\"@seq\": \"2\", \"ce:initials\": \"A.\", \"@_fa\": \"true\", \"ce:surname\": \"Notten\", \"ce:indexed-name\": \"Notten A.\"}, {\"@seq\": \"3\", \"ce:initials\": \"A.\", \"@_fa\": \"true\", \"ce:surname\": \"Surpatean\", \"ce:indexed-name\": \"Surpatean A.\"}]}, \"ref-sourcetitle\": \"Scientometrics\"}}, {\"ref-fulltext\": \"J. Whitfield Collaboration: Group theory Nature 455 2008 720 723 10.1038/455720a\", \"@id\": \"63\", \"ref-info\": {\"ref-publicationyear\": {\"@first\": \"2008\"}, \"ref-title\": {\"ref-titletext\": \"Collaboration: Group theory\"}, \"refd-itemidlist\": {\"itemid\": [{\"$\": \"10.1038/455720a\", \"@idtype\": \"DOI\"}, {\"$\": \"53649104614\", \"@idtype\": \"SGR\"}]}, \"ref-volisspag\": {\"voliss\": {\"@volume\": \"455\"}, \"pagerange\": {\"@first\": \"720\", \"@last\": \"723\"}}, \"ref-authors\": {\"author\": [{\"@seq\": \"1\", \"ce:initials\": \"J.\", \"@_fa\": \"true\", \"ce:surname\": \"Whitfield\", \"ce:indexed-name\": \"Whitfield J.\"}]}, \"ref-sourcetitle\": \"Nature\"}}, {\"ref-fulltext\": \"A. Wiggins, and S. Sawyer Intellectual diversity and the faculty composition of iSchools Journal of the American Society for Information Science and Technology 63 2012 8 21 10.1002/asi.21619\", \"@id\": \"64\", \"ref-info\": {\"ref-publicationyear\": {\"@first\": \"2012\"}, \"ref-title\": {\"ref-titletext\": \"Intellectual diversity and the faculty composition of iSchools\"}, \"refd-itemidlist\": {\"itemid\": [{\"$\": \"10.1002/asi.21619\", \"@idtype\": \"DOI\"}, {\"$\": \"83655167247\", \"@idtype\": \"SGR\"}]}, \"ref-volisspag\": {\"voliss\": {\"@volume\": \"63\"}, \"pagerange\": {\"@first\": \"8\", \"@last\": \"21\"}}, \"ref-authors\": {\"author\": [{\"@seq\": \"1\", \"ce:initials\": \"A.\", \"@_fa\": \"true\", \"ce:surname\": \"Wiggins\", \"ce:indexed-name\": \"Wiggins A.\"}, {\"@seq\": \"2\", \"ce:initials\": \"S.\", \"@_fa\": \"true\", \"ce:surname\": \"Sawyer\", \"ce:indexed-name\": \"Sawyer S.\"}]}, \"ref-sourcetitle\": \"Journal of the American Society for Information Science and Technology\"}}, {\"ref-fulltext\": \"D. Wilde Personalities into Mechanical Engineering 132 2010\", \"@id\": \"65\", \"ref-info\": {\"ref-publicationyear\": {\"@first\": \"2010\"}, \"ref-title\": {\"ref-titletext\": \"Personalities into\"}, \"refd-itemidlist\": {\"itemid\": {\"$\": \"85049563530\", \"@idtype\": \"SGR\"}}, \"ref-volisspag\": {\"voliss\": {\"@volume\": \"132\"}}, \"ref-authors\": {\"author\": [{\"@seq\": \"1\", \"ce:initials\": \"D.\", \"@_fa\": \"true\", \"ce:surname\": \"Wilde\", \"ce:indexed-name\": \"Wilde D.\"}]}, \"ref-sourcetitle\": \"Mechanical Engineering\"}}, {\"ref-fulltext\": \"R. Woolley, M. S\\u00e1nchez-Barrioluengo, T. Turpin, and J. Marceau Research collaboration in the social sciences: What factors are associated with disciplinary and interdisciplinary collaboration? Science and Public Policy 42 2015 567 582 10.1093/scipol/scu074\", \"@id\": \"66\", \"ref-info\": {\"ref-publicationyear\": {\"@first\": \"2015\"}, \"ref-title\": {\"ref-titletext\": \"Research collaboration in the social sciences: What factors are associated with disciplinary and interdisciplinary collaboration?\"}, \"refd-itemidlist\": {\"itemid\": [{\"$\": \"10.1093/scipol/scu074\", \"@idtype\": \"DOI\"}, {\"$\": \"84939516508\", \"@idtype\": \"SGR\"}]}, \"ref-volisspag\": {\"voliss\": {\"@volume\": \"42\"}, \"pagerange\": {\"@first\": \"567\", \"@last\": \"582\"}}, \"ref-authors\": {\"author\": [{\"@seq\": \"1\", \"ce:initials\": \"R.\", \"@_fa\": \"true\", \"ce:surname\": \"Woolley\", \"ce:indexed-name\": \"Woolley R.\"}, {\"@seq\": \"2\", \"ce:initials\": \"M.\", \"@_fa\": \"true\", \"ce:surname\": \"S\\u00e1nchez-Barrioluengo\", \"ce:indexed-name\": \"Sanchez-Barrioluengo M.\"}, {\"@seq\": \"3\", \"ce:initials\": \"T.\", \"@_fa\": \"true\", \"ce:surname\": \"Turpin\", \"ce:indexed-name\": \"Turpin T.\"}, {\"@seq\": \"4\", \"ce:initials\": \"J.\", \"@_fa\": \"true\", \"ce:surname\": \"Marceau\", \"ce:indexed-name\": \"Marceau J.\"}]}, \"ref-sourcetitle\": \"Science and Public Policy\"}}, {\"ref-fulltext\": \"S. Wuchty, B.F. Jones, and B. Uzzi The increasing dominance of teams in production of knowledge Science 2007 316\", \"@id\": \"67\", \"ref-info\": {\"ref-publicationyear\": {\"@first\": \"2007\"}, \"ref-title\": {\"ref-titletext\": \"The increasing dominance of teams in production of knowledge\"}, \"refd-itemidlist\": {\"itemid\": {\"$\": \"34249309179\", \"@idtype\": \"SGR\"}}, \"ref-volisspag\": {\"pagerange\": {\"@first\": \"316\"}}, \"ref-authors\": {\"author\": [{\"@seq\": \"1\", \"ce:initials\": \"S.\", \"@_fa\": \"true\", \"ce:surname\": \"Wuchty\", \"ce:indexed-name\": \"Wuchty S.\"}, {\"@seq\": \"2\", \"ce:initials\": \"B.F.\", \"@_fa\": \"true\", \"ce:surname\": \"Jones\", \"ce:indexed-name\": \"Jones B.F.\"}, {\"@seq\": \"3\", \"ce:initials\": \"B.\", \"@_fa\": \"true\", \"ce:surname\": \"Uzzi\", \"ce:indexed-name\": \"Uzzi B.\"}]}, \"ref-sourcetitle\": \"Science\"}}, {\"ref-fulltext\": \"Z. Xie, X. Duan, Z. Ouyang, and P. Zhang Quantitative analysis of the interdisciplinarity of applied mathematics PLOS ONE 2015 10 10.1371/journal.pone.0137424\", \"@id\": \"68\", \"ref-info\": {\"ref-publicationyear\": {\"@first\": \"2015\"}, \"ref-title\": {\"ref-titletext\": \"Quantitative analysis of the interdisciplinarity of applied mathematics\"}, \"refd-itemidlist\": {\"itemid\": [{\"$\": \"10.1371/journal.pone.0137424\", \"@idtype\": \"DOI\"}, {\"$\": \"84944769142\", \"@idtype\": \"SGR\"}]}, \"ref-volisspag\": {\"pagerange\": {\"@first\": \"10\"}}, \"ref-authors\": {\"author\": [{\"@seq\": \"1\", \"ce:initials\": \"Z.\", \"@_fa\": \"true\", \"ce:surname\": \"Xie\", \"ce:indexed-name\": \"Xie Z.\"}, {\"@seq\": \"2\", \"ce:initials\": \"X.\", \"@_fa\": \"true\", \"ce:surname\": \"Duan\", \"ce:indexed-name\": \"Duan X.\"}, {\"@seq\": \"3\", \"ce:initials\": \"Z.\", \"@_fa\": \"true\", \"ce:surname\": \"Ouyang\", \"ce:indexed-name\": \"Ouyang Z.\"}, {\"@seq\": \"4\", \"ce:initials\": \"P.\", \"@_fa\": \"true\", \"ce:surname\": \"Zhang\", \"ce:indexed-name\": \"Zhang P.\"}]}, \"ref-sourcetitle\": \"PLOS ONE\"}}, {\"ref-fulltext\": \"A. Yegros-Yegros, I. Rafols, and P. D'Este Does interdisciplinary research lead to higher citation impact? The different effect of proximal and distal interdisciplinarity PLoS ONE 10 2015 e0135095 10.1371/journal.pone.0135095\", \"@id\": \"69\", \"ref-info\": {\"ref-publicationyear\": {\"@first\": \"2015\"}, \"ref-title\": {\"ref-titletext\": \"Does interdisciplinary research lead to higher citation impact? the different effect of proximal and distal interdisciplinarity\"}, \"refd-itemidlist\": {\"itemid\": [{\"$\": \"10.1371/journal.pone.0135095\", \"@idtype\": \"DOI\"}, {\"$\": \"84942933406\", \"@idtype\": \"SGR\"}]}, \"ref-volisspag\": {\"voliss\": {\"@volume\": \"10\"}, \"pagerange\": {\"@first\": \"e0135095\"}}, \"ref-authors\": {\"author\": [{\"@seq\": \"1\", \"ce:initials\": \"A.\", \"@_fa\": \"true\", \"ce:surname\": \"Yegros-Yegros\", \"ce:indexed-name\": \"Yegros-Yegros A.\"}, {\"@seq\": \"2\", \"ce:initials\": \"I.\", \"@_fa\": \"true\", \"ce:surname\": \"Rafols\", \"ce:indexed-name\": \"Rafols I.\"}, {\"@seq\": \"3\", \"ce:initials\": \"P.\", \"@_fa\": \"true\", \"ce:surname\": \"D'Este\", \"ce:indexed-name\": \"D'Este P.\"}]}, \"ref-sourcetitle\": \"PLoS ONE\"}}, {\"ref-fulltext\": \"K. Zhang, and K. Pelechrinis Understanding spatial homophily Proceedings of the 23rd international conference on World wide web - WWW '14 ACM Press 2014 271 282 10.1145/2566486.2567990\", \"@id\": \"70\", \"ref-info\": {\"ref-publicationyear\": {\"@first\": \"2014\"}, \"ref-title\": {\"ref-titletext\": \"Understanding spatial homophily\"}, \"refd-itemidlist\": {\"itemid\": [{\"$\": \"10.1145/2566486.2567990\", \"@idtype\": \"DOI\"}, {\"$\": \"84909584611\", \"@idtype\": \"SGR\"}]}, \"ref-volisspag\": {\"pagerange\": {\"@first\": \"271\", \"@last\": \"282\"}}, \"ref-text\": \"ACM Press\", \"ref-authors\": {\"author\": [{\"@seq\": \"1\", \"ce:initials\": \"K.\", \"@_fa\": \"true\", \"ce:surname\": \"Zhang\", \"ce:indexed-name\": \"Zhang K.\"}, {\"@seq\": \"2\", \"ce:initials\": \"K.\", \"@_fa\": \"true\", \"ce:surname\": \"Pelechrinis\", \"ce:indexed-name\": \"Pelechrinis K.\"}]}, \"ref-sourcetitle\": \"Proceedings of the 23rd International Conference on World Wide Web - WWW '14\"}}, {\"ref-fulltext\": \"K. Zhao, L.M. Ngamassi, J. Yen, C. Maitland, and A. Tapia Assortativity patterns in multi-dimensional inter-organizational networks: A case study of the humanitarian relief sector Lecture notes in computer science (including subseries Lecture Notes in Artificial Intelligence and Lecture Notes in Bioinformatics) Vol. 6007 2010 LNCS 265 272 10.1007/978-3-642-12079-4-33\", \"@id\": \"71\", \"ref-info\": {\"ref-publicationyear\": {\"@first\": \"2010\"}, \"ref-title\": {\"ref-titletext\": \"Assortativity patterns in multi-dimensional inter-organizational networks: A case study of the humanitarian relief sector\"}, \"refd-itemidlist\": {\"itemid\": [{\"$\": \"10.1007/978-3-642-12079-4_33\", \"@idtype\": \"DOI\"}, {\"$\": \"78649252163\", \"@idtype\": \"SGR\"}]}, \"ref-volisspag\": {\"voliss\": {\"@volume\": \"6007\"}, \"pagerange\": {\"@first\": \"265\", \"@last\": \"272\"}}, \"ref-text\": \"LNCS\", \"ref-authors\": {\"author\": [{\"@seq\": \"1\", \"ce:initials\": \"K.\", \"@_fa\": \"true\", \"ce:surname\": \"Zhao\", \"ce:indexed-name\": \"Zhao K.\"}, {\"@seq\": \"2\", \"ce:initials\": \"L.M.\", \"@_fa\": \"true\", \"ce:surname\": \"Ngamassi\", \"ce:indexed-name\": \"Ngamassi L.M.\"}, {\"@seq\": \"3\", \"ce:initials\": \"J.\", \"@_fa\": \"true\", \"ce:surname\": \"Yen\", \"ce:indexed-name\": \"Yen J.\"}, {\"@seq\": \"4\", \"ce:initials\": \"C.\", \"@_fa\": \"true\", \"ce:surname\": \"Maitland\", \"ce:indexed-name\": \"Maitland C.\"}, {\"@seq\": \"5\", \"ce:initials\": \"A.\", \"@_fa\": \"true\", \"ce:surname\": \"Tapia\", \"ce:indexed-name\": \"Tapia A.\"}]}, \"ref-sourcetitle\": \"Lecture Notes in Computer Science (Including Subseries Lecture Notes in Artificial Intelligence and Lecture Notes in Bioinformatics)\"}}, {\"ref-fulltext\": \"X. Zhao, B. Huo, W. Selen, and J.H.Y. Yeung The impact of internal integration and relationship commitment on external integration Journal of Operations Management 29 2011 17 32 10.1016/j.jom.2010.04.004\", \"@id\": \"72\", \"ref-info\": {\"ref-publicationyear\": {\"@first\": \"2011\"}, \"ref-title\": {\"ref-titletext\": \"The impact of internal integration and relationship commitment on external integration\"}, \"refd-itemidlist\": {\"itemid\": [{\"$\": \"10.1016/j.jom.2010.04.004\", \"@idtype\": \"DOI\"}, {\"$\": \"79951575629\", \"@idtype\": \"SGR\"}]}, \"ref-volisspag\": {\"voliss\": {\"@volume\": \"29\"}, \"pagerange\": {\"@first\": \"17\", \"@last\": \"32\"}}, \"ref-authors\": {\"author\": [{\"@seq\": \"1\", \"ce:initials\": \"X.\", \"@_fa\": \"true\", \"ce:surname\": \"Zhao\", \"ce:indexed-name\": \"Zhao X.\"}, {\"@seq\": \"2\", \"ce:initials\": \"B.\", \"@_fa\": \"true\", \"ce:surname\": \"Huo\", \"ce:indexed-name\": \"Huo B.\"}, {\"@seq\": \"3\", \"ce:initials\": \"W.\", \"@_fa\": \"true\", \"ce:surname\": \"Selen\", \"ce:indexed-name\": \"Selen W.\"}, {\"@seq\": \"4\", \"ce:initials\": \"J.H.Y.\", \"@_fa\": \"true\", \"ce:surname\": \"Yeung\", \"ce:indexed-name\": \"Yeung J.H.Y.\"}]}, \"ref-sourcetitle\": \"Journal of Operations Management\"}}, {\"ref-fulltext\": \"Y. Zhu, E. Yan, and M. Song Understanding the evolving academic landscape of library and information science through faculty hiring data Scientometrics 108 2016 1461 1478 10.1007/s11192-016-2033-z\", \"@id\": \"73\", \"ref-info\": {\"ref-publicationyear\": {\"@first\": \"2016\"}, \"ref-title\": {\"ref-titletext\": \"Understanding the evolving academic landscape of library and information science through faculty hiring data\"}, \"refd-itemidlist\": {\"itemid\": [{\"$\": \"10.1007/s11192-016-2033-z\", \"@idtype\": \"DOI\"}, {\"$\": \"84976320561\", \"@idtype\": \"SGR\"}]}, \"ref-volisspag\": {\"voliss\": {\"@volume\": \"108\"}, \"pagerange\": {\"@first\": \"1461\", \"@last\": \"1478\"}}, \"ref-authors\": {\"author\": [{\"@seq\": \"1\", \"ce:initials\": \"Y.\", \"@_fa\": \"true\", \"ce:surname\": \"Zhu\", \"ce:indexed-name\": \"Zhu Y.\"}, {\"@seq\": \"2\", \"ce:initials\": \"E.\", \"@_fa\": \"true\", \"ce:surname\": \"Yan\", \"ce:indexed-name\": \"Yan E.\"}, {\"@seq\": \"3\", \"ce:initials\": \"M.\", \"@_fa\": \"true\", \"ce:surname\": \"Song\", \"ce:indexed-name\": \"Song M.\"}]}, \"ref-sourcetitle\": \"Scientometrics\"}}, {\"ref-fulltext\": \"Z. Zuo, K. Zhao, and D. Eichmann The state and evolution of U.S. iSchools: From talent acquisitions to research outcome Journal of the Association for Information Science and Technology 68 2017 1266 1277 10.1002/asi.23751\", \"@id\": \"74\", \"ref-info\": {\"ref-publicationyear\": {\"@first\": \"2017\"}, \"ref-title\": {\"ref-titletext\": \"The state and evolution of U.S. ISchools: From talent acquisitions to research outcome\"}, \"refd-itemidlist\": {\"itemid\": [{\"$\": \"10.1002/asi.23751\", \"@idtype\": \"DOI\"}, {\"$\": \"85004154180\", \"@idtype\": \"SGR\"}]}, \"ref-volisspag\": {\"voliss\": {\"@volume\": \"68\"}, \"pagerange\": {\"@first\": \"1266\", \"@last\": \"1277\"}}, \"ref-authors\": {\"author\": [{\"@seq\": \"1\", \"ce:initials\": \"Z.\", \"@_fa\": \"true\", \"ce:surname\": \"Zuo\", \"ce:indexed-name\": \"Zuo Z.\"}, {\"@seq\": \"2\", \"ce:initials\": \"K.\", \"@_fa\": \"true\", \"ce:surname\": \"Zhao\", \"ce:indexed-name\": \"Zhao K.\"}, {\"@seq\": \"3\", \"ce:initials\": \"D.\", \"@_fa\": \"true\", \"ce:surname\": \"Eichmann\", \"ce:indexed-name\": \"Eichmann D.\"}]}, \"ref-sourcetitle\": \"Journal of the Association for Information Science and Technology\"}}]}}}}, \"affiliation\": {\"affiliation-city\": \"Iowa City\", \"@id\": \"60024324\", \"affilname\": \"University of Iowa\", \"@href\": \"https://api.elsevier.com/content/affiliation/affiliation_id/60024324\", \"affiliation-country\": \"United States\"}, \"coredata\": {\"srctype\": \"j\", \"eid\": \"2-s2.0-85049552190\", \"dc:description\": \"\\u00a9 2018 Elsevier Ltd. All rights reserved. Scientific research is increasingly relying on collaborations to address complex real-world problems. Many researchers, policymakers, and administrators consider a multidisciplinary environment an important factor for fostering research collaborations, especially interdisciplinary ones that involve researchers from different disciplines. However, it remains unknown whether a higher level of multidisciplinarity within an academic institution is associated with internal collaborations that are more prevalent and more interdisciplinary. Analyzing 90,000 publications by 2500 faculty members in over 100 academic institutions from three multidisciplinary areas, information, public policy, and neuroscience, we investigated the connection between multidisciplinarity and research collaborations. Based on social network analysis and text mining, our analysis suggests that more multidisciplinary institutions are not necessarily more collaborative, although they do feature collaborations that are more interdisciplinary. Our findings provide implications for academic administrators and policymakers to promote research collaborations and interdisciplinarity in academic institutions.\", \"prism:coverDate\": \"2018-08-01\", \"prism:aggregationType\": \"Journal\", \"prism:url\": \"https://api.elsevier.com/content/abstract/scopus_id/85049552190\", \"dc:creator\": {\"author\": [{\"ce:given-name\": \"Zhiya\", \"preferred-name\": {\"ce:given-name\": \"Zhiya\", \"ce:initials\": \"Z.\", \"ce:surname\": \"Zuo\", \"ce:indexed-name\": \"Zuo Z.\"}, \"@seq\": \"1\", \"ce:initials\": \"Z.\", \"@_fa\": \"true\", \"affiliation\": {\"@id\": \"60024324\", \"@href\": \"https://api.elsevier.com/content/affiliation/affiliation_id/60024324\"}, \"ce:surname\": \"Zuo\", \"@auid\": \"57189222659\", \"author-url\": \"https://api.elsevier.com/content/author/author_id/57189222659\", \"ce:indexed-name\": \"Zuo Z.\"}]}, \"link\": [{\"@_fa\": \"true\", \"@rel\": \"self\", \"@href\": \"https://api.elsevier.com/content/abstract/scopus_id/85049552190\"}, {\"@_fa\": \"true\", \"@rel\": \"scopus\", \"@href\": \"https://www.scopus.com/inward/record.uri?partnerID=HzOxMe3b&scp=85049552190&origin=inward\"}, {\"@_fa\": \"true\", \"@rel\": \"scopus-citedby\", \"@href\": \"https://www.scopus.com/inward/citedby.uri?partnerID=HzOxMe3b&scp=85049552190&origin=inward\"}], \"source-id\": \"5100155103\", \"pii\": \"S1751157718300452\", \"citedby-count\": \"1\", \"prism:volume\": \"12\", \"subtype\": \"ar\", \"dc:title\": \"The more multidisciplinary the better? - The prevalence and interdisciplinarity of research collaborations in multidisciplinary institutions\", \"openaccess\": \"0\", \"prism:issn\": \"18755879 17511577\", \"prism:issueIdentifier\": \"3\", \"subtypeDescription\": \"Article\", \"prism:publicationName\": \"Journal of Informetrics\", \"prism:pageRange\": \"736-756\", \"prism:endingPage\": \"756\", \"openaccessFlag\": \"false\", \"prism:doi\": \"10.1016/j.joi.2018.06.006\", \"prism:startingPage\": \"736\", \"dc:identifier\": \"SCOPUS_ID:85049552190\", \"dc:publisher\": \"Elsevier Ltd\"}, \"idxterms\": {\"mainterm\": [{\"$\": \"Academic administrators\", \"@weight\": \"b\", \"@candidate\": \"n\"}, {\"$\": \"Academic institutions\", \"@weight\": \"b\", \"@candidate\": \"n\"}, {\"$\": \"Collaboration\", \"@weight\": \"b\", \"@candidate\": \"n\"}, {\"$\": \"Interdisciplinarity\", \"@weight\": \"b\", \"@candidate\": \"n\"}, {\"$\": \"Multidisciplinarity\", \"@weight\": \"b\", \"@candidate\": \"n\"}, {\"$\": \"Research collaborations\", \"@weight\": \"b\", \"@candidate\": \"n\"}, {\"$\": \"Scientific researches\", \"@weight\": \"b\", \"@candidate\": \"n\"}, {\"$\": \"Text mining\", \"@weight\": \"b\", \"@candidate\": \"n\"}]}, \"language\": {\"@xml:lang\": \"eng\"}, \"authkeywords\": {\"author-keyword\": [{\"@_fa\": \"true\", \"$\": \"Collaboration\"}, {\"@_fa\": \"true\", \"$\": \"Interdisciplinarity\"}, {\"@_fa\": \"true\", \"$\": \"Multidisciplinarity\"}, {\"@_fa\": \"true\", \"$\": \"Network analysis\"}, {\"@_fa\": \"true\", \"$\": \"Text mining\"}]}, \"subject-areas\": {\"subject-area\": [{\"@_fa\": \"true\", \"$\": \"Computer Science Applications\", \"@code\": \"1706\", \"@abbrev\": \"COMP\"}, {\"@_fa\": \"true\", \"$\": \"Library and Information Sciences\", \"@code\": \"3309\", \"@abbrev\": \"SOCI\"}]}, \"authors\": {\"author\": [{\"ce:given-name\": \"Zhiya\", \"preferred-name\": {\"ce:given-name\": \"Zhiya\", \"ce:initials\": \"Z.\", \"ce:surname\": \"Zuo\", \"ce:indexed-name\": \"Zuo Z.\"}, \"@seq\": \"1\", \"ce:initials\": \"Z.\", \"@_fa\": \"true\", \"affiliation\": {\"@id\": \"60024324\", \"@href\": \"https://api.elsevier.com/content/affiliation/affiliation_id/60024324\"}, \"ce:surname\": \"Zuo\", \"@auid\": \"57189222659\", \"author-url\": \"https://api.elsevier.com/content/author/author_id/57189222659\", \"ce:indexed-name\": \"Zuo Z.\"}, {\"ce:given-name\": \"Kang\", \"preferred-name\": {\"ce:given-name\": \"Kang\", \"ce:initials\": \"K.\", \"ce:surname\": \"Zhao\", \"ce:indexed-name\": \"Zhao K.\"}, \"@seq\": \"2\", \"ce:initials\": \"K.\", \"@_fa\": \"true\", \"affiliation\": {\"@id\": \"60024324\", \"@href\": \"https://api.elsevier.com/content/affiliation/affiliation_id/60024324\"}, \"ce:surname\": \"Zhao\", \"@auid\": \"36635367700\", \"author-url\": \"https://api.elsevier.com/content/author/author_id/36635367700\", \"ce:indexed-name\": \"Zhao K.\"}]}}}"
     ]
    }
   ],
   "source": [
    "cat 85049552190.json"
   ]
  },
  {
   "cell_type": "markdown",
   "metadata": {},
   "source": [
    "<hr>"
   ]
  },
  {
   "cell_type": "markdown",
   "metadata": {},
   "source": [
    "Note that __Searching for articles in specific journals (venues) is not supported anymore since this can be easily done by `general search`__."
   ]
  },
  {
   "cell_type": "markdown",
   "metadata": {},
   "source": [
    "<hr>"
   ]
  },
  {
   "cell_type": "markdown",
   "metadata": {},
   "source": [
    "### Citation count retrieval"
   ]
  },
  {
   "cell_type": "markdown",
   "metadata": {},
   "source": [
    "__Note that the use of `citation overview API` needs to be approved by Elsevier.__"
   ]
  },
  {
   "cell_type": "code",
   "execution_count": 23,
   "metadata": {
    "ExecuteTime": {
     "end_time": "2019-01-26T23:49:53.217591Z",
     "start_time": "2019-01-26T23:49:52.792653Z"
    }
   },
   "outputs": [],
   "source": [
    "pub_citations_df = scopus.retrieve_citation(scopus_id_array=['85049552190', '85004154180'],\n",
    "                                            year_range=[2016, 2018])"
   ]
  },
  {
   "cell_type": "code",
   "execution_count": 24,
   "metadata": {
    "ExecuteTime": {
     "end_time": "2019-01-26T23:49:53.229930Z",
     "start_time": "2019-01-26T23:49:53.219987Z"
    }
   },
   "outputs": [
    {
     "name": "stdout",
     "output_type": "stream",
     "text": [
      "     scopus_id previous_citation 2016 2017 2018 later_citation total_citation\n",
      "0  85004154180                 0    0    1    2              0              3\n",
      "1  85049552190                 0    0    0    1              0              1\n"
     ]
    }
   ],
   "source": [
    "print(pub_citations_df)"
   ]
  },
  {
   "cell_type": "markdown",
   "metadata": {},
   "source": [
    "---"
   ]
  },
  {
   "cell_type": "markdown",
   "metadata": {},
   "source": [
    "### Serial Title Metadata"
   ]
  },
  {
   "cell_type": "markdown",
   "metadata": {},
   "source": [
    "If interested in meta information and metrics at publication venue level (e.g., journal/conference), we can now use `search_serial` or `retrieve_serial`"
   ]
  },
  {
   "cell_type": "markdown",
   "metadata": {},
   "source": [
    "#### Search by title"
   ]
  },
  {
   "cell_type": "code",
   "execution_count": 25,
   "metadata": {
    "ExecuteTime": {
     "end_time": "2019-01-26T23:49:53.601045Z",
     "start_time": "2019-01-26T23:49:53.232502Z"
    }
   },
   "outputs": [
    {
     "data": {
      "text/html": [
       "<div>\n",
       "<style scoped>\n",
       "    .dataframe tbody tr th:only-of-type {\n",
       "        vertical-align: middle;\n",
       "    }\n",
       "\n",
       "    .dataframe tbody tr th {\n",
       "        vertical-align: top;\n",
       "    }\n",
       "\n",
       "    .dataframe thead th {\n",
       "        text-align: right;\n",
       "    }\n",
       "</style>\n",
       "<table border=\"1\" class=\"dataframe\">\n",
       "  <thead>\n",
       "    <tr style=\"text-align: right;\">\n",
       "      <th></th>\n",
       "      <th>dc:publisher</th>\n",
       "      <th>dc:title</th>\n",
       "      <th>oaAllowsAuthorPaid</th>\n",
       "      <th>openArchiveArticle</th>\n",
       "      <th>openaccess</th>\n",
       "      <th>openaccessArticle</th>\n",
       "      <th>openaccessStartDate</th>\n",
       "      <th>openaccessType</th>\n",
       "      <th>prism:aggregationType</th>\n",
       "      <th>prism:issn</th>\n",
       "      <th>source-id</th>\n",
       "      <th>subject-area</th>\n",
       "    </tr>\n",
       "  </thead>\n",
       "  <tbody>\n",
       "    <tr>\n",
       "      <th>0</th>\n",
       "      <td>Elsevier BV</td>\n",
       "      <td>Journal of Informetrics</td>\n",
       "      <td>True</td>\n",
       "      <td>False</td>\n",
       "      <td>0</td>\n",
       "      <td>False</td>\n",
       "      <td>None</td>\n",
       "      <td>None</td>\n",
       "      <td>journal</td>\n",
       "      <td>1751-1577</td>\n",
       "      <td>5100155103</td>\n",
       "      <td>[1706, 3309]</td>\n",
       "    </tr>\n",
       "  </tbody>\n",
       "</table>\n",
       "</div>"
      ],
      "text/plain": [
       "  dc:publisher                 dc:title  oaAllowsAuthorPaid  \\\n",
       "0  Elsevier BV  Journal of Informetrics                True   \n",
       "\n",
       "   openArchiveArticle openaccess  openaccessArticle openaccessStartDate  \\\n",
       "0               False          0              False                None   \n",
       "\n",
       "  openaccessType prism:aggregationType prism:issn   source-id  subject-area  \n",
       "0           None               journal  1751-1577  5100155103  [1706, 3309]  "
      ]
     },
     "execution_count": 25,
     "metadata": {},
     "output_type": "execute_result"
    }
   ],
   "source": [
    "meta_df, citescore_df, sj_rank_df = scopus.search_serial('informetrics')\n",
    "meta_df"
   ]
  },
  {
   "cell_type": "markdown",
   "metadata": {
    "ExecuteTime": {
     "end_time": "2018-10-09T13:36:27.501991Z",
     "start_time": "2018-10-09T13:36:27.496401Z"
    }
   },
   "source": [
    "See more about [CiteScore](https://www.cwts.nl/blog?article=n-q2y254)"
   ]
  },
  {
   "cell_type": "code",
   "execution_count": 26,
   "metadata": {
    "ExecuteTime": {
     "end_time": "2019-01-26T23:49:53.624675Z",
     "start_time": "2019-01-26T23:49:53.603471Z"
    }
   },
   "outputs": [
    {
     "data": {
      "text/html": [
       "<div>\n",
       "<style scoped>\n",
       "    .dataframe tbody tr th:only-of-type {\n",
       "        vertical-align: middle;\n",
       "    }\n",
       "\n",
       "    .dataframe tbody tr th {\n",
       "        vertical-align: top;\n",
       "    }\n",
       "\n",
       "    .dataframe thead th {\n",
       "        text-align: right;\n",
       "    }\n",
       "</style>\n",
       "<table border=\"1\" class=\"dataframe\">\n",
       "  <thead>\n",
       "    <tr style=\"text-align: right;\">\n",
       "      <th></th>\n",
       "      <th>citationCount</th>\n",
       "      <th>citeScore</th>\n",
       "      <th>docType</th>\n",
       "      <th>percentCited</th>\n",
       "      <th>scholarlyOutput</th>\n",
       "      <th>status</th>\n",
       "      <th>year</th>\n",
       "      <th>source-id</th>\n",
       "      <th>prism:issn</th>\n",
       "    </tr>\n",
       "  </thead>\n",
       "  <tbody>\n",
       "    <tr>\n",
       "      <th>0</th>\n",
       "      <td>1010</td>\n",
       "      <td>3.44</td>\n",
       "      <td>all</td>\n",
       "      <td>77</td>\n",
       "      <td>294</td>\n",
       "      <td>In-Progress</td>\n",
       "      <td>2018</td>\n",
       "      <td>5100155103</td>\n",
       "      <td>1751-1577</td>\n",
       "    </tr>\n",
       "    <tr>\n",
       "      <th>1</th>\n",
       "      <td>985</td>\n",
       "      <td>3.52</td>\n",
       "      <td>all</td>\n",
       "      <td>80</td>\n",
       "      <td>280</td>\n",
       "      <td>Complete</td>\n",
       "      <td>2017</td>\n",
       "      <td>5100155103</td>\n",
       "      <td>1751-1577</td>\n",
       "    </tr>\n",
       "    <tr>\n",
       "      <th>2</th>\n",
       "      <td>835</td>\n",
       "      <td>2.99</td>\n",
       "      <td>all</td>\n",
       "      <td>73</td>\n",
       "      <td>279</td>\n",
       "      <td>Complete</td>\n",
       "      <td>2016</td>\n",
       "      <td>5100155103</td>\n",
       "      <td>1751-1577</td>\n",
       "    </tr>\n",
       "    <tr>\n",
       "      <th>3</th>\n",
       "      <td>706</td>\n",
       "      <td>2.60</td>\n",
       "      <td>all</td>\n",
       "      <td>74</td>\n",
       "      <td>272</td>\n",
       "      <td>Complete</td>\n",
       "      <td>2015</td>\n",
       "      <td>5100155103</td>\n",
       "      <td>1751-1577</td>\n",
       "    </tr>\n",
       "    <tr>\n",
       "      <th>4</th>\n",
       "      <td>713</td>\n",
       "      <td>2.89</td>\n",
       "      <td>all</td>\n",
       "      <td>82</td>\n",
       "      <td>247</td>\n",
       "      <td>Complete</td>\n",
       "      <td>2014</td>\n",
       "      <td>5100155103</td>\n",
       "      <td>1751-1577</td>\n",
       "    </tr>\n",
       "    <tr>\n",
       "      <th>5</th>\n",
       "      <td>938</td>\n",
       "      <td>4.38</td>\n",
       "      <td>all</td>\n",
       "      <td>87</td>\n",
       "      <td>214</td>\n",
       "      <td>Complete</td>\n",
       "      <td>2013</td>\n",
       "      <td>5100155103</td>\n",
       "      <td>1751-1577</td>\n",
       "    </tr>\n",
       "    <tr>\n",
       "      <th>6</th>\n",
       "      <td>782</td>\n",
       "      <td>4.55</td>\n",
       "      <td>all</td>\n",
       "      <td>90</td>\n",
       "      <td>172</td>\n",
       "      <td>Complete</td>\n",
       "      <td>2012</td>\n",
       "      <td>5100155103</td>\n",
       "      <td>1751-1577</td>\n",
       "    </tr>\n",
       "    <tr>\n",
       "      <th>7</th>\n",
       "      <td>550</td>\n",
       "      <td>3.96</td>\n",
       "      <td>all</td>\n",
       "      <td>79</td>\n",
       "      <td>139</td>\n",
       "      <td>Complete</td>\n",
       "      <td>2011</td>\n",
       "      <td>5100155103</td>\n",
       "      <td>1751-1577</td>\n",
       "    </tr>\n",
       "  </tbody>\n",
       "</table>\n",
       "</div>"
      ],
      "text/plain": [
       "  citationCount citeScore docType percentCited scholarlyOutput       status  \\\n",
       "0          1010      3.44     all           77             294  In-Progress   \n",
       "1           985      3.52     all           80             280     Complete   \n",
       "2           835      2.99     all           73             279     Complete   \n",
       "3           706      2.60     all           74             272     Complete   \n",
       "4           713      2.89     all           82             247     Complete   \n",
       "5           938      4.38     all           87             214     Complete   \n",
       "6           782      4.55     all           90             172     Complete   \n",
       "7           550      3.96     all           79             139     Complete   \n",
       "\n",
       "   year   source-id prism:issn  \n",
       "0  2018  5100155103  1751-1577  \n",
       "1  2017  5100155103  1751-1577  \n",
       "2  2016  5100155103  1751-1577  \n",
       "3  2015  5100155103  1751-1577  \n",
       "4  2014  5100155103  1751-1577  \n",
       "5  2013  5100155103  1751-1577  \n",
       "6  2012  5100155103  1751-1577  \n",
       "7  2011  5100155103  1751-1577  "
      ]
     },
     "execution_count": 26,
     "metadata": {},
     "output_type": "execute_result"
    }
   ],
   "source": [
    "citescore_df"
   ]
  },
  {
   "cell_type": "markdown",
   "metadata": {},
   "source": [
    "The last dataframe below lists the rank/percentile of this serial in each subject area it is assigned to across years \n",
    "- More about subject area code in Scopus [link](https://service.elsevier.com/app/answers/detail/a_id/15181/supporthub/scopus/related/1/)"
   ]
  },
  {
   "cell_type": "code",
   "execution_count": 27,
   "metadata": {
    "ExecuteTime": {
     "end_time": "2019-01-26T23:49:53.644335Z",
     "start_time": "2019-01-26T23:49:53.627356Z"
    }
   },
   "outputs": [
    {
     "data": {
      "text/html": [
       "<div>\n",
       "<style scoped>\n",
       "    .dataframe tbody tr th:only-of-type {\n",
       "        vertical-align: middle;\n",
       "    }\n",
       "\n",
       "    .dataframe tbody tr th {\n",
       "        vertical-align: top;\n",
       "    }\n",
       "\n",
       "    .dataframe thead th {\n",
       "        text-align: right;\n",
       "    }\n",
       "</style>\n",
       "<table border=\"1\" class=\"dataframe\">\n",
       "  <thead>\n",
       "    <tr style=\"text-align: right;\">\n",
       "      <th></th>\n",
       "      <th>percentile</th>\n",
       "      <th>rank</th>\n",
       "      <th>subjectCode</th>\n",
       "      <th>year</th>\n",
       "      <th>source-id</th>\n",
       "      <th>prism:issn</th>\n",
       "    </tr>\n",
       "  </thead>\n",
       "  <tbody>\n",
       "    <tr>\n",
       "      <th>0</th>\n",
       "      <td>82</td>\n",
       "      <td>102</td>\n",
       "      <td>1706</td>\n",
       "      <td>2018</td>\n",
       "      <td>5100155103</td>\n",
       "      <td>1751-1577</td>\n",
       "    </tr>\n",
       "    <tr>\n",
       "      <th>1</th>\n",
       "      <td>92</td>\n",
       "      <td>16</td>\n",
       "      <td>3309</td>\n",
       "      <td>2018</td>\n",
       "      <td>5100155103</td>\n",
       "      <td>1751-1577</td>\n",
       "    </tr>\n",
       "  </tbody>\n",
       "</table>\n",
       "</div>"
      ],
      "text/plain": [
       "  percentile rank subjectCode  year   source-id prism:issn\n",
       "0         82  102        1706  2018  5100155103  1751-1577\n",
       "1         92   16        3309  2018  5100155103  1751-1577"
      ]
     },
     "execution_count": 27,
     "metadata": {},
     "output_type": "execute_result"
    }
   ],
   "source": [
    "sj_rank_df.head(2)"
   ]
  },
  {
   "cell_type": "markdown",
   "metadata": {},
   "source": [
    "#### Retrieve by ISSN"
   ]
  },
  {
   "cell_type": "markdown",
   "metadata": {},
   "source": [
    "Given a ISSN, we can use `retrieve_serial`:"
   ]
  },
  {
   "cell_type": "code",
   "execution_count": 28,
   "metadata": {
    "ExecuteTime": {
     "end_time": "2019-01-26T23:49:53.909390Z",
     "start_time": "2019-01-26T23:49:53.646860Z"
    }
   },
   "outputs": [
    {
     "data": {
      "text/html": [
       "<div>\n",
       "<style scoped>\n",
       "    .dataframe tbody tr th:only-of-type {\n",
       "        vertical-align: middle;\n",
       "    }\n",
       "\n",
       "    .dataframe tbody tr th {\n",
       "        vertical-align: top;\n",
       "    }\n",
       "\n",
       "    .dataframe thead th {\n",
       "        text-align: right;\n",
       "    }\n",
       "</style>\n",
       "<table border=\"1\" class=\"dataframe\">\n",
       "  <thead>\n",
       "    <tr style=\"text-align: right;\">\n",
       "      <th></th>\n",
       "      <th>dc:publisher</th>\n",
       "      <th>dc:title</th>\n",
       "      <th>oaAllowsAuthorPaid</th>\n",
       "      <th>openArchiveArticle</th>\n",
       "      <th>openaccess</th>\n",
       "      <th>openaccessArticle</th>\n",
       "      <th>openaccessStartDate</th>\n",
       "      <th>openaccessType</th>\n",
       "      <th>prism:aggregationType</th>\n",
       "      <th>prism:eIssn</th>\n",
       "      <th>prism:issn</th>\n",
       "      <th>source-id</th>\n",
       "      <th>subject-area</th>\n",
       "    </tr>\n",
       "  </thead>\n",
       "  <tbody>\n",
       "    <tr>\n",
       "      <th>0</th>\n",
       "      <td>John Wiley and Sons Ltd</td>\n",
       "      <td>Journal of the Association for Information Sci...</td>\n",
       "      <td>None</td>\n",
       "      <td>None</td>\n",
       "      <td>None</td>\n",
       "      <td>None</td>\n",
       "      <td>None</td>\n",
       "      <td>None</td>\n",
       "      <td>journal</td>\n",
       "      <td>2330-1643</td>\n",
       "      <td>2330-1635</td>\n",
       "      <td>21100307484</td>\n",
       "      <td>[1710, 1705, 1802, 3309]</td>\n",
       "    </tr>\n",
       "  </tbody>\n",
       "</table>\n",
       "</div>"
      ],
      "text/plain": [
       "              dc:publisher                                           dc:title  \\\n",
       "0  John Wiley and Sons Ltd  Journal of the Association for Information Sci...   \n",
       "\n",
       "  oaAllowsAuthorPaid openArchiveArticle openaccess openaccessArticle  \\\n",
       "0               None               None       None              None   \n",
       "\n",
       "  openaccessStartDate openaccessType prism:aggregationType prism:eIssn  \\\n",
       "0                None           None               journal   2330-1643   \n",
       "\n",
       "  prism:issn    source-id              subject-area  \n",
       "0  2330-1635  21100307484  [1710, 1705, 1802, 3309]  "
      ]
     },
     "execution_count": 28,
     "metadata": {},
     "output_type": "execute_result"
    }
   ],
   "source": [
    "meta_df, citescore_df, sj_rank_df = scopus.retrieve_serial('2330-1643')\n",
    "meta_df"
   ]
  },
  {
   "cell_type": "code",
   "execution_count": 29,
   "metadata": {
    "ExecuteTime": {
     "end_time": "2019-01-26T23:49:53.931066Z",
     "start_time": "2019-01-26T23:49:53.912065Z"
    }
   },
   "outputs": [
    {
     "data": {
      "text/html": [
       "<div>\n",
       "<style scoped>\n",
       "    .dataframe tbody tr th:only-of-type {\n",
       "        vertical-align: middle;\n",
       "    }\n",
       "\n",
       "    .dataframe tbody tr th {\n",
       "        vertical-align: top;\n",
       "    }\n",
       "\n",
       "    .dataframe thead th {\n",
       "        text-align: right;\n",
       "    }\n",
       "</style>\n",
       "<table border=\"1\" class=\"dataframe\">\n",
       "  <thead>\n",
       "    <tr style=\"text-align: right;\">\n",
       "      <th></th>\n",
       "      <th>citationCount</th>\n",
       "      <th>citeScore</th>\n",
       "      <th>docType</th>\n",
       "      <th>percentCited</th>\n",
       "      <th>scholarlyOutput</th>\n",
       "      <th>status</th>\n",
       "      <th>year</th>\n",
       "      <th>source-id</th>\n",
       "      <th>prism:issn</th>\n",
       "    </tr>\n",
       "  </thead>\n",
       "  <tbody>\n",
       "    <tr>\n",
       "      <th>0</th>\n",
       "      <td>2225</td>\n",
       "      <td>3.48</td>\n",
       "      <td>all</td>\n",
       "      <td>76</td>\n",
       "      <td>640</td>\n",
       "      <td>In-Progress</td>\n",
       "      <td>2018</td>\n",
       "      <td>21100307484</td>\n",
       "      <td>2330-1635</td>\n",
       "    </tr>\n",
       "    <tr>\n",
       "      <th>1</th>\n",
       "      <td>2088</td>\n",
       "      <td>3.36</td>\n",
       "      <td>all</td>\n",
       "      <td>75</td>\n",
       "      <td>621</td>\n",
       "      <td>Complete</td>\n",
       "      <td>2017</td>\n",
       "      <td>21100307484</td>\n",
       "      <td>2330-1635</td>\n",
       "    </tr>\n",
       "    <tr>\n",
       "      <th>2</th>\n",
       "      <td>1657</td>\n",
       "      <td>2.74</td>\n",
       "      <td>all</td>\n",
       "      <td>71</td>\n",
       "      <td>605</td>\n",
       "      <td>Complete</td>\n",
       "      <td>2016</td>\n",
       "      <td>21100307484</td>\n",
       "      <td>2330-1635</td>\n",
       "    </tr>\n",
       "    <tr>\n",
       "      <th>3</th>\n",
       "      <td>364</td>\n",
       "      <td>2.25</td>\n",
       "      <td>all</td>\n",
       "      <td>73</td>\n",
       "      <td>162</td>\n",
       "      <td>Complete</td>\n",
       "      <td>2015</td>\n",
       "      <td>21100307484</td>\n",
       "      <td>2330-1635</td>\n",
       "    </tr>\n",
       "  </tbody>\n",
       "</table>\n",
       "</div>"
      ],
      "text/plain": [
       "  citationCount citeScore docType percentCited scholarlyOutput       status  \\\n",
       "0          2225      3.48     all           76             640  In-Progress   \n",
       "1          2088      3.36     all           75             621     Complete   \n",
       "2          1657      2.74     all           71             605     Complete   \n",
       "3           364      2.25     all           73             162     Complete   \n",
       "\n",
       "   year    source-id prism:issn  \n",
       "0  2018  21100307484  2330-1635  \n",
       "1  2017  21100307484  2330-1635  \n",
       "2  2016  21100307484  2330-1635  \n",
       "3  2015  21100307484  2330-1635  "
      ]
     },
     "execution_count": 29,
     "metadata": {},
     "output_type": "execute_result"
    }
   ],
   "source": [
    "citescore_df"
   ]
  },
  {
   "cell_type": "code",
   "execution_count": 30,
   "metadata": {
    "ExecuteTime": {
     "end_time": "2019-01-26T23:49:53.950236Z",
     "start_time": "2019-01-26T23:49:53.933719Z"
    }
   },
   "outputs": [
    {
     "data": {
      "text/html": [
       "<div>\n",
       "<style scoped>\n",
       "    .dataframe tbody tr th:only-of-type {\n",
       "        vertical-align: middle;\n",
       "    }\n",
       "\n",
       "    .dataframe tbody tr th {\n",
       "        vertical-align: top;\n",
       "    }\n",
       "\n",
       "    .dataframe thead th {\n",
       "        text-align: right;\n",
       "    }\n",
       "</style>\n",
       "<table border=\"1\" class=\"dataframe\">\n",
       "  <thead>\n",
       "    <tr style=\"text-align: right;\">\n",
       "      <th></th>\n",
       "      <th>percentile</th>\n",
       "      <th>rank</th>\n",
       "      <th>subjectCode</th>\n",
       "      <th>year</th>\n",
       "      <th>source-id</th>\n",
       "      <th>prism:issn</th>\n",
       "    </tr>\n",
       "  </thead>\n",
       "  <tbody>\n",
       "    <tr>\n",
       "      <th>0</th>\n",
       "      <td>82</td>\n",
       "      <td>48</td>\n",
       "      <td>1710</td>\n",
       "      <td>2018</td>\n",
       "      <td>21100307484</td>\n",
       "      <td>2330-1635</td>\n",
       "    </tr>\n",
       "    <tr>\n",
       "      <th>1</th>\n",
       "      <td>83</td>\n",
       "      <td>47</td>\n",
       "      <td>1705</td>\n",
       "      <td>2018</td>\n",
       "      <td>21100307484</td>\n",
       "      <td>2330-1635</td>\n",
       "    </tr>\n",
       "  </tbody>\n",
       "</table>\n",
       "</div>"
      ],
      "text/plain": [
       "  percentile rank subjectCode  year    source-id prism:issn\n",
       "0         82   48        1710  2018  21100307484  2330-1635\n",
       "1         83   47        1705  2018  21100307484  2330-1635"
      ]
     },
     "execution_count": 30,
     "metadata": {},
     "output_type": "execute_result"
    }
   ],
   "source": [
    "sj_rank_df.head(2)"
   ]
  },
  {
   "cell_type": "markdown",
   "metadata": {},
   "source": [
    "---"
   ]
  },
  {
   "cell_type": "markdown",
   "metadata": {},
   "source": [
    "### Affiliation"
   ]
  },
  {
   "cell_type": "code",
   "execution_count": 31,
   "metadata": {
    "ExecuteTime": {
     "end_time": "2019-01-26T23:49:54.217561Z",
     "start_time": "2019-01-26T23:49:53.952816Z"
    }
   },
   "outputs": [
    {
     "data": {
      "text/plain": [
       "{'eid': '10-s2.0-60024324',\n",
       " 'affiliation-name': 'University of Iowa',\n",
       " 'address': None,\n",
       " 'city': 'Iowa City',\n",
       " 'country': 'United States',\n",
       " 'org-type': 'univ',\n",
       " 'org-domain': 'uiowa.edu',\n",
       " 'org-URL': 'http://www.uiowa.edu/',\n",
       " 'date-created': '02/02/2008',\n",
       " 'aff_id': '60024324'}"
      ]
     },
     "execution_count": 31,
     "metadata": {},
     "output_type": "execute_result"
    }
   ],
   "source": [
    "uiowa = scopus.retrieve_affiliation('60024324')\n",
    "uiowa"
   ]
  }
 ],
 "metadata": {
  "kernelspec": {
   "display_name": "Python 3",
   "language": "python",
   "name": "python3"
  },
  "language_info": {
   "codemirror_mode": {
    "name": "ipython",
    "version": 3
   },
   "file_extension": ".py",
   "mimetype": "text/x-python",
   "name": "python",
   "nbconvert_exporter": "python",
   "pygments_lexer": "ipython3",
   "version": "3.6.4"
  },
  "toc": {
   "base_numbering": 1,
   "nav_menu": {},
   "number_sections": true,
   "sideBar": true,
   "skip_h1_title": false,
   "title_cell": "Table of Contents",
   "title_sidebar": "Contents",
   "toc_cell": false,
   "toc_position": {
    "height": "823px",
    "left": "0px",
    "right": "1468px",
    "top": "126px",
    "width": "212px"
   },
   "toc_section_display": "block",
   "toc_window_display": true
  },
  "varInspector": {
   "cols": {
    "lenName": 16,
    "lenType": 16,
    "lenVar": 40
   },
   "kernels_config": {
    "python": {
     "delete_cmd_postfix": "",
     "delete_cmd_prefix": "del ",
     "library": "var_list.py",
     "varRefreshCmd": "print(var_dic_list())"
    },
    "r": {
     "delete_cmd_postfix": ") ",
     "delete_cmd_prefix": "rm(",
     "library": "var_list.r",
     "varRefreshCmd": "cat(var_dic_list()) "
    }
   },
   "types_to_exclude": [
    "module",
    "function",
    "builtin_function_or_method",
    "instance",
    "_Feature"
   ],
   "window_display": false
  }
 },
 "nbformat": 4,
 "nbformat_minor": 2
}
