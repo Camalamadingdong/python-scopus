{
 "cells": [
  {
   "cell_type": "markdown",
   "metadata": {},
   "source": [
    "__PyScopus__: Quick Start"
   ]
  },
  {
   "cell_type": "markdown",
   "metadata": {},
   "source": [
    "__PyScopus__ is a Python wrapper of [Elsevier Scopus API](https://dev.elsevier.com/). More details of this Python package can be found [here](http://zhiyzuo.github.io/python-scopus/)."
   ]
  },
  {
   "cell_type": "markdown",
   "metadata": {},
   "source": [
    "<hr>"
   ]
  },
  {
   "cell_type": "markdown",
   "metadata": {},
   "source": [
    "Import `Scopus` class and initialize with your own __API Key__"
   ]
  },
  {
   "cell_type": "code",
   "execution_count": 1,
   "metadata": {
    "ExecuteTime": {
     "end_time": "2017-12-28T05:44:42.382977Z",
     "start_time": "2017-12-28T05:44:41.303417Z"
    }
   },
   "outputs": [
    {
     "data": {
      "text/plain": [
       "'0.8rc5'"
      ]
     },
     "execution_count": 1,
     "metadata": {},
     "output_type": "execute_result"
    }
   ],
   "source": [
    "import pyscopus\n",
    "pyscopus.__version__"
   ]
  },
  {
   "cell_type": "code",
   "execution_count": 2,
   "metadata": {
    "ExecuteTime": {
     "end_time": "2017-12-28T05:44:42.386239Z",
     "start_time": "2017-12-28T05:44:42.384375Z"
    },
    "init_cell": true
   },
   "outputs": [],
   "source": [
    "from pyscopus import Scopus"
   ]
  },
  {
   "cell_type": "code",
   "execution_count": 3,
   "metadata": {
    "ExecuteTime": {
     "end_time": "2017-12-28T05:44:42.416742Z",
     "start_time": "2017-12-28T05:44:42.391319Z"
    },
    "init_cell": true
   },
   "outputs": [],
   "source": [
    "key = '59f496c6387d78fd91240fbe4d33918f'"
   ]
  },
  {
   "cell_type": "code",
   "execution_count": 4,
   "metadata": {
    "ExecuteTime": {
     "end_time": "2017-12-28T05:44:42.441446Z",
     "start_time": "2017-12-28T05:44:42.418076Z"
    },
    "init_cell": true
   },
   "outputs": [],
   "source": [
    "scopus = Scopus(key)"
   ]
  },
  {
   "cell_type": "markdown",
   "metadata": {},
   "source": [
    "<hr>"
   ]
  },
  {
   "cell_type": "markdown",
   "metadata": {},
   "source": [
    "### General Search"
   ]
  },
  {
   "cell_type": "code",
   "execution_count": 5,
   "metadata": {
    "ExecuteTime": {
     "end_time": "2017-12-28T05:44:43.919260Z",
     "start_time": "2017-12-28T05:44:43.201467Z"
    }
   },
   "outputs": [],
   "source": [
    "search_df = scopus.search(\"KEY(interdisciplinary collaboration)\", count=20)"
   ]
  },
  {
   "cell_type": "code",
   "execution_count": 6,
   "metadata": {
    "ExecuteTime": {
     "end_time": "2017-12-28T05:44:43.964470Z",
     "start_time": "2017-12-28T05:44:43.920510Z"
    },
    "scrolled": true
   },
   "outputs": [
    {
     "name": "stdout",
     "output_type": "stream",
     "text": [
      "                                          affiliation aggregation_type  \\\n",
      "0   [{'name': 'Beijing Normal University', 'city':...          Journal   \n",
      "1   [{'name': 'University of Nebraska at Omaha', '...          Journal   \n",
      "2   [{'name': 'Philadelphia University', 'city': '...          Journal   \n",
      "3   [{'name': 'University of California, San Franc...          Journal   \n",
      "4   [{'name': 'Technische Universitat Wien', 'city...          Journal   \n",
      "5   [{'name': 'Monash University', 'city': 'Melbou...          Journal   \n",
      "6   [{'name': 'Virginia Polytechnic Institute and ...      Book Series   \n",
      "7   [{'name': 'University of Wisconsin School of M...          Journal   \n",
      "8   [{'name': 'Swinburne University of Technology'...          Journal   \n",
      "9   [{'name': 'University of Missouri School of Me...          Journal   \n",
      "10  [{'name': 'Brigham and Women's Hospital', 'cit...          Journal   \n",
      "11  [{'name': 'Universite Nice Sophia Antipolis', ...          Journal   \n",
      "12  [{'name': 'University of South Carolina', 'cit...          Journal   \n",
      "13  [{'name': 'Douglas Mental Health University In...          Journal   \n",
      "14  [{'name': 'Children and Screens: Institute of ...          Journal   \n",
      "15  [{'name': 'Universitatea Politehnica din Timis...          Journal   \n",
      "16  [{'name': 'Universita degli Studi di Milano', ...          Journal   \n",
      "17  [{'name': 'Baylor College of Medicine', 'city'...          Journal   \n",
      "18  [{'name': 'University of Florida', 'city': 'Ga...          Journal   \n",
      "19  [{'name': 'Medizinische Hochschule Hannover (M...          Journal   \n",
      "\n",
      "    citation_count  cover_date                                 doi     eissn  \\\n",
      "0                0  2018-05-01     10.1016/j.scitotenv.2017.11.326  18791026   \n",
      "1                0  2018-02-01           10.1016/j.pcl.2017.08.027  15578240   \n",
      "2                0  2018-02-01           10.1016/j.pcl.2017.08.020  15578240   \n",
      "3                0  2018-02-01          10.1016/j.iccn.2017.07.001      None   \n",
      "4                0  2018-02-01        10.1016/j.respol.2017.09.010      None   \n",
      "5                0  2018-01-02       10.1080/13561820.2017.1381077  14699567   \n",
      "6                0  2018-01-01        10.1007/978-3-319-60937-9_27      None   \n",
      "7                1  2018-01-01          10.1016/j.acra.2017.05.020  18784046   \n",
      "8                0  2017-12-02       10.1080/09544828.2017.1395395  14661837   \n",
      "9                0  2017-12-01            10.1177/1049909117693577  19382715   \n",
      "10               0  2017-12-01        10.1016/j.anclin.2017.07.005  22103538   \n",
      "11               0  2017-12-01           10.1007/s12520-014-0185-4  18669565   \n",
      "12               0  2017-12-01        10.1016/j.soscij.2017.07.009      None   \n",
      "13               1  2017-12-01           10.1007/s11126-017-9500-4  15736709   \n",
      "14               0  2017-11-01             10.1542/peds.2016-1758B  10984275   \n",
      "15               0  2017-11-01  10.1061/(ASCE)SU.1943-5428.0000218      None   \n",
      "16               0  2017-11-01        10.1016/j.compag.2017.09.030      None   \n",
      "17               0  2017-11-01              10.1542/peds.2017-0505  10984275   \n",
      "18               0  2017-11-01             10.1111/1556-4029.13470  15564029   \n",
      "19               0  2017-11-01               10.1055/s-0043-119290  14393824   \n",
      "\n",
      "             isbn      issn page_range  \\\n",
      "0            None  00489697    493-501   \n",
      "1            None  00313955    143-155   \n",
      "2            None  00313955      47-57   \n",
      "3            None  09643397      18-23   \n",
      "4            None  00487333      35-48   \n",
      "5            None  13561820      63-68   \n",
      "6   9783319609362  21945357    352-367   \n",
      "7            None  10766332       9-17   \n",
      "8            None  09544828    765-798   \n",
      "9            None  10499091    901-906   \n",
      "10           None  19322275    601-610   \n",
      "11           None  18669557  1603-1612   \n",
      "12           None  03623319    458-467   \n",
      "13           None  00332720    827-838   \n",
      "14           None  00314005    S51-S56   \n",
      "15           None  07339453       None   \n",
      "16           None  01681699    424-428   \n",
      "17           None  00314005       None   \n",
      "18           None  00221198  1647-1654   \n",
      "19           None  03008630    316-321   \n",
      "\n",
      "                                     publication_name    scopus_id  \\\n",
      "0                    Science of the Total Environment  85036647140   \n",
      "1                  Pediatric Clinics of North America  85035032871   \n",
      "2                  Pediatric Clinics of North America  85035066203   \n",
      "3                 Intensive and Critical Care Nursing  85028624027   \n",
      "4                                     Research Policy  85033491209   \n",
      "5                   Journal of Interprofessional Care  85031933779   \n",
      "6       Advances in Intelligent Systems and Computing  85025807393   \n",
      "7                                  Academic Radiology  85028323720   \n",
      "8                       Journal of Engineering Design  85033437283   \n",
      "9   American Journal of Hospice and Palliative Med...  85032888667   \n",
      "10                             Anesthesiology Clinics  85034242478   \n",
      "11        Archaeological and Anthropological Sciences  85036562680   \n",
      "12                             Social Science Journal  85028332507   \n",
      "13                              Psychiatric Quarterly  85013059761   \n",
      "14                                         Pediatrics  85034023085   \n",
      "15                   Journal of Surveying Engineering  85018978233   \n",
      "16           Computers and Electronics in Agriculture  85030118345   \n",
      "17                                         Pediatrics  85034101645   \n",
      "18                       Journal of Forensic Sciences  85018991781   \n",
      "19                                Klinische Padiatrie  85031940447   \n",
      "\n",
      "   subtype_description                                              title  \\\n",
      "0               Review  Climate change and dengue fever transmission i...   \n",
      "1               Review  Interprofessional Collaborative Practice in Ea...   \n",
      "2               Review  Supporting Children with Autism and Their Fami...   \n",
      "3              Article  Impact of surgical intensive care unit interdi...   \n",
      "4              Article  Gaining insight into interdisciplinary researc...   \n",
      "5              Article  Translation and psychometric evaluation of the...   \n",
      "6     Conference Paper  A virtual learning system in environmental mon...   \n",
      "7               Review  Promoting Collaborations Between Radiologists ...   \n",
      "8              Article  Implementing shared function modelling in prac...   \n",
      "9              Article  A Qualitative Analysis of Information Sharing ...   \n",
      "10              Review        Use of Anesthesiology Services in Radiology   \n",
      "11             Article  Together in the field: interdisciplinary work ...   \n",
      "12             Article  Team science: A qualitative study of benefits,...   \n",
      "13             Article  Profiles of mental health care professionals b...   \n",
      "14              Review                                       Introduction   \n",
      "15             Article  Road-structure monitoring with modern geodetic...   \n",
      "16             Article  Application note: Labelling, a methodology to ...   \n",
      "17              Review                  Bringing back the term \"intersex\"   \n",
      "18             Article  Skeletal Indicators of Shark Feeding on Human ...   \n",
      "19    Conference Paper  SICKODevelopment of a Multi-Disciplinary Train...   \n",
      "\n",
      "     volume  \n",
      "0   622-623  \n",
      "1        65  \n",
      "2        65  \n",
      "3        44  \n",
      "4        47  \n",
      "5        32  \n",
      "6       627  \n",
      "7        25  \n",
      "8        28  \n",
      "9        34  \n",
      "10       35  \n",
      "11        9  \n",
      "12       54  \n",
      "13       88  \n",
      "14      140  \n",
      "15      143  \n",
      "16      142  \n",
      "17      140  \n",
      "18       62  \n",
      "19      229  \n"
     ]
    }
   ],
   "source": [
    "print(search_df)"
   ]
  },
  {
   "cell_type": "markdown",
   "metadata": {},
   "source": [
    "<hr>"
   ]
  },
  {
   "cell_type": "markdown",
   "metadata": {},
   "source": [
    "#### Search for a specific author"
   ]
  },
  {
   "cell_type": "code",
   "execution_count": 8,
   "metadata": {
    "ExecuteTime": {
     "end_time": "2017-12-28T05:39:41.044944Z",
     "start_time": "2017-12-28T05:39:40.842842Z"
    }
   },
   "outputs": [],
   "source": [
    "author_result_df = scopus.search_author(\"AUTHLASTNAME(Zhao) and AUTHFIRST(Kang) and AFFIL(Iowa)\")"
   ]
  },
  {
   "cell_type": "code",
   "execution_count": 9,
   "metadata": {
    "ExecuteTime": {
     "end_time": "2017-12-28T05:39:42.833916Z",
     "start_time": "2017-12-28T05:39:42.828807Z"
    }
   },
   "outputs": [
    {
     "name": "stdout",
     "output_type": "stream",
     "text": [
      "          affiliation affiliation_id    author_id  document_count       name\n",
      "0  University of Iowa       60024324  36635367700              39  Kang Zhao\n",
      "1  University of Iowa       60024324  57077574400               1  Kang Zhao\n"
     ]
    }
   ],
   "source": [
    "print(author_result_df)"
   ]
  },
  {
   "cell_type": "markdown",
   "metadata": {},
   "source": [
    "Then we can retrieve more detailed info about the author we are looking for using his/her __author_id__:"
   ]
  },
  {
   "cell_type": "code",
   "execution_count": 10,
   "metadata": {
    "ExecuteTime": {
     "end_time": "2017-12-28T05:39:46.760112Z",
     "start_time": "2017-12-28T05:39:46.507726Z"
    }
   },
   "outputs": [],
   "source": [
    "kang_info_dict = scopus.retrieve_author('36635367700')"
   ]
  },
  {
   "cell_type": "code",
   "execution_count": 11,
   "metadata": {
    "ExecuteTime": {
     "end_time": "2017-12-28T05:39:48.496520Z",
     "start_time": "2017-12-28T05:39:48.493662Z"
    },
    "scrolled": true
   },
   "outputs": [
    {
     "data": {
      "text/plain": [
       "dict_keys(['author-id', 'eid', 'document-count', 'cited-by-count', 'citation-count', 'name', 'last', 'first', 'indexed-name', 'publication-range', 'affiliation-current', 'journal-history', 'affiliation-history'])"
      ]
     },
     "execution_count": 11,
     "metadata": {},
     "output_type": "execute_result"
    }
   ],
   "source": [
    "kang_info_dict.keys()"
   ]
  },
  {
   "cell_type": "code",
   "execution_count": 12,
   "metadata": {
    "ExecuteTime": {
     "end_time": "2017-12-28T05:39:52.611497Z",
     "start_time": "2017-12-28T05:39:52.604736Z"
    }
   },
   "outputs": [
    {
     "name": "stdout",
     "output_type": "stream",
     "text": [
      "          id                                               name parent-id  \\\n",
      "0   60024324                                 University of Iowa      None   \n",
      "1  104227060  University of Iowa, Department of Management S...  60024324   \n",
      "2  104227074     University of Iowa, Tippie College of Business  60024324   \n",
      "3  109230131  University of Iowa, Interdisciplinary Graduate...  60024324   \n",
      "4  105050101  Pennsylvania State University, College of Info...  60001439   \n",
      "5   60001439                      Pennsylvania State University      None   \n",
      "\n",
      "                                         parent-name                    url  \\\n",
      "0                                               None  http://www.uiowa.edu/   \n",
      "1  {'@source': 'internal-ani', '$': 'University o...  http://www.uiowa.edu/   \n",
      "2  {'@source': 'internal-ani', '$': 'University o...  http://www.uiowa.edu/   \n",
      "3  {'@source': 'internal-ani', '$': 'University o...  http://www.uiowa.edu/   \n",
      "4  {'@source': 'internal-ani', '$': 'Pennsylvania...    http://www.psu.edu/   \n",
      "5                                               None    http://www.psu.edu/   \n",
      "\n",
      "                                 address  \n",
      "0      usa, Iowa City, IA, United States  \n",
      "1      usa, Iowa City, IA, United States  \n",
      "2      usa, Iowa City, IA, United States  \n",
      "3      usa, Iowa City, IA, United States  \n",
      "4  usa, State College, PA, United States  \n",
      "5  usa, State College, PA, United States  \n"
     ]
    }
   ],
   "source": [
    "print(kang_info_dict['affiliation-history'])"
   ]
  },
  {
   "cell_type": "markdown",
   "metadata": {},
   "source": [
    "Search for his publications explicitly"
   ]
  },
  {
   "cell_type": "code",
   "execution_count": 13,
   "metadata": {
    "ExecuteTime": {
     "end_time": "2017-12-28T05:40:00.226684Z",
     "start_time": "2017-12-28T05:39:59.126296Z"
    }
   },
   "outputs": [],
   "source": [
    "kang_pub_df = scopus.search_author_publication('36635367700')"
   ]
  },
  {
   "cell_type": "code",
   "execution_count": 14,
   "metadata": {
    "ExecuteTime": {
     "end_time": "2017-12-28T05:40:05.999000Z",
     "start_time": "2017-12-28T05:40:05.970658Z"
    },
    "scrolled": true
   },
   "outputs": [
    {
     "name": "stdout",
     "output_type": "stream",
     "text": [
      "                                          affiliation       aggregation_type  \\\n",
      "0   [{'name': 'Schroeder Institute for Tobacco Res...                Journal   \n",
      "1   [{'name': 'Battelle', 'city': 'Columbus', 'cou...                Journal   \n",
      "2   [{'name': 'Schroeder Institute for Tobacco Res...                Journal   \n",
      "3   [{'name': 'University of Iowa', 'city': 'Iowa ...                Journal   \n",
      "4   [{'name': 'University of Iowa', 'city': 'Iowa ...                Journal   \n",
      "5   [{'name': 'University of Iowa', 'city': 'Iowa ...                Journal   \n",
      "6   [{'name': 'University of Iowa', 'city': 'Iowa ...                Journal   \n",
      "7   [{'name': 'University of Iowa', 'city': 'Iowa ...            Book Series   \n",
      "8   [{'name': 'University of Iowa', 'city': 'Iowa ...  Conference Proceeding   \n",
      "9   [{'name': 'University of Iowa', 'city': 'Iowa ...                Journal   \n",
      "10  [{'name': 'University of Iowa', 'city': 'Iowa ...                Journal   \n",
      "11  [{'name': 'University of Iowa', 'city': 'Iowa ...  Conference Proceeding   \n",
      "12  [{'name': 'University of Iowa', 'city': 'Iowa ...            Book Series   \n",
      "13  [{'name': 'University of Iowa', 'city': 'Iowa ...  Conference Proceeding   \n",
      "14  [{'name': 'University of Iowa', 'city': 'Iowa ...  Conference Proceeding   \n",
      "15  [{'name': 'University of Iowa', 'city': 'Iowa ...  Conference Proceeding   \n",
      "16  [{'name': 'University of Iowa', 'city': 'Iowa ...                Journal   \n",
      "17  [{'name': 'University of Iowa', 'city': 'Iowa ...            Book Series   \n",
      "18  [{'name': 'University of Iowa', 'city': 'Iowa ...                Journal   \n",
      "19  [{'name': 'Pennsylvania State University', 'ci...  Conference Proceeding   \n",
      "20  [{'name': 'American Cancer Society', 'city': '...            Book Series   \n",
      "21  [{'name': 'University of Iowa', 'city': 'Iowa ...                Journal   \n",
      "22  [{'name': 'Pennsylvania State University', 'ci...            Book Series   \n",
      "23  [{'name': 'Pennsylvania State University', 'ci...                   Book   \n",
      "24  [{'name': 'Pennsylvania State University', 'ci...                Journal   \n",
      "25  [{'name': 'Battelle', 'city': 'Columbus', 'cou...                Journal   \n",
      "26  [{'name': 'Schroeder Institute for Tobacco Res...                Journal   \n",
      "27  [{'name': 'University of Iowa', 'city': 'Iowa ...                Journal   \n",
      "28  [{'name': 'University of Iowa', 'city': 'Iowa ...                Journal   \n",
      "29  [{'name': 'University of Iowa', 'city': 'Iowa ...                Journal   \n",
      "30  [{'name': 'University of Iowa', 'city': 'Iowa ...                Journal   \n",
      "31  [{'name': 'University of Iowa', 'city': 'Iowa ...            Book Series   \n",
      "32  [{'name': 'University of Iowa', 'city': 'Iowa ...  Conference Proceeding   \n",
      "33  [{'name': 'University of Iowa', 'city': 'Iowa ...                Journal   \n",
      "34  [{'name': 'University of Iowa', 'city': 'Iowa ...                Journal   \n",
      "35  [{'name': 'University of Iowa', 'city': 'Iowa ...  Conference Proceeding   \n",
      "36  [{'name': 'University of Iowa', 'city': 'Iowa ...            Book Series   \n",
      "37  [{'name': 'University of Iowa', 'city': 'Iowa ...  Conference Proceeding   \n",
      "38  [{'name': 'University of Iowa', 'city': 'Iowa ...  Conference Proceeding   \n",
      "\n",
      "    citation_count  cover_date                              doi     eissn  \\\n",
      "0                1  2017-12-01        10.1007/s13142-016-0458-9  16139860   \n",
      "1                0  2017-09-01        10.15288/jsad.2017.78.665  19384114   \n",
      "2                0  2017-08-01     10.1371/journal.pone.0183655  19326203   \n",
      "3                0  2017-05-01                10.1002/asi.23751  23301643   \n",
      "4                2  2017-04-01                10.2196/jmir.6834  14388871   \n",
      "5                3  2016-08-01                10.2196/jmir.5985  14388871   \n",
      "6                1  2016-07-02    10.1080/07421222.2016.1243969  1557928X   \n",
      "7                0  2016-01-01     10.1007/978-3-319-47874-6_34  16113349   \n",
      "8                0  2015-12-08             10.1109/ICHI.2015.12      None   \n",
      "9                2  2015-11-01        10.1007/s10257-014-0260-5  16179854   \n",
      "10               1  2015-11-01             10.1109/MIS.2015.111      None   \n",
      "11               0  2015-01-01                             None      None   \n",
      "12               2  2015-01-01     10.1007/978-3-319-16268-3_41  16113349   \n",
      "13               1  2015-01-01                             None      None   \n",
      "14               0  2015-01-01                             None      None   \n",
      "15               1  2014-01-01                             None      None   \n",
      "16              10  2014-01-01             10.1109/MIS.2013.104      None   \n",
      "17              15  2014-01-01     10.1007/978-3-319-08416-9_10  16113349   \n",
      "18              29  2014-01-01      10.1136/amiajnl-2013-002282  1527974X   \n",
      "19               0  2013-12-01                             None      None   \n",
      "20              23  2013-12-01    10.1093/jncimonographs/lgt025  17456614   \n",
      "21               3  2013-11-01        10.1007/s11280-012-0167-3      None   \n",
      "22               2  2013-03-14     10.1007/978-3-642-37210-0_25  16113349   \n",
      "23               1  2013-02-28  10.4018/978-1-4666-2922-6.ch006      None   \n",
      "24              10  2012-01-01         10.1177/0037549711421942  17413133   \n",
      "25               0  2017-09-01        10.15288/jsad.2017.78.665  19384114   \n",
      "26               0  2017-08-01     10.1371/journal.pone.0183655  19326203   \n",
      "27               0  2017-05-01                10.1002/asi.23751  23301643   \n",
      "28               2  2017-04-01                10.2196/jmir.6834  14388871   \n",
      "29               3  2016-08-01                10.2196/jmir.5985  14388871   \n",
      "30               1  2016-07-02    10.1080/07421222.2016.1243969  1557928X   \n",
      "31               0  2016-01-01     10.1007/978-3-319-47874-6_34  16113349   \n",
      "32               0  2015-12-08             10.1109/ICHI.2015.12      None   \n",
      "33               2  2015-11-01        10.1007/s10257-014-0260-5  16179854   \n",
      "34               1  2015-11-01             10.1109/MIS.2015.111      None   \n",
      "35               0  2015-01-01                             None      None   \n",
      "36               2  2015-01-01     10.1007/978-3-319-16268-3_41  16113349   \n",
      "37               1  2015-01-01                             None      None   \n",
      "38               0  2015-01-01                             None      None   \n",
      "\n",
      "             isbn      issn page_range  \\\n",
      "0            None  18696716    816-820   \n",
      "1            None  19371888    665-673   \n",
      "2            None      None       None   \n",
      "3            None  23301635  1266-1277   \n",
      "4            None      None       None   \n",
      "5            None      None       None   \n",
      "6            None  07421222    874-903   \n",
      "7   9783319478739  03029743    500-513   \n",
      "8   9781467395489      None      48-56   \n",
      "9            None  16179846    629-645   \n",
      "10           None  15411672      12-29   \n",
      "11           None      None       None   \n",
      "12  9783319162676  03029743    345-349   \n",
      "13           None      None       None   \n",
      "14           None      None       None   \n",
      "15           None      None       None   \n",
      "16           None  15411672      27-35   \n",
      "17  9783319084152  03029743     97-110   \n",
      "18           None      None       None   \n",
      "19  9781629934266      None  2552-2558   \n",
      "20           None  10526773    195-198   \n",
      "21           None  1386145X    621-644   \n",
      "22  9783642372094  03029743    231-239   \n",
      "23  9781466629233      None     87-112   \n",
      "24           None  00375497    617-633   \n",
      "25           None  19371888    665-673   \n",
      "26           None      None       None   \n",
      "27           None  23301635  1266-1277   \n",
      "28           None      None       None   \n",
      "29           None      None       None   \n",
      "30           None  07421222    874-903   \n",
      "31  9783319478739  03029743    500-513   \n",
      "32  9781467395489      None      48-56   \n",
      "33           None  16179846    629-645   \n",
      "34           None  15411672      12-29   \n",
      "35           None      None       None   \n",
      "36  9783319162676  03029743    345-349   \n",
      "37           None      None       None   \n",
      "38           None      None       None   \n",
      "\n",
      "                                     publication_name    scopus_id  \\\n",
      "0                   Translational Behavioral Medicine  85028411704   \n",
      "1             Journal of Studies on Alcohol and Drugs  85029921164   \n",
      "2                                            PLoS ONE  85028414910   \n",
      "3   Journal of the Association for Information Sci...  85004154180   \n",
      "4                Journal of Medical Internet Research  85018754892   \n",
      "5                Journal of Medical Internet Research  84989904178   \n",
      "6           Journal of Management Information Systems  85003001629   \n",
      "7   Lecture Notes in Computer Science (including s...  84995379893   \n",
      "8   Proceedings - 2015 IEEE International Conferen...  84966453564   \n",
      "9       Information Systems and e-Business Management  84948992373   \n",
      "10                           IEEE Intelligent Systems  84960845090   \n",
      "11  25th Annual Workshop on Information Technologi...  85006974860   \n",
      "12  Lecture Notes in Computer Science (including s...  84925337405   \n",
      "13  Pacific Asia Conference on Information Systems...  85011032472   \n",
      "14  25th Annual Workshop on Information Technologi...  85006998469   \n",
      "15  Proceedings - Pacific Asia Conference on Infor...  84928618086   \n",
      "16                           IEEE Intelligent Systems  84903157217   \n",
      "17  Lecture Notes in Computer Science (including s...  84905259236   \n",
      "18  Journal of the American Medical Informatics As...  84905286162   \n",
      "19  International Conference on Information System...  84897819669   \n",
      "20  Journal of the National Cancer Institute - Mon...  84892456267   \n",
      "21                                     World Wide Web  84885942201   \n",
      "22  Lecture Notes in Computer Science (including s...  84874792067   \n",
      "23  Information Systems and Modern Society: Social...  84946210765   \n",
      "24                                         SIMULATION  84860146956   \n",
      "25            Journal of Studies on Alcohol and Drugs  85029921164   \n",
      "26                                           PLoS ONE  85028414910   \n",
      "27  Journal of the Association for Information Sci...  85004154180   \n",
      "28               Journal of Medical Internet Research  85018754892   \n",
      "29               Journal of Medical Internet Research  84989904178   \n",
      "30          Journal of Management Information Systems  85003001629   \n",
      "31  Lecture Notes in Computer Science (including s...  84995379893   \n",
      "32  Proceedings - 2015 IEEE International Conferen...  84966453564   \n",
      "33      Information Systems and e-Business Management  84948992373   \n",
      "34                           IEEE Intelligent Systems  84960845090   \n",
      "35  25th Annual Workshop on Information Technologi...  85006974860   \n",
      "36  Lecture Notes in Computer Science (including s...  84925337405   \n",
      "37  Pacific Asia Conference on Information Systems...  85011032472   \n",
      "38  25th Annual Workshop on Information Technologi...  85006998469   \n",
      "\n",
      "   subtype_description                                              title  \\\n",
      "0                 Note  The failure to increase social support: it jus...   \n",
      "1              Article  A descriptive study of the prevalence and typo...   \n",
      "2              Article  A prospective examination of online social net...   \n",
      "3              Article  The state and evolution of U.S. iSchools: From...   \n",
      "4               Review  Analyzing and predicting user participations i...   \n",
      "5              Article  A multirelational social network analysis of a...   \n",
      "6              Article  Early Predictions of Movie Success: The Who, W...   \n",
      "7     Conference Paper  Investigating regional prejudice in China thro...   \n",
      "8     Conference Paper  The evolution and diffusion of user roles in o...   \n",
      "9              Article  Leader identification in an online health comm...   \n",
      "10             Article  System Informatics: From Methodology to Applic...   \n",
      "11    Conference Paper  The diffusion of user roles via social network...   \n",
      "12    Conference Paper  Early prediction of movie success-what, who, a...   \n",
      "13    Conference Paper  The evolution of user roles in online health c...   \n",
      "14    Conference Paper  The structure and dynamics of a multi-relation...   \n",
      "15    Conference Paper  Social support and user engagement in online h...   \n",
      "16             Article  User recommendations in reciprocal and biparti...   \n",
      "17    Conference Paper  Social support and user engagement in online h...   \n",
      "18             Article  Finding influential users of online health com...   \n",
      "19    Conference Paper  Making sense of a healthcare forum - Smart key...   \n",
      "20             Article  Understanding topics and sentiment in an onlin...   \n",
      "21             Article  Who blogs what: Understanding the publishing b...   \n",
      "22    Conference Paper  Recommendation in reciprocal and bipartite soc...   \n",
      "23             Chapter  Exploring barriers to coordination between hum...   \n",
      "24             Article  Simulating inter-organizational collaboration ...   \n",
      "25             Article  A descriptive study of the prevalence and typo...   \n",
      "26             Article  A prospective examination of online social net...   \n",
      "27             Article  The state and evolution of U.S. iSchools: From...   \n",
      "28              Review  Analyzing and predicting user participations i...   \n",
      "29             Article  A multirelational social network analysis of a...   \n",
      "30             Article  Early Predictions of Movie Success: The Who, W...   \n",
      "31    Conference Paper  Investigating regional prejudice in China thro...   \n",
      "32    Conference Paper  The evolution and diffusion of user roles in o...   \n",
      "33             Article  Leader identification in an online health comm...   \n",
      "34             Article  System Informatics: From Methodology to Applic...   \n",
      "35    Conference Paper  The diffusion of user roles via social network...   \n",
      "36    Conference Paper  Early prediction of movie success-what, who, a...   \n",
      "37    Conference Paper  The evolution of user roles in online health c...   \n",
      "38    Conference Paper  The structure and dynamics of a multi-relation...   \n",
      "\n",
      "        volume  \n",
      "0            7  \n",
      "1           78  \n",
      "2           12  \n",
      "3           68  \n",
      "4           19  \n",
      "5           18  \n",
      "6           33  \n",
      "7   10047 LNCS  \n",
      "8         None  \n",
      "9           13  \n",
      "10          30  \n",
      "11        None  \n",
      "12        9021  \n",
      "13        None  \n",
      "14        None  \n",
      "15        None  \n",
      "16          29  \n",
      "17   8549 LNCS  \n",
      "18          21  \n",
      "19           3  \n",
      "20        None  \n",
      "21          16  \n",
      "22   7812 LNCS  \n",
      "23        None  \n",
      "24          88  \n",
      "25          78  \n",
      "26          12  \n",
      "27          68  \n",
      "28          19  \n",
      "29          18  \n",
      "30          33  \n",
      "31  10047 LNCS  \n",
      "32        None  \n",
      "33          13  \n",
      "34          30  \n",
      "35        None  \n",
      "36        9021  \n",
      "37        None  \n",
      "38        None  \n"
     ]
    }
   ],
   "source": [
    "print(kang_pub_df)"
   ]
  },
  {
   "cell_type": "markdown",
   "metadata": {},
   "source": [
    "### Abstract retrieval"
   ]
  },
  {
   "cell_type": "code",
   "execution_count": 15,
   "metadata": {
    "ExecuteTime": {
     "end_time": "2017-12-28T05:40:45.314288Z",
     "start_time": "2017-12-28T05:40:44.839670Z"
    }
   },
   "outputs": [],
   "source": [
    "pub_info = scopus.retrieve_abstract('84905286162')"
   ]
  },
  {
   "cell_type": "code",
   "execution_count": 16,
   "metadata": {
    "ExecuteTime": {
     "end_time": "2017-12-28T05:40:46.397626Z",
     "start_time": "2017-12-28T05:40:46.394545Z"
    }
   },
   "outputs": [
    {
     "data": {
      "text/plain": [
       "{'abstract': \"Online health communities (OHCs) have become a major source of support for people with health problems. This research tries to improve our understanding of social influence and to identify influential users in OHCs. The outcome can facilitate OHC management, improve community sustainability, and eventually benefit OHC users. Through text mining and sentiment analysis of users' online interactions, the research revealed sentiment dynamics in threaded discussions. A novel metric--the number of influential responding replies--was proposed to directly measure a user's ability to affect the sentiment of others. Using the dataset from a popular OHC, the research demonstrated that the proposed metric is highly effective in identifying influential users. In addition, combining the metric with other traditional measures further improves the identification of influential users. Published by the BMJ Publishing Group Limited. For permission to use (where not already granted under a licence) please go to http://group.bmj.com/group/rights-licensing/permissions.\",\n",
       " 'citedby-count': '29',\n",
       " 'eid': '2-s2.0-84905286162',\n",
       " 'prism:aggregationType': 'Journal',\n",
       " 'prism:coverDate': '2014-01-01',\n",
       " 'prism:doi': '10.1136/amiajnl-2013-002282',\n",
       " 'prism:issn': '1527974X',\n",
       " 'prism:issueIdentifier': 'e2',\n",
       " 'prism:publicationName': 'Journal of the American Medical Informatics Association : JAMIA',\n",
       " 'prism:url': 'http://api.elsevier.com/content/abstract/scopus_id/84905286162',\n",
       " 'prism:volume': '21',\n",
       " 'pubmed-id': '24449805',\n",
       " 'scopus-id': '84905286162',\n",
       " 'source-id': '23600',\n",
       " 'srctype': 'j',\n",
       " 'title': 'Finding influential users of online health communities: a new metric based on sentiment influence.'}"
      ]
     },
     "execution_count": 16,
     "metadata": {},
     "output_type": "execute_result"
    }
   ],
   "source": [
    "pub_info"
   ]
  },
  {
   "cell_type": "markdown",
   "metadata": {},
   "source": [
    "<hr>"
   ]
  },
  {
   "cell_type": "markdown",
   "metadata": {},
   "source": [
    "Note that __Searching for articles in specific journals (venues) is not supported anymore since this can be easily done by `general search`__."
   ]
  },
  {
   "cell_type": "markdown",
   "metadata": {},
   "source": [
    "<hr>"
   ]
  },
  {
   "cell_type": "markdown",
   "metadata": {},
   "source": [
    "### Citation count retrieval"
   ]
  },
  {
   "cell_type": "markdown",
   "metadata": {},
   "source": [
    "__Note that the use of `citation overview API` needs to be approved by Elsevier.__"
   ]
  },
  {
   "cell_type": "code",
   "execution_count": 7,
   "metadata": {
    "ExecuteTime": {
     "end_time": "2017-12-28T05:44:49.015552Z",
     "start_time": "2017-12-28T05:44:48.499697Z"
    }
   },
   "outputs": [
    {
     "name": "stderr",
     "output_type": "stream",
     "text": [
      "/mnt/nfs/rdss/nstreet/zhiyzuo/python-scopus/pyscopus/utils.py:36: FutureWarning: '.reindex_axis' is deprecated and will be removed in a future version. Use '.reindex' instead.\n",
      "  return citation_df.reindex_axis(sorted(citation_df.columns), axis=1)\n"
     ]
    }
   ],
   "source": [
    "pub_citations_df = scopus.retrieve_citation(scopus_id_array=['84905286162', '0141607824'],\n",
    "                                            year_range=[2010, 2014])"
   ]
  },
  {
   "cell_type": "code",
   "execution_count": 8,
   "metadata": {
    "ExecuteTime": {
     "end_time": "2017-12-28T05:44:53.983659Z",
     "start_time": "2017-12-28T05:44:53.976559Z"
    }
   },
   "outputs": [
    {
     "name": "stdout",
     "output_type": "stream",
     "text": [
      "  2010 2011  2012  2013  2014           id later-citation previous-citation  \\\n",
      "0  596  802  1057  1323  1451   0141607824           5324               905   \n",
      "1    0    0     0     0     3  84905286162             26                 0   \n",
      "\n",
      "  total-citation  \n",
      "0          11458  \n",
      "1             29  \n"
     ]
    }
   ],
   "source": [
    "print(pub_citations_df)"
   ]
  }
 ],
 "metadata": {
  "kernelspec": {
   "display_name": "Python 3",
   "language": "python",
   "name": "python3"
  },
  "language_info": {
   "codemirror_mode": {
    "name": "ipython",
    "version": 3
   },
   "file_extension": ".py",
   "mimetype": "text/x-python",
   "name": "python",
   "nbconvert_exporter": "python",
   "pygments_lexer": "ipython3",
   "version": "3.6.3"
  },
  "toc": {
   "nav_menu": {},
   "number_sections": true,
   "sideBar": true,
   "skip_h1_title": false,
   "toc_cell": false,
   "toc_position": {
    "height": "823px",
    "left": "0px",
    "right": "1468px",
    "top": "126px",
    "width": "212px"
   },
   "toc_section_display": "block",
   "toc_window_display": true
  },
  "varInspector": {
   "cols": {
    "lenName": 16,
    "lenType": 16,
    "lenVar": 40
   },
   "kernels_config": {
    "python": {
     "delete_cmd_postfix": "",
     "delete_cmd_prefix": "del ",
     "library": "var_list.py",
     "varRefreshCmd": "print(var_dic_list())"
    },
    "r": {
     "delete_cmd_postfix": ") ",
     "delete_cmd_prefix": "rm(",
     "library": "var_list.r",
     "varRefreshCmd": "cat(var_dic_list()) "
    }
   },
   "types_to_exclude": [
    "module",
    "function",
    "builtin_function_or_method",
    "instance",
    "_Feature"
   ],
   "window_display": false
  }
 },
 "nbformat": 4,
 "nbformat_minor": 2
}
